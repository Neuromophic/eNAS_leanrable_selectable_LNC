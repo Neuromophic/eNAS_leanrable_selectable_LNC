{
 "cells": [
  {
   "cell_type": "code",
   "execution_count": 2,
   "id": "ef292e84-6753-4a3a-afbc-838b88099bb1",
   "metadata": {
    "tags": []
   },
   "outputs": [],
   "source": [
    "with open(f'run_baseline_pNN.sh', 'w') as f:\n",
    "    for ds in range(13):\n",
    "        line = f'sbatch experiment.py --DATASET {ds} --skipconnection False --areaestimator none  --projectname Baseline\\n'\n",
    "        f.write(line)"
   ]
  },
  {
   "cell_type": "code",
   "execution_count": 3,
   "id": "1b77015c-5e19-420e-950c-c09d7316493b",
   "metadata": {
    "tags": []
   },
   "outputs": [],
   "source": [
    "import numpy as np\n",
    "gammas = np.linspace(0,1,50)\n",
    "gammas = np.round(gammas, 5)\n",
    "gammas = np.unique(gammas)\n",
    "\n",
    "for ds in range(13):\n",
    "    with open(f'run_area_aware_training_{ds:02d}.sh', 'w') as f:\n",
    "        for gamma in gammas:\n",
    "            line = f'sbatch experiment.py --DATASET {ds} --skipconnection True --areaestimator area --areabalance {gamma:.5f}  --projectname AreaAwareTraining\\n'\n",
    "            f.write(line)"
   ]
  },
  {
   "cell_type": "code",
   "execution_count": 4,
   "id": "ba129875",
   "metadata": {},
   "outputs": [],
   "source": [
    "import numpy as np\n",
    "gammas = np.linspace(0,1,50)\n",
    "gammas = np.round(gammas, 5)\n",
    "gammas = np.unique(gammas)\n",
    "\n",
    "for ds in range(13):\n",
    "    with open(f'run_area_aware_neat_{ds:02d}.sh', 'w') as f:\n",
    "        for gamma in gammas:\n",
    "            line = f'sbatch experiment_EA.py --DATASET {ds} --areabalance {gamma:.5f}  --projectname AwareAwareNEAT\\n'\n",
    "            f.write(line)"
   ]
  },
  {
   "cell_type": "code",
   "execution_count": 1,
   "id": "0f7e2fc2-917b-4ba8-809e-8b3e2cafc93d",
   "metadata": {},
   "outputs": [],
   "source": [
    "with open('evaluation_baseline_area.sh', 'w') as f:\n",
    "    for ds in range(13):\n",
    "        line = f'sbatch evaluation.py --DATASET {ds}  --areaestimator none --DEVICE cpu\\n'\n",
    "        f.write(line)"
   ]
  },
  {
   "cell_type": "code",
   "execution_count": 1,
   "id": "e188da6b-5565-4214-bfef-3043bc85b4b7",
   "metadata": {},
   "outputs": [],
   "source": []
  },
  {
   "cell_type": "code",
   "execution_count": 2,
   "id": "4a60fbd2-f983-43b3-9ac9-ef91260c2f99",
   "metadata": {},
   "outputs": [],
   "source": [
    "gammas = np.linspace(0,1,50)\n",
    "gammas = np.round(gammas, 5)\n",
    "gammas = np.unique(gammas)"
   ]
  },
  {
   "cell_type": "code",
   "execution_count": 3,
   "id": "63618379-e1fe-447a-a737-5193794c8b9d",
   "metadata": {
    "tags": []
   },
   "outputs": [
    {
     "data": {
      "text/plain": [
       "array([0.     , 0.02041, 0.04082, 0.06122, 0.08163, 0.10204, 0.12245,\n",
       "       0.14286, 0.16327, 0.18367, 0.20408, 0.22449, 0.2449 , 0.26531,\n",
       "       0.28571, 0.30612, 0.32653, 0.34694, 0.36735, 0.38776, 0.40816,\n",
       "       0.42857, 0.44898, 0.46939, 0.4898 , 0.5102 , 0.53061, 0.55102,\n",
       "       0.57143, 0.59184, 0.61224, 0.63265, 0.65306, 0.67347, 0.69388,\n",
       "       0.71429, 0.73469, 0.7551 , 0.77551, 0.79592, 0.81633, 0.83673,\n",
       "       0.85714, 0.87755, 0.89796, 0.91837, 0.93878, 0.95918, 0.97959,\n",
       "       1.     ])"
      ]
     },
     "execution_count": 3,
     "metadata": {},
     "output_type": "execute_result"
    }
   ],
   "source": [
    "gammas"
   ]
  },
  {
   "cell_type": "code",
   "execution_count": null,
   "id": "f379436a-3519-4eac-9b60-2275cd1f9004",
   "metadata": {},
   "outputs": [],
   "source": []
  }
 ],
 "metadata": {
  "kernelspec": {
   "display_name": "ML",
   "language": "python",
   "name": "ml"
  },
  "language_info": {
   "codemirror_mode": {
    "name": "ipython",
    "version": 3
   },
   "file_extension": ".py",
   "mimetype": "text/x-python",
   "name": "python",
   "nbconvert_exporter": "python",
   "pygments_lexer": "ipython3",
   "version": "3.8.13"
  }
 },
 "nbformat": 4,
 "nbformat_minor": 5
}
