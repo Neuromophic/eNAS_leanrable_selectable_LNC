{
 "cells": [
  {
   "cell_type": "code",
   "execution_count": 1,
   "id": "d3709013-e2ef-4ee7-8e7d-a1f21cf476fd",
   "metadata": {},
   "outputs": [],
   "source": [
    "def WriteHeader(f, TaskName):\n",
    "    f.write(\"#!/bin/bash\\n\\n\")\n",
    "    f.write(\"#SBATCH --partition=single\\n\")\n",
    "    f.write(\"#SBATCH --ntasks-per-node=26\\n\")\n",
    "    f.write(\"#SBATCH --time=72:00:00\\n\")\n",
    "    f.write(f\"#SBATCH --job-name={TaskName}\\n\")\n",
    "    f.write(\"#SBATCH --error=%x.%j.err\\n\")\n",
    "    f.write(\"#SBATCH --output=%x.%j.out\\n\")\n",
    "    f.write(\"#SBATCH --mail-user=hzhao@teco.edu\\n\\n\")"
   ]
  },
  {
   "cell_type": "code",
   "execution_count": 8,
   "id": "c15acb8b-c575-449a-a938-6a028b4d1885",
   "metadata": {},
   "outputs": [],
   "source": [
    "def WriteHeader(f, TaskName):\n",
    "    f.write(\"#!/bin/bash\\n\\n\")\n",
    "    f.write(\"#SBATCH --partition=multiple\\n\")\n",
    "    f.write(\"#SBATCH --nodes=2\\n\")\n",
    "    f.write(\"#SBATCH --ntasks-per-node=40\\n\")\n",
    "    f.write(\"#SBATCH --mem-per-cpu=1125mb\\n\")\n",
    "    f.write(\"#SBATCH --time=72:00:00\\n\")\n",
    "    f.write(f\"#SBATCH --job-name={TaskName}\\n\")\n",
    "    f.write(\"#SBATCH --error=%x.%j.err\\n\")\n",
    "    f.write(\"#SBATCH --output=%x.%j.out\\n\")\n",
    "    f.write(\"#SBATCH --mail-user=hzhao@teco.edu\\n\\n\")"
   ]
  },
  {
   "cell_type": "code",
   "execution_count": 15,
   "id": "ef292e84-6753-4a3a-afbc-838b88099bb1",
   "metadata": {
    "tags": []
   },
   "outputs": [],
   "source": [
    "for epsilon in [0., 0.05, 0.1]:\n",
    "    with open(f'run_baseline_pNN_{epsilon}_2.sh', 'w') as f:\n",
    "        WriteHeader(f, f'pNN{epsilon}')\n",
    "        for ds in range(13):\n",
    "            for seed in range(10):\n",
    "                line = f'python3 experiment.py --DATASET {ds:02d} --SEED {seed:02d} --e_train {epsilon} --projectname VariationAwareTraining &\\n'\n",
    "                f.write(line)\n",
    "        f.write(\"\\nwait\\n\")"
   ]
  },
  {
   "cell_type": "code",
   "execution_count": 4,
   "id": "1bbf41aa-004c-4d52-94c6-32948d4622d4",
   "metadata": {},
   "outputs": [],
   "source": [
    "for epsilon in [0., 0.05, 0.1]:\n",
    "    with open(f'run_baseline_PNN_{epsilon}_2.sh', 'w') as f:\n",
    "        WriteHeader(f, f'pNN{epsilon}')\n",
    "        for ds in range(13):\n",
    "            for seed in range(10):\n",
    "                line = f'python3 experiment.py --DATASET {ds:02d} --SEED {seed:02d} --e_train {epsilon} --projectname VariationAwareBaseline &\\n'\n",
    "                f.write(line)\n",
    "        f.write(\"\\nwait\\n\")"
   ]
  },
  {
   "cell_type": "code",
   "execution_count": 9,
   "id": "1b77015c-5e19-420e-950c-c09d7316493b",
   "metadata": {
    "tags": []
   },
   "outputs": [],
   "source": [
    "def write_jobs(f, job_counter, epsilon, ds, seed):\n",
    "    line = f'python3 experiment.py --DATASET {ds:02d} --SEED {seed:02d} --e_train {epsilon} --projectname VariationAwareTraining &\\n'\n",
    "    f.write(line)\n",
    "    job_counter += 1\n",
    "    return job_counter\n",
    "\n",
    "job_counter = 0\n",
    "file_counter = 1\n",
    "\n",
    "for epsilon in [0., 0.05, 0.1]:\n",
    "    # Open the first file for the current epsilon\n",
    "    f = open(f'run_baseline_pNN_{epsilon}_{file_counter}.sh', 'w')\n",
    "    WriteHeader(f, f'EAI{epsilon}')\n",
    "\n",
    "    for ds in range(13):\n",
    "        for seed in range(10):\n",
    "            if job_counter >= 80:\n",
    "                # Close the current file and reset the job counter\n",
    "                f.write(\"\\nwait\\n\")\n",
    "                f.close()\n",
    "                file_counter += 1\n",
    "                job_counter = 0\n",
    "                \n",
    "                # Open a new file\n",
    "                f = open(f'run_baseline_pNN_{epsilon}_{file_counter}.sh', 'w')\n",
    "                WriteHeader(f, f'pNN{epsilon}')\n",
    "            \n",
    "            job_counter = write_jobs(f, job_counter, epsilon, ds, seed)\n",
    "\n",
    "    # If the loop exits but there are still jobs that haven't been written to a closed file\n",
    "    if not f.closed:\n",
    "        f.write(\"\\nwait\\n\")\n",
    "        f.close()\n",
    "        job_counter = 0  # Reset the job counter for the next epsilon\n",
    "        file_counter = 1  # Reset file counter for the next epsilon\n"
   ]
  },
  {
   "cell_type": "code",
   "execution_count": 2,
   "id": "639f3d10-25bc-4e7c-ba47-7745ccc2cbb6",
   "metadata": {},
   "outputs": [],
   "source": [
    "def write_jobs(f, job_counter, epsilon, ds, seed):\n",
    "    line = f'python3 experiment_EA.py --DATASET {ds:02d} --SEED {seed:02d} --e_train {epsilon} --projectname VariationAware_EA &\\n'\n",
    "    f.write(line)\n",
    "    job_counter += 1\n",
    "    return job_counter\n",
    "\n",
    "job_counter = 0\n",
    "file_counter = 1\n",
    "\n",
    "for epsilon in [0., 0.05, 0.1]:\n",
    "    # Open the first file for the current epsilon\n",
    "    f = open(f'run_EA_independent_{epsilon}_{file_counter}.sh', 'w')\n",
    "    WriteHeader(f, f'EAI{epsilon}')\n",
    "\n",
    "    for ds in range(13):\n",
    "        for seed in range(10):\n",
    "            if job_counter >= 26:\n",
    "                # Close the current file and reset the job counter\n",
    "                f.write(\"\\nwait\\n\")\n",
    "                f.close()\n",
    "                file_counter += 1\n",
    "                job_counter = 0\n",
    "                \n",
    "                # Open a new file\n",
    "                f = open(f'run_EA_independent_{epsilon}_{file_counter}.sh', 'w')\n",
    "                WriteHeader(f, f'EAI{epsilon}')\n",
    "            \n",
    "            job_counter = write_jobs(f, job_counter, epsilon, ds, seed)\n",
    "\n",
    "    # If the loop exits but there are still jobs that haven't been written to a closed file\n",
    "    if not f.closed:\n",
    "        f.write(\"\\nwait\\n\")\n",
    "        f.close()\n",
    "        job_counter = 0  # Reset the job counter for the next epsilon\n",
    "        file_counter = 1  # Reset file counter for the next epsilon\n"
   ]
  },
  {
   "cell_type": "code",
   "execution_count": 7,
   "id": "e195fe33-0cf7-4e41-8399-c2e574054d16",
   "metadata": {},
   "outputs": [],
   "source": [
    "def write_jobs(f, job_counter, epsilon, ds, seed):\n",
    "    line = f'python3 experiment_EA_shared.py --DATASET {ds:02d} --SEED {seed:02d} --e_train {epsilon} --projectname VariationAware_EA_shared &\\n'\n",
    "    f.write(line)\n",
    "    job_counter += 1\n",
    "    return job_counter\n",
    "\n",
    "job_counter = 0\n",
    "file_counter = 1\n",
    "\n",
    "for epsilon in [0., 0.05, 0.1]:\n",
    "    # Open the first file for the current epsilon\n",
    "    f = open(f'run_EA_shared_{epsilon}_{file_counter}.sh', 'w')\n",
    "    WriteHeader(f, f'EAS{epsilon}')\n",
    "\n",
    "    for ds in range(13):\n",
    "        for seed in range(10):\n",
    "            if job_counter >= 16:\n",
    "                # Close the current file and reset the job counter\n",
    "                f.write(\"\\nwait\\n\")\n",
    "                f.close()\n",
    "                file_counter += 1\n",
    "                job_counter = 0\n",
    "                \n",
    "                # Open a new file\n",
    "                f = open(f'run_EA_shared_{epsilon}_{file_counter}.sh', 'w')\n",
    "                WriteHeader(f, f'EAS{epsilon}')\n",
    "            \n",
    "            job_counter = write_jobs(f, job_counter, epsilon, ds, seed)\n",
    "\n",
    "    # If the loop exits but there are still jobs that haven't been written to a closed file\n",
    "    if not f.closed:\n",
    "        f.write(\"\\nwait\\n\")\n",
    "        f.close()\n",
    "        job_counter = 0  # Reset the job counter for the next epsilon\n",
    "        file_counter = 1  # Reset file counter for the next epsilon\n"
   ]
  },
  {
   "cell_type": "code",
   "execution_count": 1,
   "id": "0f7e2fc2-917b-4ba8-809e-8b3e2cafc93d",
   "metadata": {},
   "outputs": [],
   "source": [
    "with open('evaluation_baseline_area.sh', 'w') as f:\n",
    "    for ds in range(13):\n",
    "        line = f'sbatch evaluation.py --DATASET {ds}  --areaestimator none --DEVICE cpu\\n'\n",
    "        f.write(line)"
   ]
  }
 ],
 "metadata": {
  "kernelspec": {
   "display_name": "pNN",
   "language": "python",
   "name": "pnn"
  },
  "language_info": {
   "codemirror_mode": {
    "name": "ipython",
    "version": 3
   },
   "file_extension": ".py",
   "mimetype": "text/x-python",
   "name": "python",
   "nbconvert_exporter": "python",
   "pygments_lexer": "ipython3",
   "version": "3.9.16"
  }
 },
 "nbformat": 4,
 "nbformat_minor": 5
}
