{
 "cells": [
  {
   "cell_type": "code",
   "execution_count": null,
   "id": "32051c73-71f9-4847-825b-57a0e1daf2d1",
   "metadata": {},
   "outputs": [],
   "source": [
    "import torch\n",
    "from torch.utils.data import TensorDataset\n",
    "from torch.utils.data import DataLoader\n",
    "import pickle\n",
    "import numpy as np\n",
    "import training\n",
    "import config\n",
    "import matplotlib.pyplot as plt\n",
    "import FigureConfig as FC\n",
    "import pandas\n",
    "from scipy import optimize as op\n",
    "import math"
   ]
  },
  {
   "cell_type": "code",
   "execution_count": null,
   "id": "93fdbe4f-ebe3-4255-9ff1-598b6d226274",
   "metadata": {},
   "outputs": [],
   "source": [
    "with open('./data/act_dataset.p', 'rb') as file:\n",
    "    a = pickle.load(file)"
   ]
  },
  {
   "cell_type": "code",
   "execution_count": null,
   "id": "658c7714-e526-4749-b6d1-be052a0bcfc6",
   "metadata": {},
   "outputs": [],
   "source": [
    "X, Y = a['X'], a['Y']\n",
    "Xn, Yn = a['Xn'], a['Yn']\n",
    "X_min, X_max = a['X_min'], a['X_max']\n",
    "Y_min, Y_max = a['Y_min'], a['Y_max']\n",
    "\n",
    "X_learn, Y_learn = a['X_learn'], a['Y_learn']\n",
    "X_train, Y_train = a['X_train'], a['Y_train']\n",
    "X_valid, Y_valid = a['X_valid'], a['Y_valid']\n",
    "X_test , Y_test  = a['X_test'] , a['Y_test']\n",
    "\n",
    "Xn_learn, Yn_learn = a['Xn_learn'], a['Yn_learn']\n",
    "Xn_train, Yn_train = a['Xn_train'], a['Yn_train']\n",
    "Xn_valid, Yn_valid = a['Xn_valid'], a['Yn_valid']\n",
    "Xn_test , Yn_test  = a['Xn_test'] , a['Yn_test']"
   ]
  },
  {
   "cell_type": "markdown",
   "id": "98df41e9-1307-493a-b21c-eb12240e5dba",
   "metadata": {},
   "source": [
    "# Convert `X` with unit ${\\rm [kOhm,\\, kOhm,\\, \\mu m,\\, \\mu m, \\mu m,\\, \\mu m]}$"
   ]
  },
  {
   "cell_type": "code",
   "execution_count": null,
   "id": "b7a1f91d-f955-492f-a779-e69c87f42d49",
   "metadata": {},
   "outputs": [],
   "source": [
    "X_show = X[:,:6]\n",
    "X_show[:,0] = X_show[:,0]/1e3\n",
    "X_show[:,1] = X_show[:,1]/1e3\n",
    "X_show[:,2] = X_show[:,2]*1e6\n",
    "X_show[:,3] = X_show[:,3]*1e6\n",
    "X_show[:,4] = X_show[:,4]*1e6\n",
    "X_show[:,5] = X_show[:,5]*1e6\n",
    "X = X_show\n",
    "X"
   ]
  },
  {
   "cell_type": "markdown",
   "id": "6989997c-6ce5-47c9-bc4e-899da25652a1",
   "metadata": {},
   "source": [
    "# Visualization of inv"
   ]
  },
  {
   "cell_type": "code",
   "execution_count": null,
   "id": "6ecbd0bc-5a23-4031-8059-7973fd24da1f",
   "metadata": {},
   "outputs": [],
   "source": [
    "def ptanh(eta):\n",
    "    x = torch.linspace(-2,2,1000)\n",
    "    y = eta[0] + eta[1] * torch.tanh((x - eta[2]) * eta[3])\n",
    "    return x, y"
   ]
  },
  {
   "cell_type": "code",
   "execution_count": null,
   "id": "ce8967d4-ee29-4aea-9c72-66d7904ad81e",
   "metadata": {},
   "outputs": [],
   "source": [
    "x1 = np.linspace(-2,2,100)\n",
    "y1 = x1 * 0.\n",
    "y2 = np.linspace(-2,2,100)\n",
    "x2 = y2 * 0.\n",
    "\n",
    "act_vis = [76, 95, 169]"
   ]
  },
  {
   "cell_type": "code",
   "execution_count": null,
   "id": "2fdb187a-7537-4a9b-ad0d-4a80bba43fec",
   "metadata": {
    "tags": []
   },
   "outputs": [],
   "source": [
    "act_vis = [2107,9115,1800]"
   ]
  },
  {
   "cell_type": "code",
   "execution_count": null,
   "id": "bc0119f9-a66c-41de-8b44-53c7e76618d0",
   "metadata": {},
   "outputs": [],
   "source": [
    "plt.figure(figsize=[6,3.9])\n",
    "for idx, i in enumerate(act_vis):\n",
    "    plt.plot(x1,y1,'--',c='gray')\n",
    "    plt.plot(x2,y2,'--',c='gray')\n",
    "    plt.plot(ptanh(Y[i,:])[0], ptanh(Y[i,:])[1], lw=3, c=FC.liste[idx+6])\n",
    "    plt.xticks([-2, -1, 0, 1, 2], ['-2', '-1', '0', '1', '2'], fontsize=15)\n",
    "    plt.yticks([ -1, -0.5, 0, 0.5, 1, 1.5], ['-1', '-0.5', '0', '0.5', '1', '1.5'], fontsize=15)\n",
    "    plt.xlim([-2,2])\n",
    "    plt.ylim([-1.2, 1.2])\n",
    "plt.savefig(f'../../figures/ACT_example.pdf', format='pdf', bbox_inches='tight')\n",
    "plt.show()"
   ]
  },
  {
   "cell_type": "code",
   "execution_count": null,
   "id": "e8a9ccb9-c681-4fb1-8630-58eaa7c93e99",
   "metadata": {
    "tags": []
   },
   "outputs": [],
   "source": [
    "X[act_vis,:]"
   ]
  },
  {
   "cell_type": "markdown",
   "id": "36d51244-6ef1-4ee0-bf75-58c0178cc7dc",
   "metadata": {},
   "source": [
    "# Visualization for NN"
   ]
  },
  {
   "cell_type": "code",
   "execution_count": null,
   "id": "99a35e2a-5f24-4d54-8df0-6bfb62bb0ddb",
   "metadata": {},
   "outputs": [],
   "source": [
    "X, Y = a['X'], a['Y']\n",
    "Xn, Yn = a['Xn'], a['Yn']\n",
    "X_min, X_max = a['X_min'], a['X_max']\n",
    "Y_min, Y_max = a['Y_min'], a['Y_max']\n",
    "\n",
    "X_learn, Y_learn = a['X_learn'], a['Y_learn']\n",
    "X_train, Y_train = a['X_train'], a['Y_train']\n",
    "X_valid, Y_valid = a['X_valid'], a['Y_valid']\n",
    "X_test , Y_test  = a['X_test'] , a['Y_test']\n",
    "\n",
    "Xn_learn, Yn_learn = a['Xn_learn'], a['Yn_learn']\n",
    "Xn_train, Yn_train = a['Xn_train'], a['Yn_train']\n",
    "Xn_valid, Yn_valid = a['Xn_valid'], a['Yn_valid']\n",
    "Xn_test , Yn_test  = a['Xn_test'] , a['Yn_test']"
   ]
  },
  {
   "cell_type": "code",
   "execution_count": null,
   "id": "ea5ad689-8109-4385-9c6b-336a55a767cf",
   "metadata": {},
   "outputs": [],
   "source": [
    "eta_estimator = torch.load(f'../../LNC/NN/model.nlc')"
   ]
  },
  {
   "cell_type": "code",
   "execution_count": null,
   "id": "5aea8078-9f5c-4ddb-bd20-c1df16f43a8d",
   "metadata": {},
   "outputs": [],
   "source": [
    "prediction_train = eta_estimator(Xn_train)\n",
    "prediction_valid = eta_estimator(Xn_valid)\n",
    "prediction_test = eta_estimator(Xn_test)\n",
    "\n",
    "lossfunction = torch.nn.MSELoss()\n",
    "loss_train = lossfunction(Yn_train, prediction_train)\n",
    "loss_valid = lossfunction(Yn_valid, prediction_valid)\n",
    "loss_test  = lossfunction(Yn_test,  prediction_test)\n",
    "\n",
    "plt.figure()\n",
    "# plt.plot(np.linspace(0,1,100), np.linspace(0,1,100),  c='black')\n",
    "plt.scatter(Yn_train[::100].flatten().numpy(), prediction_train[::100].detach().flatten().numpy(), s=2, color=FC.Blue, label=f'train_loss: {loss_train:.2e}')\n",
    "plt.scatter(Yn_valid[::100].flatten().numpy(), prediction_valid[::100].detach().flatten().numpy(), s=2, color=FC.Green, label=f'valid_loss: {loss_valid:.2e}')\n",
    "plt.scatter(Yn_test[::100].flatten().numpy(), prediction_test[::100].detach().flatten().numpy(), s=2, color=FC.Pink, label=f'test_loss: {loss_test:.2e}')\n",
    "plt.xlim([0, 1])\n",
    "plt.ylim([0, 1])\n",
    "ax = plt.gca()\n",
    "ax.set_aspect(1)\n",
    "plt.xticks([0, 0.25, 0.5, 0.75, 1], ['0', '0.25', '0.5', '0.75', '1'], fontsize=15)\n",
    "plt.yticks([0, 0.25, 0.5, 0.75, 1], ['0', '0.25', '0.5', '0.75', '1'], fontsize=15)\n",
    "# plt.legend(fontsize=12)\n",
    "plt.savefig(f'../../figures/final_INV_result.pdf', format='pdf', bbox_inches='tight')\n",
    "plt.show()"
   ]
  },
  {
   "cell_type": "code",
   "execution_count": null,
   "id": "79dcae61-16fc-4f54-981a-0e2b05a12c07",
   "metadata": {},
   "outputs": [],
   "source": [
    "plt.figure()\n",
    "plt.scatter(Yn_train.flatten().numpy(), prediction_train.detach().flatten().numpy()*0-1, s=30, color=FC.Blue, label=f'train data')\n",
    "plt.scatter(Yn_valid.flatten().numpy(), prediction_valid.detach().flatten().numpy()*0-1, s=30, color=FC.Green, label=f'valid data')\n",
    "plt.scatter(Yn_test.flatten().numpy(), prediction_test.detach().flatten().numpy()*0-1, s=30, color=FC.Pink, label=f'test data')\n",
    "plt.xlim([0, 1])\n",
    "plt.ylim([0, 1])\n",
    "ax = plt.gca()\n",
    "ax.set_aspect(1)\n",
    "plt.legend(fontsize=12)\n",
    "plt.savefig(f'../../figures/final_INV_legend.pdf', format='pdf', bbox_inches='tight')\n",
    "plt.show()"
   ]
  },
  {
   "cell_type": "code",
   "execution_count": null,
   "id": "212cc590-708d-48ed-819f-97c53a8fce9e",
   "metadata": {},
   "outputs": [],
   "source": [
    "plt.figure()\n",
    "plt.scatter(Yn_train.flatten().numpy(), prediction_train.detach().flatten().numpy()*0-1, s=0, color=FC.Blue, label=f'Train loss: {loss_train:.2e}')\n",
    "plt.scatter(Yn_valid.flatten().numpy(), prediction_valid.detach().flatten().numpy()*0-1, s=0, color=FC.Green, label=f'Valid loss: {loss_valid:.2e}')\n",
    "plt.scatter(Yn_test.flatten().numpy(), prediction_test.detach().flatten().numpy()*0-1, s=0, color=FC.Pink, label=f'Test  loss: {loss_test:.2e}')\n",
    "plt.xlim([0, 1])\n",
    "plt.ylim([0, 1])\n",
    "ax = plt.gca()\n",
    "ax.set_aspect(1)\n",
    "plt.xticks([0, 0.25, 0.5, 0.75, 1], ['0', '0.25', '0.5', '0.75', '1'], fontsize=15)\n",
    "plt.yticks([0, 0.25, 0.5, 0.75, 1], ['0', '0.25', '0.5', '0.75', '1'], fontsize=15)\n",
    "plt.legend(fontsize=12)\n",
    "plt.savefig(f'../../figures/final_INV_value.pdf', format='pdf', bbox_inches='tight')\n",
    "plt.show()"
   ]
  },
  {
   "cell_type": "markdown",
   "id": "dbb61b36-0569-458a-9fc9-4b6e6bd9e26f",
   "metadata": {},
   "source": [
    "# Visualization for fitting"
   ]
  },
  {
   "cell_type": "code",
   "execution_count": null,
   "id": "f8ef3ab3-e020-48a2-9421-ed09ecb53c2a",
   "metadata": {},
   "outputs": [],
   "source": [
    "data = pandas.read_csv('../result/invW_10000.csv')\n",
    "npdata = data.to_numpy()"
   ]
  },
  {
   "cell_type": "code",
   "execution_count": null,
   "id": "0f27b25a-040b-4069-923f-39d27142d730",
   "metadata": {},
   "outputs": [],
   "source": [
    "def f(x, eta1,eta2,eta3,eta4):\n",
    "    return eta1 +eta2*np.tanh((x-eta3)*eta4)\n",
    "x=np.linspace(-2,2,4001)"
   ]
  },
  {
   "cell_type": "code",
   "execution_count": null,
   "id": "1d832ff8-8a36-48f3-907b-b95b158a01cd",
   "metadata": {},
   "outputs": [],
   "source": [
    "example = 133\n",
    "f1 = npdata[:,example]\n",
    "eta1,eta2,eta3,eta4 = op.curve_fit(f, x, f1, p0=[0.,-1.,0.,-1.])[0]"
   ]
  },
  {
   "cell_type": "code",
   "execution_count": null,
   "id": "caa489e6-37b1-44a9-b847-a6a9a9aa7f2f",
   "metadata": {},
   "outputs": [],
   "source": [
    "N = 15\n",
    "l = np.linspace(0,1,N)\n",
    "y1 = l**2 * 2000\n",
    "y2 = - l[1:]**2 * 2000\n",
    "y2 = np.append(y2, y1)\n",
    "y2 = np.round(y2).astype(int)\n",
    "y2 = np.unique(y2)\n",
    "y2.sort()\n",
    "idx = y2 + 1900"
   ]
  },
  {
   "cell_type": "code",
   "execution_count": null,
   "id": "33421f09-a0f0-42c2-b2f5-b2e5de269863",
   "metadata": {},
   "outputs": [],
   "source": [
    "plt.figure()\n",
    "plt.scatter(x[idx], f1[idx],color=FC.Green,label='simulation', s=40)\n",
    "ys = eta1 + eta2 * np.tanh((x - eta3) * eta4)\n",
    "plt.plot(x, ys,color=FC.Pink,lw=3, label='fitting')\n",
    "plt.xticks([-2, -1, 0, 1, 2], ['-2', '-1', '0', '1', '2'], fontsize=15)\n",
    "plt.yticks([ -1, -0.5, 0, 0.5, 1, 1.5], ['-1', '-0.5', '0', '0.5', '1', '1.5'], fontsize=15)\n",
    "plt.xlim([-2,2])\n",
    "plt.ylim([-1.4, 1.2])\n",
    "plt.legend(fontsize=15)\n",
    "plt.savefig(f'../../figures/fitting.pdf', format='pdf', bbox_inches='tight')\n",
    "plt.show()"
   ]
  },
  {
   "cell_type": "code",
   "execution_count": null,
   "id": "d1cf4254-2dcf-45cb-8926-c1f1dc0f9136",
   "metadata": {},
   "outputs": [],
   "source": []
  },
  {
   "cell_type": "code",
   "execution_count": null,
   "id": "d5864cca-b42e-425f-9614-eb81b953a5fb",
   "metadata": {},
   "outputs": [],
   "source": []
  },
  {
   "cell_type": "code",
   "execution_count": null,
   "id": "a1005cbb-e55c-4a22-b467-3ed62ac8aca6",
   "metadata": {},
   "outputs": [],
   "source": []
  },
  {
   "cell_type": "code",
   "execution_count": null,
   "id": "2e0b400b-9a21-4197-89cc-df0d54855345",
   "metadata": {},
   "outputs": [],
   "source": []
  },
  {
   "cell_type": "code",
   "execution_count": null,
   "id": "52590e12-f235-4c81-af74-3382bb4beb9d",
   "metadata": {},
   "outputs": [],
   "source": []
  }
 ],
 "metadata": {
  "kernelspec": {
   "display_name": "pNN",
   "language": "python",
   "name": "pnn"
  },
  "language_info": {
   "codemirror_mode": {
    "name": "ipython",
    "version": 3
   },
   "file_extension": ".py",
   "mimetype": "text/x-python",
   "name": "python",
   "nbconvert_exporter": "python",
   "pygments_lexer": "ipython3",
   "version": "3.9.16"
  }
 },
 "nbformat": 4,
 "nbformat_minor": 5
}
