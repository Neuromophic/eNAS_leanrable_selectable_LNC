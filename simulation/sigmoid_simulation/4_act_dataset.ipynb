{
 "cells": [
  {
   "cell_type": "code",
   "execution_count": 1,
   "metadata": {},
   "outputs": [],
   "source": [
    "import os\n",
    "import math\n",
    "import torch\n",
    "import random\n",
    "import pickle\n",
    "import pandas\n",
    "import calendar\n",
    "import numpy as np\n",
    "import matplotlib.pyplot as plt\n",
    "from torch.utils.data import TensorDataset, DataLoader\n",
    "os.environ['KMP_DUPLICATE_LIB_OK']='True'\n",
    "torch.set_default_tensor_type(torch.FloatTensor)\n",
    "import config"
   ]
  },
  {
   "cell_type": "markdown",
   "metadata": {},
   "source": [
    "# Read and process data"
   ]
  },
  {
   "cell_type": "code",
   "execution_count": 2,
   "metadata": {},
   "outputs": [
    {
     "data": {
      "text/plain": [
       "torch.Size([9999, 8])"
      ]
     },
     "execution_count": 2,
     "metadata": {},
     "output_type": "execute_result"
    }
   ],
   "source": [
    "X = torch.load('./data/sigmoid_RT_ratio.data')\n",
    "X.shape"
   ]
  },
  {
   "cell_type": "code",
   "execution_count": 3,
   "metadata": {},
   "outputs": [],
   "source": [
    "X_max = torch.max(X, dim=0)[0]\n",
    "X_min = torch.min(X, dim=0)[0]"
   ]
  },
  {
   "cell_type": "code",
   "execution_count": 4,
   "metadata": {},
   "outputs": [
    {
     "data": {
      "text/plain": [
       "tensor([7.4995e+05, 7.9995e+04, 6.0000e-04, 2.0000e-04, 8.0000e-04, 8.0000e-05,\n",
       "        7.4875e+00, 1.9975e+01])"
      ]
     },
     "execution_count": 4,
     "metadata": {},
     "output_type": "execute_result"
    }
   ],
   "source": [
    "X_max"
   ]
  },
  {
   "cell_type": "code",
   "execution_count": 5,
   "metadata": {},
   "outputs": [
    {
     "data": {
      "text/plain": [
       "tensor([3.5005e+05, 4.0002e+04, 8.0000e-05, 8.0000e-05, 5.0000e-04, 4.0000e-05,\n",
       "        4.0816e-01, 6.2500e+00])"
      ]
     },
     "execution_count": 5,
     "metadata": {},
     "output_type": "execute_result"
    }
   ],
   "source": [
    "X_min"
   ]
  },
  {
   "cell_type": "code",
   "execution_count": 7,
   "metadata": {},
   "outputs": [
    {
     "data": {
      "text/plain": [
       "tensor([[0.7501, 0.2500, 0.2500,  ..., 0.7500, 0.2120, 0.2992],\n",
       "        [0.2499, 0.7501, 0.7500,  ..., 0.2500, 0.3329, 0.3825],\n",
       "        [0.3750, 0.3750, 0.6250,  ..., 0.1250, 0.2516, 0.5355],\n",
       "        ...,\n",
       "        [0.5671, 0.4215, 0.4827,  ..., 0.6250, 0.2007, 0.3483],\n",
       "        [0.0670, 0.9216, 0.9827,  ..., 0.1250, 0.6323, 0.4627],\n",
       "        [0.5000, 0.5000, 0.5000,  ..., 0.5000, 0.2854, 0.3339]])"
      ]
     },
     "execution_count": 7,
     "metadata": {},
     "output_type": "execute_result"
    }
   ],
   "source": [
    "Xn = config.Normalization(X, X_min, X_max)\n",
    "Xn"
   ]
  },
  {
   "cell_type": "code",
   "execution_count": 9,
   "metadata": {},
   "outputs": [
    {
     "data": {
      "text/plain": [
       "(torch.return_types.max(\n",
       " values=tensor([1., 1., 1., 1., 1., 1., 1., 1.]),\n",
       " indices=tensor([5459, 4367, 1732,  217, 1010,  101, 8830, 7476])),\n",
       " torch.return_types.min(\n",
       " values=tensor([0., 0., 0., 0., 0., 0., 0., 0.]),\n",
       " indices=tensor([8189, 8736, 1443,  136,  743,   74, 9826, 7679])))"
      ]
     },
     "execution_count": 9,
     "metadata": {},
     "output_type": "execute_result"
    }
   ],
   "source": [
    "Xn.max(0), Xn.min(0)"
   ]
  },
  {
   "cell_type": "code",
   "execution_count": 10,
   "metadata": {},
   "outputs": [
    {
     "data": {
      "text/plain": [
       "torch.Size([9999, 4])"
      ]
     },
     "execution_count": 10,
     "metadata": {},
     "output_type": "execute_result"
    }
   ],
   "source": [
    "Y = torch.load('./data/sigmoid_param.data')\n",
    "Y.shape"
   ]
  },
  {
   "cell_type": "code",
   "execution_count": 11,
   "metadata": {},
   "outputs": [],
   "source": [
    "Y_max = torch.max(Y, dim=0)[0]\n",
    "Y_min = torch.min(Y, dim=0)[0]"
   ]
  },
  {
   "cell_type": "code",
   "execution_count": 12,
   "metadata": {},
   "outputs": [
    {
     "data": {
      "text/plain": [
       "tensor([ 0.0178,  0.8972, -0.1441,  8.9818], dtype=torch.float64)"
      ]
     },
     "execution_count": 12,
     "metadata": {},
     "output_type": "execute_result"
    }
   ],
   "source": [
    "Y_min"
   ]
  },
  {
   "cell_type": "code",
   "execution_count": 13,
   "metadata": {},
   "outputs": [
    {
     "data": {
      "text/plain": [
       "tensor([1.0265e-01, 9.8168e-01, 4.8684e-01, 4.1893e+02], dtype=torch.float64)"
      ]
     },
     "execution_count": 13,
     "metadata": {},
     "output_type": "execute_result"
    }
   ],
   "source": [
    "Y_max"
   ]
  },
  {
   "cell_type": "code",
   "execution_count": 14,
   "metadata": {},
   "outputs": [],
   "source": [
    "Yn = config.Normalization(Y, Y_min, Y_max)"
   ]
  },
  {
   "cell_type": "code",
   "execution_count": 15,
   "metadata": {},
   "outputs": [
    {
     "data": {
      "text/plain": [
       "(torch.return_types.max(\n",
       " values=tensor([1., 1., 1., 1.], dtype=torch.float64),\n",
       " indices=tensor([ 716, 8989, 2493, 5775])),\n",
       " torch.return_types.min(\n",
       " values=tensor([0., 0., 0., 0.], dtype=torch.float64),\n",
       " indices=tensor([8989,  716,  136, 9981])))"
      ]
     },
     "execution_count": 15,
     "metadata": {},
     "output_type": "execute_result"
    }
   ],
   "source": [
    "Yn.max(0), Yn.min(0)"
   ]
  },
  {
   "cell_type": "markdown",
   "metadata": {},
   "source": [
    "# Make dataset"
   ]
  },
  {
   "cell_type": "code",
   "execution_count": 16,
   "metadata": {},
   "outputs": [],
   "source": [
    "E_train = int(X.shape[0]*0.7)\n",
    "E_valid = int(X.shape[0]*0.2)\n",
    "E_test  = int(X.shape[0] - E_train - E_valid)\n",
    "\n",
    "config.SetSeed()\n",
    "index = torch.randperm(X.shape[0])\n",
    "index_learn = index[:E_train+E_valid]\n",
    "index_train = index[:E_train]\n",
    "index_valid = index[E_train:E_train+E_valid]\n",
    "index_test  = index[-E_test:]\n",
    "\n",
    "X_learn, Y_learn = X[index_learn,:], Y[index_learn,:]\n",
    "X_train, Y_train = X[index_train,:], Y[index_train,:]\n",
    "X_valid, Y_valid = X[index_valid,:], Y[index_valid,:]\n",
    "X_test,  Y_test  = X[index_test,:] , Y[index_test,:]\n",
    "\n",
    "Xn_learn, Yn_learn = Xn[index_learn,:], Yn[index_learn,:]\n",
    "Xn_train, Yn_train = Xn[index_train,:], Yn[index_train,:]\n",
    "Xn_valid, Yn_valid = Xn[index_valid,:], Yn[index_valid,:]\n",
    "Xn_test,  Yn_test  = Xn[index_test,:] , Yn[index_test,:]"
   ]
  },
  {
   "cell_type": "code",
   "execution_count": 17,
   "metadata": {},
   "outputs": [],
   "source": [
    "a = {'Xn': Xn, 'Yn': Yn, \n",
    "     'X': X,   'Y': Y, \n",
    "     \n",
    "     'Xn_learn': Xn_learn, 'Yn_learn': Yn_learn, \n",
    "     'Xn_train': Xn_train, 'Yn_train': Yn_train, \n",
    "     'Xn_valid': Xn_valid, 'Yn_valid': Yn_valid, \n",
    "     'Xn_test' : Xn_test,  'Yn_test' : Yn_test,\n",
    "     \n",
    "     'X_learn': X_learn, 'Y_learn': Y_learn, \n",
    "     'X_train': X_train, 'Y_train': Y_train, \n",
    "     'X_valid': X_valid, 'Y_valid': Y_valid, \n",
    "     'X_test' : X_test,  'Y_test' : Y_test,\n",
    "     \n",
    "     'X_max':X_max, 'X_min':X_min,\n",
    "     'Y_max':Y_max, 'Y_min':Y_min,}\n",
    "\n",
    "torch.save(a, './data/sigmoid.ds')"
   ]
  }
 ],
 "metadata": {
  "kernelspec": {
   "display_name": "ML",
   "language": "python",
   "name": "python3"
  },
  "language_info": {
   "codemirror_mode": {
    "name": "ipython",
    "version": 3
   },
   "file_extension": ".py",
   "mimetype": "text/x-python",
   "name": "python",
   "nbconvert_exporter": "python",
   "pygments_lexer": "ipython3",
   "version": "3.8.13"
  },
  "toc": {
   "base_numbering": 1,
   "nav_menu": {},
   "number_sections": true,
   "sideBar": true,
   "skip_h1_title": false,
   "title_cell": "Table of Contents",
   "title_sidebar": "Contents",
   "toc_cell": false,
   "toc_position": {},
   "toc_section_display": true,
   "toc_window_display": false
  }
 },
 "nbformat": 4,
 "nbformat_minor": 4
}
