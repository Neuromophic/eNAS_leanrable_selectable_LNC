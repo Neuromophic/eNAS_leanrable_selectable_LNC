{
 "cells": [
  {
   "cell_type": "code",
   "execution_count": 1,
   "id": "6f9577ce",
   "metadata": {},
   "outputs": [],
   "source": [
    "import numpy as np\n",
    "import torch\n",
    "import matplotlib.pyplot as plt"
   ]
  },
  {
   "cell_type": "markdown",
   "id": "07bd2619",
   "metadata": {},
   "source": [
    "# Number of sampling"
   ]
  },
  {
   "cell_type": "code",
   "execution_count": 2,
   "id": "033db6e4",
   "metadata": {},
   "outputs": [],
   "source": [
    "N = 10000"
   ]
  },
  {
   "cell_type": "markdown",
   "id": "a8ffccc0",
   "metadata": {},
   "source": [
    "# Constraints\n",
    "\n",
    "$R1$ in range $[350000,750000]\\ {\\rm \\Omega}$\n",
    "\n",
    "$R2$ in range $[40000, 80000]\\ {\\rm \\Omega}$\n",
    "\n",
    "$W1$ in range $[80,600]\\ {\\rm \\mu m}$\n",
    "\n",
    "$L1$ in range $[80,200]\\ {\\rm \\mu m}$\n",
    "\n",
    "$W2$ in range $[500,800]\\ {\\rm \\mu m}$\n",
    "\n",
    "$L2$ in range $[40,80]\\ {\\rm \\mu m}$"
   ]
  },
  {
   "cell_type": "code",
   "execution_count": 3,
   "id": "82990c5b",
   "metadata": {},
   "outputs": [],
   "source": [
    "range_r1  = [350000, 750000]\n",
    "range_r2  = [40000, 80000]\n",
    "range_w1 = [80, 600]\n",
    "range_l1 = [80, 200]\n",
    "range_w2 = [500, 800]\n",
    "range_l2 = [40, 80]"
   ]
  },
  {
   "cell_type": "code",
   "execution_count": 4,
   "id": "3483b3f2",
   "metadata": {},
   "outputs": [],
   "source": [
    "RANGE = torch.tensor([range_r1, range_r2, range_w1, range_l1, range_w2, range_l2])"
   ]
  },
  {
   "cell_type": "code",
   "execution_count": 5,
   "id": "7d5b7601",
   "metadata": {},
   "outputs": [
    {
     "data": {
      "text/plain": [
       "torch.Size([6, 10000])"
      ]
     },
     "execution_count": 5,
     "metadata": {},
     "output_type": "execute_result"
    }
   ],
   "source": [
    "ACT_sampling_mc =  torch.quasirandom.SobolEngine(6).draw(N)\n",
    "ACT_sampling_mc = ACT_sampling_mc*(RANGE[:,1]-RANGE[:,0]) + RANGE[:,0]\n",
    "ACT_sampling_mc = np.round(ACT_sampling_mc).T\n",
    "ACT_sampling_mc.shape"
   ]
  },
  {
   "cell_type": "code",
   "execution_count": 6,
   "id": "a3bddaa1",
   "metadata": {},
   "outputs": [
    {
     "data": {
      "text/plain": [
       "tensor([[3.5000e+05, 5.5000e+05, 6.5000e+05,  ..., 6.7683e+05, 5.7683e+05,\n",
       "         3.7683e+05],\n",
       "        [4.0000e+04, 6.0000e+04, 5.0000e+04,  ..., 6.6858e+04, 5.6858e+04,\n",
       "         7.6858e+04],\n",
       "        [8.0000e-05, 3.4000e-04, 2.1000e-04,  ..., 4.6100e-04, 3.3100e-04,\n",
       "         5.9100e-04],\n",
       "        [8.0000e-05, 1.4000e-04, 1.1000e-04,  ..., 9.1000e-05, 1.8100e-04,\n",
       "         1.2100e-04],\n",
       "        [5.0000e-04, 6.5000e-04, 7.2500e-04,  ..., 7.9200e-04, 7.1700e-04,\n",
       "         5.6700e-04],\n",
       "        [4.0000e-05, 6.0000e-05, 7.0000e-05,  ..., 7.5000e-05, 6.5000e-05,\n",
       "         4.5000e-05]])"
      ]
     },
     "execution_count": 6,
     "metadata": {},
     "output_type": "execute_result"
    }
   ],
   "source": [
    "ACT_sampling_mc[2:,:] = ACT_sampling_mc[2:,:]/1000000\n",
    "ACT_sampling_mc"
   ]
  },
  {
   "cell_type": "code",
   "execution_count": 7,
   "id": "e3c293a1",
   "metadata": {},
   "outputs": [],
   "source": [
    "np.savetxt('./data/sampling_sigmoid.csv', ACT_sampling_mc, fmt='%f', delimiter=',')"
   ]
  },
  {
   "cell_type": "code",
   "execution_count": 8,
   "id": "4fb00d45",
   "metadata": {},
   "outputs": [
    {
     "data": {
      "text/plain": [
       "<matplotlib.collections.PathCollection at 0x7fdd62158b80>"
      ]
     },
     "execution_count": 8,
     "metadata": {},
     "output_type": "execute_result"
    },
    {
     "data": {
      "image/png": "[encoded data removed]",
      "text/plain": [
       "<Figure size 432x288 with 1 Axes>"
      ]
     },
     "metadata": {
      "needs_background": "light"
     },
     "output_type": "display_data"
    }
   ],
   "source": [
    "plt.scatter(ACT_sampling_mc[0,:100],ACT_sampling_mc[1,:100])"
   ]
  },
  {
   "cell_type": "code",
   "execution_count": null,
   "id": "821f44f6",
   "metadata": {},
   "outputs": [],
   "source": []
  }
 ],
 "metadata": {
  "kernelspec": {
   "display_name": "Python 3 (ipykernel)",
   "language": "python",
   "name": "python3"
  },
  "language_info": {
   "codemirror_mode": {
    "name": "ipython",
    "version": 3
   },
   "file_extension": ".py",
   "mimetype": "text/x-python",
   "name": "python",
   "nbconvert_exporter": "python",
   "pygments_lexer": "ipython3",
   "version": "3.8.13"
  },
  "toc": {
   "base_numbering": 1,
   "nav_menu": {},
   "number_sections": true,
   "sideBar": true,
   "skip_h1_title": false,
   "title_cell": "Table of Contents",
   "title_sidebar": "Contents",
   "toc_cell": false,
   "toc_position": {},
   "toc_section_display": true,
   "toc_window_display": false
  }
 },
 "nbformat": 4,
 "nbformat_minor": 5
}
