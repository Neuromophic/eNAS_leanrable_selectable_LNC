{
 "cells": [
  {
   "cell_type": "code",
   "execution_count": null,
   "metadata": {
    "tags": []
   },
   "outputs": [],
   "source": [
    "import os\n",
    "import math\n",
    "import torch\n",
    "import random\n",
    "import pickle\n",
    "import pandas\n",
    "import calendar\n",
    "import numpy as np\n",
    "import matplotlib.pyplot as plt\n",
    "from torch.utils.data import TensorDataset, DataLoader\n",
    "os.environ['KMP_DUPLICATE_LIB_OK']='True'\n",
    "torch.set_default_tensor_type(torch.FloatTensor)\n",
    "import config"
   ]
  },
  {
   "cell_type": "markdown",
   "metadata": {},
   "source": [
    "# Read and process data"
   ]
  },
  {
   "cell_type": "code",
   "execution_count": null,
   "metadata": {
    "tags": []
   },
   "outputs": [],
   "source": [
    "x = pandas.read_csv(\"./data/act_RT_ratio.csv\", header=None)\n",
    "x"
   ]
  },
  {
   "cell_type": "code",
   "execution_count": null,
   "metadata": {
    "tags": []
   },
   "outputs": [],
   "source": [
    "X = []\n",
    "for i in range(10000):\n",
    "    \n",
    "    f1 = x.iloc[i, :]\n",
    "    F = [float(f) for f in f1.to_numpy()]\n",
    "    X.append(F)\n",
    "X = torch.tensor(X)\n",
    "X = X[:,:6]\n",
    "X.shape"
   ]
  },
  {
   "cell_type": "code",
   "execution_count": null,
   "metadata": {
    "tags": []
   },
   "outputs": [],
   "source": [
    "X_max = torch.max(X, dim=0)[0]\n",
    "X_min = torch.min(X, dim=0)[0]"
   ]
  },
  {
   "cell_type": "code",
   "execution_count": null,
   "metadata": {
    "tags": []
   },
   "outputs": [],
   "source": [
    "X_max"
   ]
  },
  {
   "cell_type": "code",
   "execution_count": null,
   "metadata": {
    "tags": []
   },
   "outputs": [],
   "source": [
    "X_min"
   ]
  },
  {
   "cell_type": "code",
   "execution_count": null,
   "metadata": {
    "tags": []
   },
   "outputs": [],
   "source": [
    "Xn = config.Normalization(X, X_min, X_max)\n",
    "Xn"
   ]
  },
  {
   "cell_type": "code",
   "execution_count": null,
   "metadata": {
    "tags": []
   },
   "outputs": [],
   "source": [
    "Xn.max(), Xn.min()"
   ]
  },
  {
   "cell_type": "code",
   "execution_count": null,
   "metadata": {
    "tags": []
   },
   "outputs": [],
   "source": [
    "y = pandas.read_csv(\"./data/act_eta.csv\", header=None)\n",
    "y.shape"
   ]
  },
  {
   "cell_type": "code",
   "execution_count": null,
   "metadata": {
    "tags": []
   },
   "outputs": [],
   "source": [
    "Y = []\n",
    "for i in range(10000):\n",
    "    \n",
    "    f1 = y.iloc[i, :]\n",
    "    F = [float(f) for f in f1.to_numpy()]\n",
    "    Y.append(F)\n",
    "Y = torch.tensor(Y)\n",
    "Y.shape"
   ]
  },
  {
   "cell_type": "code",
   "execution_count": null,
   "metadata": {
    "tags": []
   },
   "outputs": [],
   "source": [
    "Y_max = torch.max(Y, dim=0)[0]\n",
    "Y_min = torch.min(Y, dim=0)[0]"
   ]
  },
  {
   "cell_type": "code",
   "execution_count": null,
   "metadata": {
    "tags": []
   },
   "outputs": [],
   "source": [
    "Yn = config.Normalization(Y, Y_min, Y_max)"
   ]
  },
  {
   "cell_type": "code",
   "execution_count": null,
   "metadata": {
    "tags": []
   },
   "outputs": [],
   "source": [
    "Yn.max(), Yn.min()"
   ]
  },
  {
   "cell_type": "markdown",
   "metadata": {},
   "source": [
    "# Make dataset"
   ]
  },
  {
   "cell_type": "code",
   "execution_count": null,
   "metadata": {
    "tags": []
   },
   "outputs": [],
   "source": [
    "E_train = int(X.shape[0]*0.7)\n",
    "E_valid = int(X.shape[0]*0.2)\n",
    "E_test  = int(X.shape[0] - E_train - E_valid)\n",
    "\n",
    "config.SetSeed()\n",
    "index = torch.randperm(X.shape[0])\n",
    "index_learn = index[:E_train+E_valid]\n",
    "index_train = index[:E_train]\n",
    "index_valid = index[E_train:E_train+E_valid]\n",
    "index_test  = index[-E_test:]\n",
    "\n",
    "X_learn, Y_learn = X[index_learn,:], Y[index_learn,:]\n",
    "X_train, Y_train = X[index_train,:], Y[index_train,:]\n",
    "X_valid, Y_valid = X[index_valid,:], Y[index_valid,:]\n",
    "X_test,  Y_test  = X[index_test,:] , Y[index_test,:]\n",
    "\n",
    "Xn_learn, Yn_learn = Xn[index_learn,:], Yn[index_learn,:]\n",
    "Xn_train, Yn_train = Xn[index_train,:], Yn[index_train,:]\n",
    "Xn_valid, Yn_valid = Xn[index_valid,:], Yn[index_valid,:]\n",
    "Xn_test,  Yn_test  = Xn[index_test,:] , Yn[index_test,:]"
   ]
  },
  {
   "cell_type": "code",
   "execution_count": null,
   "metadata": {
    "tags": []
   },
   "outputs": [],
   "source": [
    "a = {'Xn': Xn, 'Yn': Yn, \n",
    "     'X': X,   'Y': Y, \n",
    "     \n",
    "     'Xn_learn': Xn_learn, 'Yn_learn': Yn_learn, \n",
    "     'Xn_train': Xn_train, 'Yn_train': Yn_train, \n",
    "     'Xn_valid': Xn_valid, 'Yn_valid': Yn_valid, \n",
    "     'Xn_test' : Xn_test,  'Yn_test' : Yn_test,\n",
    "     \n",
    "     'X_learn': X_learn, 'Y_learn': Y_learn, \n",
    "     'X_train': X_train, 'Y_train': Y_train, \n",
    "     'X_valid': X_valid, 'Y_valid': Y_valid, \n",
    "     'X_test' : X_test,  'Y_test' : Y_test,\n",
    "     \n",
    "     'X_max':X_max, 'X_min':X_min,\n",
    "     'Y_max':Y_max, 'Y_min':Y_min,}\n",
    "\n",
    "with open('./data/act_dataset_without_ratio.p', 'wb') as file:\n",
    "    pickle.dump(a, file)\n",
    "with open('../../LNC/dataset/act_dataset_without_ratio.p', 'wb') as file:\n",
    "    pickle.dump(a, file)"
   ]
  },
  {
   "cell_type": "code",
   "execution_count": null,
   "metadata": {},
   "outputs": [],
   "source": []
  }
 ],
 "metadata": {
  "kernelspec": {
   "display_name": "pNN",
   "language": "python",
   "name": "pnn"
  },
  "language_info": {
   "codemirror_mode": {
    "name": "ipython",
    "version": 3
   },
   "file_extension": ".py",
   "mimetype": "text/x-python",
   "name": "python",
   "nbconvert_exporter": "python",
   "pygments_lexer": "ipython3",
   "version": "3.9.16"
  },
  "toc": {
   "base_numbering": 1,
   "nav_menu": {},
   "number_sections": true,
   "sideBar": true,
   "skip_h1_title": false,
   "title_cell": "Table of Contents",
   "title_sidebar": "Contents",
   "toc_cell": false,
   "toc_position": {},
   "toc_section_display": true,
   "toc_window_display": false
  }
 },
 "nbformat": 4,
 "nbformat_minor": 4
}
