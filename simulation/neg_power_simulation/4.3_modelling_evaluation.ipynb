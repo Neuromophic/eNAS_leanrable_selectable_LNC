{
 "cells": [
  {
   "cell_type": "code",
   "execution_count": null,
   "id": "32051c73-71f9-4847-825b-57a0e1daf2d1",
   "metadata": {},
   "outputs": [],
   "source": [
    "import torch\n",
    "from torch.utils.data import TensorDataset\n",
    "from torch.utils.data import DataLoader\n",
    "import pickle\n",
    "import numpy as np\n",
    "import training\n",
    "import config\n",
    "import matplotlib.pyplot as plt"
   ]
  },
  {
   "cell_type": "code",
   "execution_count": null,
   "id": "93fdbe4f-ebe3-4255-9ff1-598b6d226274",
   "metadata": {},
   "outputs": [],
   "source": [
    "with open('./data/inv_power_dataset.p', 'rb') as file:\n",
    "    a = pickle.load(file)"
   ]
  },
  {
   "cell_type": "code",
   "execution_count": null,
   "id": "658c7714-e526-4749-b6d1-be052a0bcfc6",
   "metadata": {},
   "outputs": [],
   "source": [
    "X, Y = a['X'], a['Y']\n",
    "Xn, Yn = a['Xn'], a['Yn']\n",
    "X_min, X_max = a['X_min'], a['X_max']\n",
    "Y_min, Y_max = a['Y_min'], a['Y_max']\n",
    "\n",
    "X_learn, Y_learn = a['X_learn'], a['Y_learn']\n",
    "X_train, Y_train = a['X_train'], a['Y_train']\n",
    "X_valid, Y_valid = a['X_valid'], a['Y_valid']\n",
    "X_test , Y_test  = a['X_test'] , a['Y_test']\n",
    "\n",
    "Xn_learn, Yn_learn = a['Xn_learn'], a['Yn_learn']\n",
    "Xn_train, Yn_train = a['Xn_train'], a['Yn_train']\n",
    "Xn_valid, Yn_valid = a['Xn_valid'], a['Yn_valid']\n",
    "Xn_test , Yn_test  = a['Xn_test'] , a['Yn_test']"
   ]
  },
  {
   "cell_type": "code",
   "execution_count": null,
   "id": "e3a28794-e16f-48a6-a3f4-38dec47a206a",
   "metadata": {
    "tags": []
   },
   "outputs": [],
   "source": [
    "train_data = TensorDataset(Xn_train, Yn_train)\n",
    "valid_data = TensorDataset(Xn_valid, Yn_valid)\n",
    "test_data  = TensorDataset(Xn_test, Yn_test)\n",
    "\n",
    "train_loader = DataLoader(train_data, batch_size=len(train_data))\n",
    "valid_loader = DataLoader(valid_data, batch_size=len(valid_data))\n",
    "test_loader  = DataLoader(test_data, batch_size=len(test_data))"
   ]
  },
  {
   "cell_type": "code",
   "execution_count": null,
   "id": "de71f79c-b03f-4100-997a-6a203b4db6d3",
   "metadata": {},
   "outputs": [],
   "source": [
    "lossfunction = torch.nn.MSELoss()"
   ]
  },
  {
   "cell_type": "code",
   "execution_count": null,
   "id": "927f117f-e6c0-4c97-858f-73aa5f021bd9",
   "metadata": {},
   "outputs": [],
   "source": [
    "SEEDs  = [1,2,3,4,5,6,7,8,9,10]\n",
    "LAYERs = [2,3,4,5,6,7,8,9,10,11,12,13,14,15]\n",
    "LRs    = [0, -1, -2, -3, -4,-5]"
   ]
  },
  {
   "cell_type": "code",
   "execution_count": null,
   "id": "4eca84a3-2176-4d61-a6f7-b427e4deddcb",
   "metadata": {},
   "outputs": [],
   "source": [
    "results = torch.zeros([len(SEEDs), len(LAYERs), len(LRs), 3])\n",
    "results.shape"
   ]
  },
  {
   "cell_type": "code",
   "execution_count": null,
   "id": "c93e70b5-d705-4635-9102-191bcbee47f5",
   "metadata": {},
   "outputs": [],
   "source": [
    "for sidx in range(len(SEEDs)):\n",
    "    seed = SEEDs[sidx]\n",
    "    for lidx in range(len(LAYERs)):\n",
    "        layer = LAYERs[lidx]\n",
    "        for lridx in range(len(LRs)):\n",
    "            lr = LRs[lridx]\n",
    "            \n",
    "            exp_setup = f'{layer}_{lr}_{seed}'\n",
    "            \n",
    "            NN_temp = torch.load(f'./NNs/INVPOW__{exp_setup}')\n",
    "\n",
    "            for x_train, y_train in train_loader:\n",
    "                prediction_train = NN_temp(x_train)\n",
    "            for x_valid, y_valid in valid_loader:\n",
    "                prediction_valid = NN_temp(x_valid)\n",
    "            for x_test, y_test in test_loader:\n",
    "                prediction_test = NN_temp(x_test)\n",
    "\n",
    "            loss_train = lossfunction(Yn_train, prediction_train)\n",
    "            loss_valid = lossfunction(Yn_valid, prediction_valid)\n",
    "            loss_test = lossfunction(Yn_test, prediction_test)\n",
    "            \n",
    "            results[sidx, lidx, lridx, 0] = loss_train\n",
    "            results[sidx, lidx, lridx, 1] = loss_valid\n",
    "            results[sidx, lidx, lridx, 2] = loss_test\n",
    "\n",
    "            plt.figure(figsize=(12,12))\n",
    "            plt.plot(np.linspace(0,1,100), np.linspace(0,1,100), c='gray')\n",
    "            plt.scatter(Yn_train.flatten().numpy(), prediction_train.detach().flatten().numpy(), s=2, c='blue', label=f'train_loss: {loss_train:.4f}')\n",
    "            plt.scatter(Yn_valid.flatten().numpy(), prediction_valid.detach().flatten().numpy(), s=2, c='green', label=f'valid_loss: {loss_valid:.4f}')\n",
    "            plt.scatter(Yn_test.flatten().numpy(), prediction_test.detach().flatten().numpy(), s=2, c='red', label=f'test_loss: {loss_test:.4f}')\n",
    "            plt.xlim([0,1])\n",
    "            plt.ylim([0,1])\n",
    "            plt.title(f'{layer}-layer {lr}-lr {seed}-seed', fontsize=30)\n",
    "            plt.legend(fontsize=12)\n",
    "            plt.savefig(f'./NNs/{exp_setup}.pdf', format='pdf', bbox_inches='tight')"
   ]
  },
  {
   "cell_type": "code",
   "execution_count": null,
   "id": "c6c13927-9365-4fad-a797-a13ed5e7a836",
   "metadata": {},
   "outputs": [],
   "source": [
    "torch.save(results, './nlc.result')"
   ]
  },
  {
   "cell_type": "code",
   "execution_count": null,
   "id": "65df4989-6937-49e5-987d-ec6eac06b682",
   "metadata": {},
   "outputs": [],
   "source": [
    "results = torch.load('./nlc.result')"
   ]
  },
  {
   "cell_type": "code",
   "execution_count": null,
   "id": "73c0d3d2-7e3e-427d-b299-c18caa5d96f4",
   "metadata": {},
   "outputs": [],
   "source": [
    "mean_results = torch.mean(results, dim=0)"
   ]
  },
  {
   "cell_type": "code",
   "execution_count": null,
   "id": "1813b6d3-8210-49a2-9ee2-684bd5d69fda",
   "metadata": {},
   "outputs": [],
   "source": [
    "torch.where(results[:,:,:,1]==results[:,:,:,1].min())"
   ]
  },
  {
   "cell_type": "code",
   "execution_count": null,
   "id": "4d6334ed-6f29-4c73-817f-b1bfd7934be2",
   "metadata": {},
   "outputs": [],
   "source": [
    "best_lidx, best_lridx = torch.where(mean_results[:,:,1]==mean_results[:,:,1].min())\n",
    "best_lidx, best_lridx"
   ]
  },
  {
   "cell_type": "code",
   "execution_count": null,
   "id": "515c13ef-5219-4b43-8008-8fbf19ea1d7a",
   "metadata": {},
   "outputs": [],
   "source": [
    "LAYERs[best_lidx], LRs[best_lridx]"
   ]
  },
  {
   "cell_type": "code",
   "execution_count": null,
   "id": "ce8967d4-ee29-4aea-9c72-66d7904ad81e",
   "metadata": {},
   "outputs": [],
   "source": [
    "plt.figure(figsize=(12,12*0.618))\n",
    "t = torch.min(torch.min(results[:,:,:,0], dim=0)[0], dim=1)[0]\n",
    "v = torch.min(torch.min(results[:,:,:,1], dim=0)[0], dim=1)[0]\n",
    "p = torch.min(torch.min(results[:,:,:,2], dim=0)[0], dim=1)[0]\n",
    "plt.plot(LAYERs, t.detach().numpy(), c='blue')\n",
    "plt.plot(LAYERs, v.detach().numpy(), c='green')\n",
    "plt.plot(LAYERs, p.detach().numpy(), c='red')\n",
    "plt.xticks(np.arange(14)+2)\n",
    "plt.xlim([2,15])\n",
    "plt.xlabel('#Layer', fontsize=15)\n",
    "plt.ylabel('MSE', fontsize=15)"
   ]
  },
  {
   "cell_type": "code",
   "execution_count": null,
   "id": "3c5d8d0f-feb2-4b22-8818-4798570ab052",
   "metadata": {},
   "outputs": [],
   "source": [
    "plt.figure(figsize=(12,12*0.618))\n",
    "t = torch.min(torch.min(results[:,:,:,0], dim=0)[0], dim=0)[0]\n",
    "v = torch.min(torch.min(results[:,:,:,1], dim=0)[0], dim=0)[0]\n",
    "p = torch.min(torch.min(results[:,:,:,2], dim=0)[0], dim=0)[0]\n",
    "plt.plot(LRs, t.detach().numpy(), c='blue')\n",
    "plt.plot(LRs, v.detach().numpy(), c='green')\n",
    "plt.plot(LRs, p.detach().numpy(), c='red')\n",
    "plt.xlabel('Learning Rate', fontsize=15)\n",
    "plt.xticks(LRs, 10.**np.array(LRs))\n",
    "plt.ylabel('MSE', fontsize=15)"
   ]
  },
  {
   "cell_type": "code",
   "execution_count": null,
   "id": "2c639b0b-1627-4de5-921c-97677036ff01",
   "metadata": {},
   "outputs": [],
   "source": []
  }
 ],
 "metadata": {
  "kernelspec": {
   "display_name": "pNN",
   "language": "python",
   "name": "pnn"
  },
  "language_info": {
   "codemirror_mode": {
    "name": "ipython",
    "version": 3
   },
   "file_extension": ".py",
   "mimetype": "text/x-python",
   "name": "python",
   "nbconvert_exporter": "python",
   "pygments_lexer": "ipython3",
   "version": "3.9.16"
  }
 },
 "nbformat": 4,
 "nbformat_minor": 5
}
