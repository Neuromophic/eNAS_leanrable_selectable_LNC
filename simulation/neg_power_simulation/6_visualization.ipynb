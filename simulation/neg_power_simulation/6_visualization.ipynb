{
 "cells": [
  {
   "cell_type": "code",
   "execution_count": null,
   "id": "32051c73-71f9-4847-825b-57a0e1daf2d1",
   "metadata": {},
   "outputs": [],
   "source": [
    "import torch\n",
    "from torch.utils.data import TensorDataset\n",
    "from torch.utils.data import DataLoader\n",
    "import pickle\n",
    "import numpy as np\n",
    "import training\n",
    "import config\n",
    "import matplotlib.pyplot as plt\n",
    "import FigureConfig as FC\n",
    "import pandas\n",
    "from scipy import optimize as op\n",
    "import math"
   ]
  },
  {
   "cell_type": "code",
   "execution_count": null,
   "id": "93fdbe4f-ebe3-4255-9ff1-598b6d226274",
   "metadata": {},
   "outputs": [],
   "source": [
    "data = pandas.read_csv('../result/Power_Neg_weight_data_10K_final.csv')\n",
    "data"
   ]
  },
  {
   "cell_type": "code",
   "execution_count": null,
   "id": "658c7714-e526-4749-b6d1-be052a0bcfc6",
   "metadata": {},
   "outputs": [],
   "source": [
    "y = data.to_numpy()\n",
    "y = torch.tensor(y.astype(float)).T.abs()\n",
    "y.shape"
   ]
  },
  {
   "cell_type": "code",
   "execution_count": null,
   "id": "933156d9-9519-4dba-a9c8-be2a276bca0a",
   "metadata": {
    "tags": []
   },
   "outputs": [],
   "source": [
    "x = pandas.read_csv('../result/Power_Neg_weight_data_10K_final.csv',nrows= 0)\n",
    "x = x.columns.values.tolist()\n",
    "result = []\n",
    "for j in range(10000):\n",
    "    a = x[j].split(' ')\n",
    "    nums = []\n",
    "    for k in range(2, 15, 2):\n",
    "        \n",
    "        nums.append(a[k])\n",
    "\n",
    "    b=map(float,nums)    \n",
    "    result.append(list(b))\n",
    "x = torch.tensor(result)\n",
    "x.shape"
   ]
  },
  {
   "cell_type": "code",
   "execution_count": null,
   "id": "d5fac767-0f6f-4e2d-b133-70e9ab7ab281",
   "metadata": {
    "tags": []
   },
   "outputs": [],
   "source": [
    "x[:,0] = x[:,0]\n",
    "x[:,1] = x[:,1]\n",
    "x[:,2] = x[:,2]/1e3\n",
    "x[:,3] = x[:,3]/1e3\n",
    "x[:,4] = x[:,4]/1e3\n",
    "x[:,5] = x[:,5]*1e6\n",
    "x[:,6] = x[:,6]*1e6"
   ]
  },
  {
   "cell_type": "code",
   "execution_count": null,
   "id": "1322eecb-d8e1-49a9-a81f-f1c22a7fa75e",
   "metadata": {
    "tags": []
   },
   "outputs": [],
   "source": [
    "x.max(0)[0]"
   ]
  },
  {
   "cell_type": "code",
   "execution_count": null,
   "id": "b389953a-b998-474d-987a-4df09690203f",
   "metadata": {
    "tags": []
   },
   "outputs": [],
   "source": [
    "x.min(0)[0]"
   ]
  },
  {
   "cell_type": "markdown",
   "id": "6989997c-6ce5-47c9-bc4e-899da25652a1",
   "metadata": {},
   "source": [
    "# Visualization of neg power"
   ]
  },
  {
   "cell_type": "code",
   "execution_count": null,
   "id": "20fb27bc-56f8-4060-85c1-09e15774c376",
   "metadata": {
    "tags": []
   },
   "outputs": [],
   "source": [
    "y.mean(1).max()"
   ]
  },
  {
   "cell_type": "code",
   "execution_count": null,
   "id": "23482c76-4e1f-4bba-b7ce-08bc99550314",
   "metadata": {
    "tags": []
   },
   "outputs": [],
   "source": [
    "torch.argmin((y.mean(1) - 0.01).abs())"
   ]
  },
  {
   "cell_type": "code",
   "execution_count": null,
   "id": "ce8967d4-ee29-4aea-9c72-66d7904ad81e",
   "metadata": {},
   "outputs": [],
   "source": [
    "x1 = np.linspace(-2,2,4001)\n",
    "\n",
    "inv_vis = [9990, 8396, 1000, 9004, 6407, 9533]"
   ]
  },
  {
   "cell_type": "code",
   "execution_count": null,
   "id": "39e82576-5293-4f1d-9d7d-08caa3262585",
   "metadata": {
    "tags": []
   },
   "outputs": [],
   "source": [
    "inv_vis = [1185, 8396, 154, 50, 70, 6]"
   ]
  },
  {
   "cell_type": "code",
   "execution_count": null,
   "id": "a915a291-daf4-4756-8bfe-2066ac0e1312",
   "metadata": {},
   "outputs": [],
   "source": [
    "for idx, i in enumerate(inv_vis):\n",
    "    plt.plot(x1, y[i,:].mean()*torch.ones(x1.shape), lw=3, c=FC.liste[idx])\n",
    "    plt.xticks([-2, -1, 0, 1, 2], ['-2', '-1', '0', '1', '2'], fontsize=15)\n",
    "    plt.yticks([0.0, 0.01, 0.02, 0.03], ['0', '10', '20', '30'], fontsize=15)\n",
    "    plt.xlim([-2,2])\n",
    "    # plt.ylim([0,0.3])\n",
    "    plt.axis('off')\n",
    "plt.savefig(f'../../figures/inv_power_example.pdf', format='pdf', bbox_inches='tight')\n",
    "plt.show()"
   ]
  },
  {
   "cell_type": "code",
   "execution_count": null,
   "id": "c318468c-379d-491d-98af-c9ac5f5f7797",
   "metadata": {
    "tags": []
   },
   "outputs": [],
   "source": [
    "yy = torch.tanh(torch.tensor(x1)*20+1)*0.000005 + 0.004445"
   ]
  },
  {
   "cell_type": "code",
   "execution_count": null,
   "id": "97dda226-decd-4860-809f-8549131818a6",
   "metadata": {
    "tags": []
   },
   "outputs": [],
   "source": [
    "plt.figure(figsize=[9,3])\n",
    "plt.plot(x1, yy, lw=7, c=FC.liste[1])\n",
    "plt.xticks([-2, -1, 0, 1, 2], ['-2', '-1', '0', '1', '2'], fontsize=15)\n",
    "# plt.yticks([0, 0.1, 0.2, 0.3], ['0', '0.1', '0.2', '0.3'], fontsize=15)\n",
    "plt.xlim([-2,2])\n",
    "plt.axis('off')\n",
    "plt.savefig(f'../../figures/inv_one_example_legend.pdf', format='pdf', bbox_inches='tight', transparent=True)\n",
    "plt.show()"
   ]
  },
  {
   "cell_type": "code",
   "execution_count": null,
   "id": "d673b8ae-62ef-42cd-b207-3c70da0ec1c7",
   "metadata": {
    "tags": []
   },
   "outputs": [],
   "source": [
    "plt.plot(x1, y[1,:], lw=3, c=FC.liste[1])\n",
    "plt.plot(x1, yy, lw=3, c=FC.liste[2])\n",
    "plt.xticks([-2, -1, 0, 1, 2], ['-2', '-1', '0', '1', '2'], fontsize=15)\n",
    "# plt.yticks([0, 0.1, 0.2, 0.3], ['0', '0.1', '0.2', '0.3'], fontsize=15)\n",
    "plt.xlim([-2,2])\n",
    "# plt.ylim([0,0.3])\n",
    "# plt.savefig(f'../../figures/inv_power_example.pdf', format='pdf', bbox_inches='tight')\n",
    "plt.show()"
   ]
  },
  {
   "cell_type": "code",
   "execution_count": null,
   "id": "55769c49-977d-432f-8b54-0449adeac792",
   "metadata": {
    "tags": []
   },
   "outputs": [],
   "source": [
    "for idx, i in enumerate(inv_vis):\n",
    "    # plt.plot(x1,y1,'--',c='gray')\n",
    "    # plt.plot(x2,y2,'--',c='gray')\n",
    "    plt.plot(x1, y[i,:], lw=3, c=FC.liste[idx], label=f'{x[i,:]}')\n",
    "    plt.xticks([-2, -1, 0, 1, 2], ['-2', '-1', '0', '1', '2'], fontsize=15)\n",
    "    plt.yticks([0.0, 0.01, 0.02, 0.03], ['0', '10', '20', '30'], fontsize=15)\n",
    "    plt.xlim([-2,2])\n",
    "    # plt.ylim([0,0.3])\n",
    "plt.legend()\n",
    "plt.savefig(f'../../figures/inv_power_example_legend.pdf', format='pdf', bbox_inches='tight')\n",
    "plt.show()"
   ]
  },
  {
   "cell_type": "markdown",
   "id": "36d51244-6ef1-4ee0-bf75-58c0178cc7dc",
   "metadata": {},
   "source": [
    "# Visualization for NN"
   ]
  },
  {
   "cell_type": "code",
   "execution_count": null,
   "id": "a13e0d99-c20d-4096-aad9-11c0ec1e7503",
   "metadata": {
    "tags": []
   },
   "outputs": [],
   "source": [
    "with open('./data/inv_power_dataset.p', 'rb') as file:\n",
    "    a = pickle.load(file)"
   ]
  },
  {
   "cell_type": "code",
   "execution_count": null,
   "id": "99a35e2a-5f24-4d54-8df0-6bfb62bb0ddb",
   "metadata": {},
   "outputs": [],
   "source": [
    "X, Y = a['X'], a['Y']\n",
    "Xn, Yn = a['Xn'], a['Yn']\n",
    "X_min, X_max = a['X_min'], a['X_max']\n",
    "Y_min, Y_max = a['Y_min'], a['Y_max']\n",
    "\n",
    "X_learn, Y_learn = a['X_learn'], a['Y_learn']\n",
    "X_train, Y_train = a['X_train'], a['Y_train']\n",
    "X_valid, Y_valid = a['X_valid'], a['Y_valid']\n",
    "X_test , Y_test  = a['X_test'] , a['Y_test']\n",
    "\n",
    "Xn_learn, Yn_learn = a['Xn_learn'], a['Yn_learn']\n",
    "Xn_train, Yn_train = a['Xn_train'], a['Yn_train']\n",
    "Xn_valid, Yn_valid = a['Xn_valid'], a['Yn_valid']\n",
    "Xn_test , Yn_test  = a['Xn_test'] , a['Yn_test']"
   ]
  },
  {
   "cell_type": "code",
   "execution_count": null,
   "id": "f59c5d24-dff8-4aee-b70d-bfaae606dab0",
   "metadata": {
    "tags": []
   },
   "outputs": [],
   "source": [
    "Yn_learn.max()"
   ]
  },
  {
   "cell_type": "code",
   "execution_count": null,
   "id": "ea5ad689-8109-4385-9c6b-336a55a767cf",
   "metadata": {},
   "outputs": [],
   "source": [
    "eta_estimator = torch.load(f'model.negpow')"
   ]
  },
  {
   "cell_type": "code",
   "execution_count": null,
   "id": "5aea8078-9f5c-4ddb-bd20-c1df16f43a8d",
   "metadata": {},
   "outputs": [],
   "source": [
    "prediction_train = eta_estimator(Xn_train)\n",
    "prediction_valid = eta_estimator(Xn_valid)\n",
    "prediction_test = eta_estimator(Xn_test)\n",
    "\n",
    "lossfunction = torch.nn.MSELoss()\n",
    "loss_train = lossfunction(Yn_train, prediction_train)\n",
    "loss_valid = lossfunction(Yn_valid, prediction_valid)\n",
    "loss_test  = lossfunction(Yn_test,  prediction_test)\n",
    "\n",
    "plt.figure()\n",
    "plt.plot(np.linspace(0,1,100), np.linspace(0,1,100),  c='gray', alpha=0.5)\n",
    "plt.scatter(Yn_train.flatten().numpy(), prediction_train.detach().flatten().numpy(), s=2, color=FC.Blue, label=f'train_loss: {loss_train:.2e}')\n",
    "plt.scatter(Yn_valid.flatten()[::10].numpy(), prediction_valid.detach()[::10].flatten().numpy(), s=2, color=FC.Green, label=f'valid_loss: {loss_valid:.2e}')\n",
    "plt.scatter(Yn_test[::20].flatten().numpy(), prediction_test[::20].detach().flatten().numpy(), s=2, color=FC.Pink, label=f'test_loss: {loss_test:.2e}')\n",
    "plt.xlim([0, 1])\n",
    "plt.ylim([0, 1])\n",
    "ax = plt.gca()\n",
    "ax.set_aspect(1)\n",
    "plt.xticks([0, 0.25, 0.5, 0.75, 1], ['0', '0.25', '0.5', '0.75', '1'], fontsize=15)\n",
    "plt.yticks([0, 0.25, 0.5, 0.75, 1], ['0', '0.25', '0.5', '0.75', '1'], fontsize=15)\n",
    "# plt.legend(fontsize=12)\n",
    "plt.axis('off')\n",
    "plt.savefig(f'../../figures/final_INVPOW_result.pdf', format='pdf', bbox_inches='tight', transparent=True)\n",
    "plt.show()"
   ]
  },
  {
   "cell_type": "code",
   "execution_count": null,
   "id": "79dcae61-16fc-4f54-981a-0e2b05a12c07",
   "metadata": {},
   "outputs": [],
   "source": [
    "plt.figure()\n",
    "plt.scatter(Yn_train.flatten().numpy(), prediction_train.detach().flatten().numpy()*0-1, s=30, color=FC.Blue, label=f'train data')\n",
    "plt.scatter(Yn_valid.flatten().numpy(), prediction_valid.detach().flatten().numpy()*0-1, s=30, color=FC.Green, label=f'valid data')\n",
    "plt.scatter(Yn_test.flatten().numpy(), prediction_test.detach().flatten().numpy()*0-1, s=30, color=FC.Pink, label=f'test data')\n",
    "plt.xlim([0, 1])\n",
    "plt.ylim([0, 1])\n",
    "ax = plt.gca()\n",
    "ax.set_aspect(1)\n",
    "plt.legend(fontsize=12)\n",
    "plt.savefig(f'../../figures/final_INV_legend.pdf', format='pdf', bbox_inches='tight', transparent=True)\n",
    "plt.show()"
   ]
  },
  {
   "cell_type": "code",
   "execution_count": null,
   "id": "4bbb96a7-7f48-4223-9c40-c865e7d314c4",
   "metadata": {
    "tags": []
   },
   "outputs": [],
   "source": [
    "loss_train, loss_valid, loss_test"
   ]
  },
  {
   "cell_type": "code",
   "execution_count": null,
   "id": "3205d2b0-77c0-4a0a-871b-f40d4468fdbd",
   "metadata": {},
   "outputs": [],
   "source": []
  }
 ],
 "metadata": {
  "kernelspec": {
   "display_name": "pNN",
   "language": "python",
   "name": "pnn"
  },
  "language_info": {
   "codemirror_mode": {
    "name": "ipython",
    "version": 3
   },
   "file_extension": ".py",
   "mimetype": "text/x-python",
   "name": "python",
   "nbconvert_exporter": "python",
   "pygments_lexer": "ipython3",
   "version": "3.9.16"
  }
 },
 "nbformat": 4,
 "nbformat_minor": 5
}
