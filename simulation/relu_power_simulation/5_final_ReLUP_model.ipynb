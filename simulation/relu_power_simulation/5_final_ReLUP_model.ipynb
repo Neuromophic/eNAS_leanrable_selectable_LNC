{
 "cells": [
  {
   "cell_type": "code",
   "execution_count": null,
   "id": "32051c73-71f9-4847-825b-57a0e1daf2d1",
   "metadata": {
    "tags": []
   },
   "outputs": [],
   "source": [
    "import torch\n",
    "from torch.utils.data import TensorDataset\n",
    "from torch.utils.data import DataLoader\n",
    "import pickle\n",
    "import numpy as np\n",
    "import training\n",
    "import config\n",
    "import matplotlib.pyplot as plt\n",
    "import FigureConfig as FC"
   ]
  },
  {
   "cell_type": "code",
   "execution_count": null,
   "id": "93fdbe4f-ebe3-4255-9ff1-598b6d226274",
   "metadata": {
    "tags": []
   },
   "outputs": [],
   "source": [
    "a = torch.load('./data/pReLU_power.ds')"
   ]
  },
  {
   "cell_type": "code",
   "execution_count": null,
   "id": "658c7714-e526-4749-b6d1-be052a0bcfc6",
   "metadata": {
    "tags": []
   },
   "outputs": [],
   "source": [
    "X, Y = a['X'], a['Y']\n",
    "Xn, Yn = a['Xn'], a['Yn']\n",
    "X_min, X_max = a['X_min'], a['X_max']\n",
    "Y_min, Y_max = a['Y_min'], a['Y_max']\n",
    "\n",
    "X_learn, Y_learn = a['X_learn'], a['Y_learn']\n",
    "X_train, Y_train = a['X_train'], a['Y_train']\n",
    "X_valid, Y_valid = a['X_valid'], a['Y_valid']\n",
    "X_test , Y_test  = a['X_test'] , a['Y_test']\n",
    "\n",
    "Xn_learn, Yn_learn = a['Xn_learn'], a['Yn_learn']\n",
    "Xn_train, Yn_train = a['Xn_train'], a['Yn_train']\n",
    "Xn_valid, Yn_valid = a['Xn_valid'], a['Yn_valid']\n",
    "Xn_test , Yn_test  = a['Xn_test'] , a['Yn_test']"
   ]
  },
  {
   "cell_type": "code",
   "execution_count": null,
   "id": "e3a28794-e16f-48a6-a3f4-38dec47a206a",
   "metadata": {
    "tags": []
   },
   "outputs": [],
   "source": [
    "train_data = TensorDataset(Xn_train, Yn_train)\n",
    "valid_data  = TensorDataset(Xn_valid, Yn_valid)\n",
    "test_data  = TensorDataset(Xn_test, Yn_test)\n",
    "\n",
    "train_loader = DataLoader(train_data, batch_size=len(train_data))\n",
    "valid_loader = DataLoader(valid_data, batch_size=len(valid_data))\n",
    "test_loader = DataLoader(test_data, batch_size=len(test_data))"
   ]
  },
  {
   "cell_type": "code",
   "execution_count": null,
   "id": "c93e70b5-d705-4635-9102-191bcbee47f5",
   "metadata": {
    "tags": []
   },
   "outputs": [],
   "source": [
    "SEEDs  = [1, 2, 3, 4, 5, 6, 7, 8, 9, 10]\n",
    "layers = [3, 4, 5, 6, 7, 8, 9, 10]\n",
    "lrs    = [-3, -4, -5]"
   ]
  },
  {
   "cell_type": "code",
   "execution_count": null,
   "id": "90a9f05a-9143-402b-8a6d-049240351c03",
   "metadata": {
    "tags": []
   },
   "outputs": [],
   "source": [
    "lossfunction = torch.nn.MSELoss()"
   ]
  },
  {
   "cell_type": "code",
   "execution_count": null,
   "id": "5de0ab64-0b22-4da1-9d57-4eca8a517412",
   "metadata": {
    "tags": []
   },
   "outputs": [],
   "source": [
    "results = torch.zeros([10, 8, 3, 3])"
   ]
  },
  {
   "cell_type": "code",
   "execution_count": null,
   "id": "c113ee3a-3d04-446e-b907-04fb298e870c",
   "metadata": {
    "tags": []
   },
   "outputs": [],
   "source": [
    "for s, seed in enumerate(SEEDs):\n",
    "    for l, layer in enumerate(layers):\n",
    "        for m, lr in enumerate(lrs):\n",
    "        \n",
    "            exp_setup = f'{layer}_{lr}_{seed}'\n",
    "            print(exp_setup)\n",
    "            \n",
    "            NN_temp = torch.load(f'./NNs/ReLUP_{exp_setup}.model', map_location='cpu')\n",
    "            \n",
    "            for x_train, y_train in train_loader:\n",
    "                prediction_train = NN_temp(x_train)\n",
    "            for x_valid, y_valid in valid_loader:\n",
    "                prediction_valid = NN_temp(x_valid)\n",
    "            for x_test, y_test in test_loader:\n",
    "                prediction_test = NN_temp(x_test)\n",
    "        \n",
    "            loss_train = lossfunction(Yn_train, prediction_train)\n",
    "            loss_valid = lossfunction(Yn_valid, prediction_valid)\n",
    "            loss_test  = lossfunction(Yn_test,  prediction_test)\n",
    "        \n",
    "            results[s, l, m, 0] = loss_train\n",
    "            results[s, l, m, 1] = loss_valid\n",
    "            results[s, l, m, 2] = loss_test\n",
    "        \n",
    "            plt.figure(figsize=(12,12))\n",
    "            plt.plot(np.linspace(0,1,100), np.linspace(0,1,100),  c='black')\n",
    "            plt.scatter(Yn_train.flatten().numpy(), prediction_train.detach().flatten().numpy(), s=2, color=FC.Blue, label=f'train_loss: {loss_train:.2e}')\n",
    "            plt.scatter(Yn_valid.flatten().numpy(), prediction_valid.detach().flatten().numpy(), s=2, color=FC.Green, label=f'valid_loss: {loss_valid:.2e}')\n",
    "            plt.scatter(Yn_test.flatten().numpy(), prediction_test.detach().flatten().numpy(), s=2, color=FC.Pink, label=f'test_loss: {loss_test:.2e}')\n",
    "            plt.xlim([0, 1])\n",
    "            plt.ylim([0, 1])\n",
    "            plt.legend(fontsize=12)\n",
    "            plt.savefig(f'./NNs/final_ReLUP_{exp_setup}.pdf', format='pdf', bbox_inches='tight', transparent=True)"
   ]
  },
  {
   "cell_type": "markdown",
   "id": "86642cdd-dc7d-44db-af4f-e0cb44bd09ce",
   "metadata": {},
   "source": [
    "# Best model"
   ]
  },
  {
   "cell_type": "code",
   "execution_count": null,
   "id": "6d3e5c2f-e186-40fa-9c22-dece31c47285",
   "metadata": {
    "tags": []
   },
   "outputs": [],
   "source": [
    "best_idx = torch.where(results == results[:,:,:,2].min())\n",
    "print(results[:,:,:,2].min())\n",
    "best_idx"
   ]
  },
  {
   "cell_type": "markdown",
   "id": "996a5063-b1b4-4147-9195-aca76f4950f8",
   "metadata": {},
   "source": [
    "# Save model for further use"
   ]
  },
  {
   "cell_type": "code",
   "execution_count": null,
   "id": "0718b2c5-586b-4ad3-a26c-1853fb0737c5",
   "metadata": {},
   "outputs": [],
   "source": [
    "best_seed = SEEDs[best_idx[0]]\n",
    "best_layer = layers[best_idx[1]]\n",
    "best_lr = lrs[best_idx[2]]\n",
    "best_seed, best_layer, best_lr"
   ]
  },
  {
   "cell_type": "code",
   "execution_count": null,
   "id": "5bea0815-13fa-42af-904f-1a1212910a68",
   "metadata": {
    "tags": []
   },
   "outputs": [],
   "source": [
    "exp_setup = f'{best_layer}_{best_lr}_{best_seed}'\n",
    "exp_setup"
   ]
  },
  {
   "cell_type": "code",
   "execution_count": null,
   "id": "0f378282-1bf9-4923-b2d5-bff13e66ba93",
   "metadata": {
    "tags": []
   },
   "outputs": [],
   "source": [
    "final_ReLUP = torch.load(f'./NNs/ReLUP_{exp_setup}.model', map_location='cpu')\n",
    "print(lossfunction(Yn_test,  final_ReLUP(Xn_test)))\n",
    "\n",
    "package = {'power_estimator': final_ReLUP,\n",
    "           'X_min': X_min, 'X_max': X_max,\n",
    "           'Y_min': Y_min, 'Y_max': Y_max}\n",
    "torch.save(package, '../ReLU_power.package')"
   ]
  },
  {
   "cell_type": "code",
   "execution_count": null,
   "id": "7215d505-11d4-47f4-9890-a71b3447757e",
   "metadata": {},
   "outputs": [],
   "source": []
  }
 ],
 "metadata": {
  "kernelspec": {
   "display_name": "pNN",
   "language": "python",
   "name": "pnn"
  },
  "language_info": {
   "codemirror_mode": {
    "name": "ipython",
    "version": 3
   },
   "file_extension": ".py",
   "mimetype": "text/x-python",
   "name": "python",
   "nbconvert_exporter": "python",
   "pygments_lexer": "ipython3",
   "version": "3.9.16"
  },
  "toc": {
   "base_numbering": 1,
   "nav_menu": {},
   "number_sections": true,
   "sideBar": true,
   "skip_h1_title": false,
   "title_cell": "Table of Contents",
   "title_sidebar": "Contents",
   "toc_cell": false,
   "toc_position": {},
   "toc_section_display": true,
   "toc_window_display": false
  }
 },
 "nbformat": 4,
 "nbformat_minor": 5
}
