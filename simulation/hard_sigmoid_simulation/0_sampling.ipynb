{
 "cells": [
  {
   "cell_type": "code",
   "execution_count": 1,
   "id": "6f9577ce",
   "metadata": {},
   "outputs": [],
   "source": [
    "import numpy as np\n",
    "import torch\n",
    "import matplotlib.pyplot as plt"
   ]
  },
  {
   "cell_type": "markdown",
   "id": "07bd2619",
   "metadata": {},
   "source": [
    "# Number of sampling"
   ]
  },
  {
   "cell_type": "code",
   "execution_count": 2,
   "id": "033db6e4",
   "metadata": {},
   "outputs": [],
   "source": [
    "N = 10000"
   ]
  },
  {
   "cell_type": "markdown",
   "id": "a8ffccc0",
   "metadata": {},
   "source": [
    "# Constraints\n",
    "\n",
    "$R$ in range $[200000,10000000]\\ {\\rm \\Omega}$\n",
    "\n",
    "$W$ in range $[200,1000]\\ {\\rm \\mu m}$\n",
    "\n",
    "$L$ in range $[40,500]\\ {\\rm \\mu m}$"
   ]
  },
  {
   "cell_type": "code",
   "execution_count": 3,
   "id": "82990c5b",
   "metadata": {},
   "outputs": [],
   "source": [
    "range_r  = [200000, 10000000]\n",
    "range_w = [200, 1000]\n",
    "range_l = [40, 500]"
   ]
  },
  {
   "cell_type": "code",
   "execution_count": 4,
   "id": "3483b3f2",
   "metadata": {},
   "outputs": [],
   "source": [
    "RANGE = torch.tensor([range_r, range_w, range_l], dtype=torch.float32)"
   ]
  },
  {
   "cell_type": "code",
   "execution_count": 5,
   "id": "7d5b7601",
   "metadata": {},
   "outputs": [
    {
     "data": {
      "text/plain": [
       "torch.Size([3, 10000])"
      ]
     },
     "execution_count": 5,
     "metadata": {},
     "output_type": "execute_result"
    }
   ],
   "source": [
    "ACT_sampling_mc =  torch.quasirandom.SobolEngine(3).draw(N)\n",
    "ACT_sampling_mc = ACT_sampling_mc*(RANGE[:,1]-RANGE[:,0]) + RANGE[:,0]\n",
    "ACT_sampling_mc = np.round(ACT_sampling_mc).T\n",
    "ACT_sampling_mc.shape"
   ]
  },
  {
   "cell_type": "code",
   "execution_count": 6,
   "id": "47642684",
   "metadata": {},
   "outputs": [
    {
     "data": {
      "text/plain": [
       "tensor([[2.0000e+05, 5.1000e+06, 7.5500e+06,  ..., 8.2074e+06, 5.7574e+06,\n",
       "         8.5736e+05],\n",
       "        [2.0000e-04, 6.0000e-04, 4.0000e-04,  ..., 7.3700e-04, 5.3700e-04,\n",
       "         9.3700e-04],\n",
       "        [4.0000e-05, 2.7000e-04, 1.5500e-04,  ..., 3.7700e-04, 2.6200e-04,\n",
       "         4.9200e-04]])"
      ]
     },
     "execution_count": 6,
     "metadata": {},
     "output_type": "execute_result"
    }
   ],
   "source": [
    "ACT_sampling_mc[1:,:] = ACT_sampling_mc[1:,:]/1000000\n",
    "ACT_sampling_mc"
   ]
  },
  {
   "cell_type": "code",
   "execution_count": 7,
   "id": "e3c293a1",
   "metadata": {},
   "outputs": [],
   "source": [
    "np.savetxt('./data/sampling_hard_sigmoid.csv', ACT_sampling_mc, fmt='%f', delimiter=',')"
   ]
  },
  {
   "cell_type": "code",
   "execution_count": 8,
   "id": "4fb00d45",
   "metadata": {},
   "outputs": [
    {
     "data": {
      "text/plain": [
       "<matplotlib.collections.PathCollection at 0x7fe958659dc0>"
      ]
     },
     "execution_count": 8,
     "metadata": {},
     "output_type": "execute_result"
    },
    {
     "data": {
      "image/png": "[encoded data removed]",
      "text/plain": [
       "<Figure size 432x288 with 1 Axes>"
      ]
     },
     "metadata": {
      "needs_background": "light"
     },
     "output_type": "display_data"
    }
   ],
   "source": [
    "plt.scatter(ACT_sampling_mc[0,:100],ACT_sampling_mc[1,:100])"
   ]
  },
  {
   "cell_type": "code",
   "execution_count": null,
   "id": "97e3715c",
   "metadata": {},
   "outputs": [],
   "source": []
  }
 ],
 "metadata": {
  "kernelspec": {
   "display_name": "Python 3 (ipykernel)",
   "language": "python",
   "name": "python3"
  },
  "language_info": {
   "codemirror_mode": {
    "name": "ipython",
    "version": 3
   },
   "file_extension": ".py",
   "mimetype": "text/x-python",
   "name": "python",
   "nbconvert_exporter": "python",
   "pygments_lexer": "ipython3",
   "version": "3.8.13"
  },
  "toc": {
   "base_numbering": 1,
   "nav_menu": {},
   "number_sections": true,
   "sideBar": true,
   "skip_h1_title": false,
   "title_cell": "Table of Contents",
   "title_sidebar": "Contents",
   "toc_cell": false,
   "toc_position": {},
   "toc_section_display": true,
   "toc_window_display": false
  }
 },
 "nbformat": 4,
 "nbformat_minor": 5
}
