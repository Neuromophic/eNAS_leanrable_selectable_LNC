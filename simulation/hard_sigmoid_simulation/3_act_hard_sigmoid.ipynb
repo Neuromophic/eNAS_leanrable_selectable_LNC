{
 "cells": [
  {
   "cell_type": "code",
   "execution_count": 1,
   "metadata": {
    "scrolled": true,
    "tags": []
   },
   "outputs": [],
   "source": [
    "import pandas\n",
    "import numpy as np\n",
    "import matplotlib.pyplot as plt\n",
    "from scipy import optimize as op\n",
    "from scipy.optimize import curve_fit\n",
    "import math\n",
    "import torch"
   ]
  },
  {
   "cell_type": "code",
   "execution_count": 2,
   "metadata": {
    "tags": []
   },
   "outputs": [],
   "source": [
    "def hardsigmoid(x, a, b, c, d):\n",
    "    linear_segment = a + (b - a) / (d - c) * (x - c)\n",
    "    return np.where(x < c, a, np.where(x <= d, linear_segment, b))\n"
   ]
  },
  {
   "cell_type": "code",
   "execution_count": 3,
   "metadata": {
    "tags": []
   },
   "outputs": [
    {
     "data": {
      "text/plain": [
       "(401, 9999)"
      ]
     },
     "execution_count": 3,
     "metadata": {},
     "output_type": "execute_result"
    }
   ],
   "source": [
    "data = torch.load('./data/hard_sigmoid_vout.data').numpy()\n",
    "data.shape"
   ]
  },
  {
   "cell_type": "code",
   "execution_count": 5,
   "metadata": {
    "scrolled": true,
    "tags": []
   },
   "outputs": [],
   "source": [
    "x = np.linspace(-2, 2, 401)\n",
    "result = []\n",
    "\n",
    "for k in range(data.shape[1]):\n",
    "    y = data[:, k]\n",
    "    \n",
    "    popt, _ = curve_fit(hardsigmoid, x, y, maxfev=1000000, p0=[0., 1., 0., 1.], bounds=([-np.inf, -np.inf, -np.inf, -np.inf], [np.inf, np.inf, np.inf, np.inf]))\n",
    "    eta_1, eta_2, eta_3, eta_4 = popt\n",
    "    result.append([eta_1, eta_2, eta_3, eta_4])\n",
    "\n",
    "    plt.figure()\n",
    "    plt.plot(x, y, color='green')\n",
    "    plt.plot(x, hardsigmoid(x, *popt), color='red') \n",
    "    plt.xlim(-2, 2)\n",
    "    plt.savefig(f'./eta_figures/{k}.pdf', format='pdf', bbox_inches='tight')\n",
    "    plt.close()"
   ]
  },
  {
   "cell_type": "code",
   "execution_count": 5,
   "metadata": {
    "tags": []
   },
   "outputs": [
    {
     "data": {
      "text/plain": [
       "torch.Size([9999, 4])"
      ]
     },
     "execution_count": 5,
     "metadata": {},
     "output_type": "execute_result"
    }
   ],
   "source": [
    "a = torch.tensor(result)\n",
    "a.shape"
   ]
  },
  {
   "cell_type": "code",
   "execution_count": 6,
   "metadata": {
    "tags": []
   },
   "outputs": [],
   "source": [
    "torch.save(a, './data/hard_sigmoid_param.data')"
   ]
  },
  {
   "cell_type": "code",
   "execution_count": null,
   "metadata": {},
   "outputs": [],
   "source": []
  }
 ],
 "metadata": {
  "kernelspec": {
   "display_name": "ML",
   "language": "python",
   "name": "python3"
  },
  "language_info": {
   "codemirror_mode": {
    "name": "ipython",
    "version": 3
   },
   "file_extension": ".py",
   "mimetype": "text/x-python",
   "name": "python",
   "nbconvert_exporter": "python",
   "pygments_lexer": "ipython3",
   "version": "3.8.13"
  },
  "toc": {
   "base_numbering": 1,
   "nav_menu": {},
   "number_sections": true,
   "sideBar": true,
   "skip_h1_title": false,
   "title_cell": "Table of Contents",
   "title_sidebar": "Contents",
   "toc_cell": false,
   "toc_position": {},
   "toc_section_display": true,
   "toc_window_display": false
  }
 },
 "nbformat": 4,
 "nbformat_minor": 4
}
