{
 "cells": [
  {
   "cell_type": "code",
   "execution_count": null,
   "metadata": {},
   "outputs": [],
   "source": [
    "import pandas\n",
    "import numpy as np\n",
    "import matplotlib.pyplot as plt\n",
    "from scipy import optimize as op\n",
    "import math\n",
    "import torch"
   ]
  },
  {
   "cell_type": "code",
   "execution_count": null,
   "metadata": {
    "scrolled": true
   },
   "outputs": [],
   "source": [
    "data = pandas.read_csv('../result/invW_10000.csv')\n",
    "data"
   ]
  },
  {
   "cell_type": "markdown",
   "metadata": {},
   "source": [
    "# 无用列\n",
    "9\n",
    "[0, 1002, 2003, 3004, 3043, 3045, 5007, 7008, 8010]3044"
   ]
  },
  {
   "cell_type": "code",
   "execution_count": null,
   "metadata": {},
   "outputs": [],
   "source": [
    "f1 = data.iloc[:,1]\n",
    "f1"
   ]
  },
  {
   "cell_type": "code",
   "execution_count": null,
   "metadata": {
    "code_folding": []
   },
   "outputs": [],
   "source": [
    "result1 = [[f2 for f2 in range(4001)]]\n",
    "for i in range(1,1002):\n",
    "    \n",
    "    f1 = data.iloc[:,i]\n",
    "    F = [float(f) for f in f1.to_numpy()]\n",
    "    result1.append(F)\n",
    "a= torch.tensor(result1)\n",
    "a.shape"
   ]
  },
  {
   "cell_type": "code",
   "execution_count": null,
   "metadata": {
    "code_folding": []
   },
   "outputs": [],
   "source": [
    "result2 = []\n",
    "for i in range(1003,2003):\n",
    "    \n",
    "    f1 = data.iloc[:,i]\n",
    "    F = [float(f) for f in f1.to_numpy()]\n",
    "    result2.append(F)\n",
    "a= torch.tensor(result2)\n",
    "a.shape"
   ]
  },
  {
   "cell_type": "code",
   "execution_count": null,
   "metadata": {
    "code_folding": [],
    "scrolled": true
   },
   "outputs": [],
   "source": [
    "result3 = []\n",
    "for i in range(2004,3004):\n",
    "    \n",
    "    f1 = data.iloc[:,i]\n",
    "    F = [float(f) for f in f1.to_numpy()]\n",
    "    result3.append(F)\n",
    "a= torch.tensor(result3)\n",
    "a.shape"
   ]
  },
  {
   "cell_type": "code",
   "execution_count": null,
   "metadata": {
    "code_folding": [
     1
    ]
   },
   "outputs": [],
   "source": [
    "result4 = []\n",
    "for i in range(3005,3043):\n",
    "    \n",
    "    f1 = data.iloc[:,i]\n",
    "    F = [float(f) for f in f1.to_numpy()]\n",
    "    result4.append(F)\n",
    "a= torch.tensor(result4)\n",
    "a.shape"
   ]
  },
  {
   "cell_type": "code",
   "execution_count": null,
   "metadata": {
    "code_folding": [
     1
    ]
   },
   "outputs": [],
   "source": [
    "result5 = []\n",
    "for i in range(3046, 5007):\n",
    "    \n",
    "    f1 = data.iloc[:,i]\n",
    "    F = [float(f) for f in f1.to_numpy()]\n",
    "    result5.append(F)\n",
    "a= torch.tensor(result5)\n",
    "a.shape"
   ]
  },
  {
   "cell_type": "code",
   "execution_count": null,
   "metadata": {
    "code_folding": [
     1
    ]
   },
   "outputs": [],
   "source": [
    "result6 = []\n",
    "for i in range(5008, 7008):\n",
    "    \n",
    "    f1 = data.iloc[:,i]\n",
    "    F = [float(f) for f in f1.to_numpy()]\n",
    "    result6.append(F)\n",
    "a= torch.tensor(result6)\n",
    "a.shape"
   ]
  },
  {
   "cell_type": "code",
   "execution_count": null,
   "metadata": {
    "code_folding": [
     1
    ]
   },
   "outputs": [],
   "source": [
    "result7 = []\n",
    "for i in range(7009, 8010):\n",
    "    \n",
    "    f1 = data.iloc[:,i]\n",
    "    F = [float(f) for f in f1.to_numpy()]\n",
    "    result7.append(F)\n",
    "a= torch.tensor(result7)\n",
    "a.shape"
   ]
  },
  {
   "cell_type": "code",
   "execution_count": null,
   "metadata": {
    "code_folding": []
   },
   "outputs": [],
   "source": [
    "result8 = []\n",
    "for i in range(8011, 10009):\n",
    "    \n",
    "    f1 = data.iloc[:,i]\n",
    "    F = [float(f) for f in f1.to_numpy()]\n",
    "    result8.append(F)\n",
    "a= torch.tensor(result8)\n",
    "a.shape"
   ]
  },
  {
   "cell_type": "code",
   "execution_count": null,
   "metadata": {},
   "outputs": [],
   "source": [
    "result = result1+result2+result3+result4+result5+result6+result7+result8\n",
    "a= torch.tensor(result)\n",
    "a.shape"
   ]
  },
  {
   "cell_type": "code",
   "execution_count": null,
   "metadata": {},
   "outputs": [],
   "source": [
    "a"
   ]
  },
  {
   "cell_type": "code",
   "execution_count": null,
   "metadata": {},
   "outputs": [],
   "source": [
    "np.savetxt('./data/inv_output.csv', a, fmt='%f', delimiter=',')"
   ]
  },
  {
   "cell_type": "code",
   "execution_count": null,
   "metadata": {},
   "outputs": [],
   "source": []
  }
 ],
 "metadata": {
  "kernelspec": {
   "display_name": "ML",
   "language": "python",
   "name": "ml"
  },
  "language_info": {
   "codemirror_mode": {
    "name": "ipython",
    "version": 3
   },
   "file_extension": ".py",
   "mimetype": "text/x-python",
   "name": "python",
   "nbconvert_exporter": "python",
   "pygments_lexer": "ipython3",
   "version": "3.8.13"
  },
  "toc": {
   "base_numbering": 1,
   "nav_menu": {},
   "number_sections": true,
   "sideBar": true,
   "skip_h1_title": false,
   "title_cell": "Table of Contents",
   "title_sidebar": "Contents",
   "toc_cell": false,
   "toc_position": {},
   "toc_section_display": true,
   "toc_window_display": false
  }
 },
 "nbformat": 4,
 "nbformat_minor": 4
}
