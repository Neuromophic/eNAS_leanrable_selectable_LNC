{
 "cells": [
  {
   "cell_type": "code",
   "execution_count": null,
   "id": "32051c73-71f9-4847-825b-57a0e1daf2d1",
   "metadata": {},
   "outputs": [],
   "source": [
    "from pprint import pprint\n",
    "import calendar\n",
    "import time\n",
    "\n",
    "import sklearn.datasets\n",
    "import sklearn.metrics\n",
    "import autosklearn.regression\n",
    "\n",
    "import matplotlib.pyplot as plt\n",
    "import torch\n",
    "from torch.utils.data import TensorDataset\n",
    "from torch.utils.data import DataLoader\n",
    "import pickle\n",
    "import config"
   ]
  },
  {
   "cell_type": "code",
   "execution_count": null,
   "id": "95bdb138-8a9c-4dc0-a81e-be420be5877d",
   "metadata": {},
   "outputs": [],
   "source": [
    "with open('./data/inv_dataset.p', 'rb') as file:\n",
    "    a = pickle.load(file)"
   ]
  },
  {
   "cell_type": "code",
   "execution_count": null,
   "id": "da1dd679-15d7-4f83-bf63-33b7178f5228",
   "metadata": {},
   "outputs": [],
   "source": [
    "X, Y = a['X'], a['Y']\n",
    "Xn, Yn = a['Xn'], a['Yn']\n",
    "X_min, X_max = a['X_min'], a['X_max']\n",
    "Y_min, Y_max = a['Y_min'], a['Y_max']\n",
    "\n",
    "X_learn, Y_learn = a['X_learn'], a['Y_learn']\n",
    "X_train, Y_train = a['X_train'], a['Y_train']\n",
    "X_valid, Y_valid = a['X_valid'], a['Y_valid']\n",
    "X_test , Y_test  = a['X_test'] , a['Y_test']\n",
    "\n",
    "Xn_learn, Yn_learn = a['Xn_learn'], a['Yn_learn']\n",
    "Xn_train, Yn_train = a['Xn_train'], a['Yn_train']\n",
    "Xn_valid, Yn_valid = a['Xn_valid'], a['Yn_valid']\n",
    "Xn_test , Yn_test  = a['Xn_test'] , a['Yn_test']"
   ]
  },
  {
   "cell_type": "code",
   "execution_count": null,
   "id": "ae29683e-903f-48c0-b70a-11418f894250",
   "metadata": {},
   "outputs": [],
   "source": [
    "automl = autosklearn.regression.AutoSklearnRegressor(\n",
    "    time_left_for_this_task=1200,\n",
    "    per_run_time_limit=60,\n",
    "    tmp_folder=f\"./temp/{int(calendar.timegm(time.gmtime()))}\",\n",
    ")\n",
    "automl.fit(Xn_learn.numpy(), Yn_learn.numpy())"
   ]
  },
  {
   "cell_type": "code",
   "execution_count": null,
   "id": "566486de-4045-4bfd-bede-4c9c85d51f52",
   "metadata": {},
   "outputs": [],
   "source": [
    "Yn_learn_automl = automl.predict(Xn_learn.numpy())\n",
    "Yn_test_automl  = automl.predict(Xn_test.numpy())\n",
    "Y_learn_automl  = config.Normalization(Yn_learn_automl, Y_min.numpy(), Y_max.numpy(), inverse=True)\n",
    "Y_test_automl   = config.Normalization(Yn_test_automl, Y_min.numpy(), Y_max.numpy(), inverse=True)"
   ]
  },
  {
   "cell_type": "code",
   "execution_count": null,
   "id": "8474c597-6580-4407-86c2-0933e274fad3",
   "metadata": {},
   "outputs": [],
   "source": [
    "print(\"Train R2 score:\", sklearn.metrics.mean_squared_error(Y_learn.numpy(), Y_learn_automl))\n",
    "print(\"Test R2 score:\", sklearn.metrics.mean_squared_error(Y_test.numpy(), Y_test_automl))"
   ]
  },
  {
   "cell_type": "code",
   "execution_count": null,
   "id": "d62ebf30-dab9-4b4f-a41f-97c1a5bfecbd",
   "metadata": {},
   "outputs": [],
   "source": [
    "plt.scatter(Y_learn_automl, Y_learn.numpy(), label=\"Train samples\", c=\"red\", s=1)\n",
    "plt.scatter(Y_test_automl, Y_test.numpy(), label=\"Test samples\", c=\"blue\", s=1)\n",
    "plt.xlabel(\"Predicted value\")\n",
    "plt.ylabel(\"True value\")\n",
    "plt.legend()\n",
    "plt.tight_layout()\n",
    "plt.show()"
   ]
  },
  {
   "cell_type": "code",
   "execution_count": null,
   "id": "5d3c064f-8cfc-4d12-a095-ed0bda6d9e9b",
   "metadata": {},
   "outputs": [],
   "source": []
  }
 ],
 "metadata": {
  "kernelspec": {
   "display_name": "SDIL",
   "language": "python",
   "name": "sdil"
  },
  "language_info": {
   "codemirror_mode": {
    "name": "ipython",
    "version": 3
   },
   "file_extension": ".py",
   "mimetype": "text/x-python",
   "name": "python",
   "nbconvert_exporter": "python",
   "pygments_lexer": "ipython3",
   "version": "3.8.13"
  }
 },
 "nbformat": 4,
 "nbformat_minor": 5
}
