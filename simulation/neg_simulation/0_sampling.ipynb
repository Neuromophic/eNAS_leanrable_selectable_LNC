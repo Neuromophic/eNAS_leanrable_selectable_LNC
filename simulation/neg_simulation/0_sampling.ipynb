{
 "cells": [
  {
   "cell_type": "code",
   "execution_count": 1,
   "id": "6f9577ce",
   "metadata": {},
   "outputs": [],
   "source": [
    "import numpy as np\n",
    "import torch\n",
    "import matplotlib.pyplot as plt"
   ]
  },
  {
   "cell_type": "markdown",
   "id": "07bd2619",
   "metadata": {},
   "source": [
    "# Number of sampling"
   ]
  },
  {
   "cell_type": "code",
   "execution_count": 2,
   "id": "033db6e4",
   "metadata": {},
   "outputs": [],
   "source": [
    "N = 10000"
   ]
  },
  {
   "cell_type": "markdown",
   "id": "a8ffccc0",
   "metadata": {},
   "source": [
    "# Constraints\n",
    "\n",
    "$R1$ in range $[250000, 2050000]\\ {\\rm \\Omega}$\n",
    "\n",
    "$R2$ in range $[6000, 32000]\\ {\\rm \\Omega}$\n",
    "\n",
    "$R3$ in range $[300000, 500000]\\ {\\rm \\mu m}$\n",
    "\n",
    "$W1$ in range $[80, 100]\\ {\\rm \\mu m}$\n",
    "\n",
    "$L1$ in range $[40, 80]\\ {\\rm \\mu m}$\n",
    "\n",
    "$W2$ in range $[480, 500]\\ {\\rm \\mu m}$\n",
    "\n",
    "$L2$ in range $[30, 40]\\ {\\rm \\mu m}$\n",
    "\n",
    "$W3$ in range $[80, 200]\\ {\\rm \\mu m}$\n",
    "\n",
    "$L3$ in range $[50, 150]\\ {\\rm \\mu m}$"
   ]
  },
  {
   "cell_type": "code",
   "execution_count": 3,
   "id": "82990c5b",
   "metadata": {},
   "outputs": [],
   "source": [
    "range_r1  = [250000,2050000]\n",
    "range_r2  = [6000,32000]\n",
    "range_r3  = [300000,500000]\n",
    "range_w1  = [80,100]\n",
    "range_l1  = [40,80]\n",
    "range_w2  = [480,500]\n",
    "range_l2  = [30,40]\n",
    "range_w3  = [80,200]\n",
    "range_l3  = [50,150]"
   ]
  },
  {
   "cell_type": "code",
   "execution_count": 4,
   "id": "3483b3f2",
   "metadata": {},
   "outputs": [],
   "source": [
    "RANGE = torch.tensor([range_r1,range_r2,range_r3,range_w1,range_l1,range_w2,range_l2,range_w3,range_l3])"
   ]
  },
  {
   "cell_type": "code",
   "execution_count": 5,
   "id": "7d5b7601",
   "metadata": {},
   "outputs": [
    {
     "data": {
      "text/plain": [
       "torch.Size([9, 10000])"
      ]
     },
     "execution_count": 5,
     "metadata": {},
     "output_type": "execute_result"
    }
   ],
   "source": [
    "ACT_sampling_mc =  torch.quasirandom.SobolEngine(9).draw(N)\n",
    "ACT_sampling_mc = ACT_sampling_mc*(RANGE[:,1]-RANGE[:,0]) + RANGE[:,0]\n",
    "ACT_sampling_mc = np.round(ACT_sampling_mc).T\n",
    "ACT_sampling_mc.shape"
   ]
  },
  {
   "cell_type": "code",
   "execution_count": 6,
   "id": "99e11eba",
   "metadata": {},
   "outputs": [
    {
     "data": {
      "text/plain": [
       "tensor([[2.5000e+05, 1.1500e+06, 1.6000e+06,  ..., 1.7207e+06, 1.2707e+06,\n",
       "         3.7074e+05],\n",
       "        [6.0000e+03, 1.9000e+04, 1.2500e+04,  ..., 2.3458e+04, 1.6958e+04,\n",
       "         2.9958e+04],\n",
       "        [3.0000e+05, 4.0000e+05, 3.5000e+05,  ..., 4.4654e+05, 3.9654e+05,\n",
       "         4.9654e+05],\n",
       "        ...,\n",
       "        [3.0000e-05, 3.5000e-05, 3.2000e-05,  ..., 3.3000e-05, 3.6000e-05,\n",
       "         3.1000e-05],\n",
       "        [8.0000e-05, 1.4000e-04, 1.7000e-04,  ..., 1.3700e-04, 1.0700e-04,\n",
       "         1.6700e-04],\n",
       "        [5.0000e-05, 1.0000e-04, 1.2500e-04,  ..., 1.1100e-04, 1.3600e-04,\n",
       "         8.6000e-05]])"
      ]
     },
     "execution_count": 6,
     "metadata": {},
     "output_type": "execute_result"
    }
   ],
   "source": [
    "ACT_sampling_mc[3:,:] = ACT_sampling_mc[3:,:] / 1000000\n",
    "ACT_sampling_mc"
   ]
  },
  {
   "cell_type": "code",
   "execution_count": 7,
   "id": "e3c293a1",
   "metadata": {},
   "outputs": [],
   "source": [
    "np.savetxt('./data/sampling_neg.csv', ACT_sampling_mc, fmt='%f', delimiter=',')"
   ]
  },
  {
   "cell_type": "code",
   "execution_count": 8,
   "id": "4fb00d45",
   "metadata": {},
   "outputs": [
    {
     "data": {
      "text/plain": [
       "<matplotlib.collections.PathCollection at 0x7f94c0881b50>"
      ]
     },
     "execution_count": 8,
     "metadata": {},
     "output_type": "execute_result"
    },
    {
     "data": {
      "image/png": "[encoded data removed]",
      "text/plain": [
       "<Figure size 432x288 with 1 Axes>"
      ]
     },
     "metadata": {
      "needs_background": "light"
     },
     "output_type": "display_data"
    }
   ],
   "source": [
    "plt.scatter(ACT_sampling_mc[0,:100],ACT_sampling_mc[1,:100])"
   ]
  }
 ],
 "metadata": {
  "kernelspec": {
   "display_name": "Python 3 (ipykernel)",
   "language": "python",
   "name": "python3"
  },
  "language_info": {
   "codemirror_mode": {
    "name": "ipython",
    "version": 3
   },
   "file_extension": ".py",
   "mimetype": "text/x-python",
   "name": "python",
   "nbconvert_exporter": "python",
   "pygments_lexer": "ipython3",
   "version": "3.8.13"
  },
  "toc": {
   "base_numbering": 1,
   "nav_menu": {},
   "number_sections": true,
   "sideBar": true,
   "skip_h1_title": false,
   "title_cell": "Table of Contents",
   "title_sidebar": "Contents",
   "toc_cell": false,
   "toc_position": {},
   "toc_section_display": true,
   "toc_window_display": false
  }
 },
 "nbformat": 4,
 "nbformat_minor": 5
}
