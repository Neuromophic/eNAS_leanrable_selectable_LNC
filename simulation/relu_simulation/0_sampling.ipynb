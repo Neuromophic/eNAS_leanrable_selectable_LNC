{
 "cells": [
  {
   "cell_type": "code",
   "execution_count": 1,
   "id": "6f9577ce",
   "metadata": {},
   "outputs": [],
   "source": [
    "import numpy as np\n",
    "import torch\n",
    "import matplotlib.pyplot as plt\n",
    "import pandas"
   ]
  },
  {
   "cell_type": "markdown",
   "id": "07bd2619",
   "metadata": {},
   "source": [
    "# Number of sampling"
   ]
  },
  {
   "cell_type": "code",
   "execution_count": 2,
   "id": "033db6e4",
   "metadata": {},
   "outputs": [],
   "source": [
    "N = 10000"
   ]
  },
  {
   "cell_type": "markdown",
   "id": "a8ffccc0",
   "metadata": {},
   "source": [
    "# Constraints\n",
    "\n",
    "$RH$ in range $[10000,100000]\\ {\\rm \\Omega}$\n",
    "\n",
    "$RL$ in range $[500000,2000000]\\ {\\rm \\Omega}$\n",
    "\n",
    "$RD$ in range $[1000, 20000]\\ {\\rm \\mu m}$\n",
    "\n",
    "$R_{base}$ in range $[30000, 100000]\\ {\\rm \\mu m}$\n",
    "\n",
    "$W$ in range $[200,800]\\ {\\rm \\mu m}$\n",
    "\n",
    "$L$ in range $[80,120]\\ {\\rm \\mu m}$"
   ]
  },
  {
   "cell_type": "code",
   "execution_count": 3,
   "id": "82990c5b",
   "metadata": {},
   "outputs": [],
   "source": [
    "range_rh  = [10000, 100000]\n",
    "range_rl  = [500000, 2000000]\n",
    "range_rd = [1000, 20000]\n",
    "range_rb = [30000, 100000]\n",
    "range_w = [200, 800]\n",
    "range_l = [80, 120]"
   ]
  },
  {
   "cell_type": "code",
   "execution_count": 4,
   "id": "3483b3f2",
   "metadata": {},
   "outputs": [],
   "source": [
    "RANGE = torch.tensor([range_rh, range_rl, range_rd, range_rb, range_w, range_l])"
   ]
  },
  {
   "cell_type": "code",
   "execution_count": 5,
   "id": "7d5b7601",
   "metadata": {},
   "outputs": [
    {
     "data": {
      "text/plain": [
       "torch.Size([6, 10000])"
      ]
     },
     "execution_count": 5,
     "metadata": {},
     "output_type": "execute_result"
    }
   ],
   "source": [
    "ACT_sampling_mc =  torch.quasirandom.SobolEngine(6).draw(N)\n",
    "ACT_sampling_mc = ACT_sampling_mc*(RANGE[:,1]-RANGE[:,0]) + RANGE[:,0]\n",
    "ACT_sampling_mc = np.round(ACT_sampling_mc).T\n",
    "ACT_sampling_mc.shape"
   ]
  },
  {
   "cell_type": "code",
   "execution_count": 6,
   "id": "1af85531",
   "metadata": {},
   "outputs": [
    {
     "data": {
      "text/plain": [
       "tensor([[1.0000e+04, 5.5000e+04, 7.7500e+04,  ..., 8.3537e+04, 6.1037e+04,\n",
       "         1.6037e+04],\n",
       "        [5.0000e+05, 1.2500e+06, 8.7500e+05,  ..., 1.5072e+06, 1.1322e+06,\n",
       "         1.8822e+06],\n",
       "        [1.0000e+03, 1.0500e+04, 5.7500e+03,  ..., 1.4922e+04, 1.0172e+04,\n",
       "         1.9672e+04],\n",
       "        [3.0000e+04, 6.5000e+04, 4.7500e+04,  ..., 3.6259e+04, 8.8759e+04,\n",
       "         5.3759e+04],\n",
       "        [2.0000e-04, 5.0000e-04, 6.5000e-04,  ..., 7.8400e-04, 6.3400e-04,\n",
       "         3.3400e-04],\n",
       "        [8.0000e-05, 1.0000e-04, 1.1000e-04,  ..., 1.1500e-04, 1.0500e-04,\n",
       "         8.5000e-05]])"
      ]
     },
     "execution_count": 6,
     "metadata": {},
     "output_type": "execute_result"
    }
   ],
   "source": [
    "ACT_sampling_mc[4:,:] = ACT_sampling_mc[4:,:]/1000000\n",
    "ACT_sampling_mc"
   ]
  },
  {
   "cell_type": "code",
   "execution_count": 7,
   "id": "e3c293a1",
   "metadata": {},
   "outputs": [],
   "source": [
    "np.savetxt('./data/sampling_pReLU.csv', ACT_sampling_mc, fmt='%f', delimiter=',')"
   ]
  },
  {
   "cell_type": "code",
   "execution_count": 8,
   "id": "4fb00d45",
   "metadata": {},
   "outputs": [
    {
     "data": {
      "text/plain": [
       "<matplotlib.collections.PathCollection at 0x7f9f504ebb80>"
      ]
     },
     "execution_count": 8,
     "metadata": {},
     "output_type": "execute_result"
    },
    {
     "data": {
      "image/png": "[encoded data removed]",
      "text/plain": [
       "<Figure size 432x288 with 1 Axes>"
      ]
     },
     "metadata": {
      "needs_background": "light"
     },
     "output_type": "display_data"
    }
   ],
   "source": [
    "plt.scatter(ACT_sampling_mc[0,:100],ACT_sampling_mc[1,:100])"
   ]
  },
  {
   "cell_type": "code",
   "execution_count": 9,
   "id": "707d9b76",
   "metadata": {},
   "outputs": [
    {
     "data": {
      "text/html": [
       "<div>\n",
       "<style scoped>\n",
       "    .dataframe tbody tr th:only-of-type {\n",
       "        vertical-align: middle;\n",
       "    }\n",
       "\n",
       "    .dataframe tbody tr th {\n",
       "        vertical-align: top;\n",
       "    }\n",
       "\n",
       "    .dataframe thead th {\n",
       "        text-align: right;\n",
       "    }\n",
       "</style>\n",
       "<table border=\"1\" class=\"dataframe\">\n",
       "  <thead>\n",
       "    <tr style=\"text-align: right;\">\n",
       "      <th></th>\n",
       "      <th>0</th>\n",
       "      <th>1</th>\n",
       "      <th>2</th>\n",
       "      <th>3</th>\n",
       "      <th>4</th>\n",
       "      <th>5</th>\n",
       "      <th>6</th>\n",
       "      <th>7</th>\n",
       "      <th>8</th>\n",
       "      <th>9</th>\n",
       "      <th>...</th>\n",
       "      <th>9990</th>\n",
       "      <th>9991</th>\n",
       "      <th>9992</th>\n",
       "      <th>9993</th>\n",
       "      <th>9994</th>\n",
       "      <th>9995</th>\n",
       "      <th>9996</th>\n",
       "      <th>9997</th>\n",
       "      <th>9998</th>\n",
       "      <th>9999</th>\n",
       "    </tr>\n",
       "  </thead>\n",
       "  <tbody>\n",
       "    <tr>\n",
       "      <th>0</th>\n",
       "      <td>10000.00000</td>\n",
       "      <td>5.500000e+04</td>\n",
       "      <td>77500.00000</td>\n",
       "      <td>3.250000e+04</td>\n",
       "      <td>4.375000e+04</td>\n",
       "      <td>8.875000e+04</td>\n",
       "      <td>66250.000000</td>\n",
       "      <td>2.125000e+04</td>\n",
       "      <td>26875.000000</td>\n",
       "      <td>7.187500e+04</td>\n",
       "      <td>...</td>\n",
       "      <td>66662.000000</td>\n",
       "      <td>2.166200e+04</td>\n",
       "      <td>27287.000000</td>\n",
       "      <td>7.228700e+04</td>\n",
       "      <td>94787.000000</td>\n",
       "      <td>4.978700e+04</td>\n",
       "      <td>38537.000000</td>\n",
       "      <td>8.353700e+04</td>\n",
       "      <td>6.103700e+04</td>\n",
       "      <td>1.603700e+04</td>\n",
       "    </tr>\n",
       "    <tr>\n",
       "      <th>1</th>\n",
       "      <td>500000.00000</td>\n",
       "      <td>1.250000e+06</td>\n",
       "      <td>875000.00000</td>\n",
       "      <td>1.625000e+06</td>\n",
       "      <td>1.062500e+06</td>\n",
       "      <td>1.812500e+06</td>\n",
       "      <td>687500.000000</td>\n",
       "      <td>1.437500e+06</td>\n",
       "      <td>968750.000000</td>\n",
       "      <td>1.718750e+06</td>\n",
       "      <td>...</td>\n",
       "      <td>850922.000000</td>\n",
       "      <td>1.600922e+06</td>\n",
       "      <td>944672.000000</td>\n",
       "      <td>1.694672e+06</td>\n",
       "      <td>569672.000000</td>\n",
       "      <td>1.319672e+06</td>\n",
       "      <td>757172.000000</td>\n",
       "      <td>1.507172e+06</td>\n",
       "      <td>1.132172e+06</td>\n",
       "      <td>1.882172e+06</td>\n",
       "    </tr>\n",
       "    <tr>\n",
       "      <th>2</th>\n",
       "      <td>1000.00000</td>\n",
       "      <td>1.050000e+04</td>\n",
       "      <td>5750.00000</td>\n",
       "      <td>1.525000e+04</td>\n",
       "      <td>1.287500e+04</td>\n",
       "      <td>3.375000e+03</td>\n",
       "      <td>17625.000000</td>\n",
       "      <td>8.125000e+03</td>\n",
       "      <td>18812.000000</td>\n",
       "      <td>9.312000e+03</td>\n",
       "      <td>...</td>\n",
       "      <td>11359.000000</td>\n",
       "      <td>1.859000e+03</td>\n",
       "      <td>12547.000000</td>\n",
       "      <td>3.047000e+03</td>\n",
       "      <td>17297.000000</td>\n",
       "      <td>7.797000e+03</td>\n",
       "      <td>5422.000000</td>\n",
       "      <td>1.492200e+04</td>\n",
       "      <td>1.017200e+04</td>\n",
       "      <td>1.967200e+04</td>\n",
       "    </tr>\n",
       "    <tr>\n",
       "      <th>3</th>\n",
       "      <td>30000.00000</td>\n",
       "      <td>6.500000e+04</td>\n",
       "      <td>47500.00000</td>\n",
       "      <td>8.250000e+04</td>\n",
       "      <td>9.125000e+04</td>\n",
       "      <td>5.625000e+04</td>\n",
       "      <td>73750.000000</td>\n",
       "      <td>3.875000e+04</td>\n",
       "      <td>60625.000000</td>\n",
       "      <td>9.562500e+04</td>\n",
       "      <td>...</td>\n",
       "      <td>75634.000000</td>\n",
       "      <td>4.063400e+04</td>\n",
       "      <td>62509.000000</td>\n",
       "      <td>9.750900e+04</td>\n",
       "      <td>45009.000000</td>\n",
       "      <td>8.000900e+04</td>\n",
       "      <td>71259.000000</td>\n",
       "      <td>3.625900e+04</td>\n",
       "      <td>8.875900e+04</td>\n",
       "      <td>5.375900e+04</td>\n",
       "    </tr>\n",
       "    <tr>\n",
       "      <th>4</th>\n",
       "      <td>0.00020</td>\n",
       "      <td>5.000000e-04</td>\n",
       "      <td>0.00065</td>\n",
       "      <td>3.500000e-04</td>\n",
       "      <td>4.250000e-04</td>\n",
       "      <td>7.250000e-04</td>\n",
       "      <td>0.000575</td>\n",
       "      <td>2.750000e-04</td>\n",
       "      <td>0.000538</td>\n",
       "      <td>2.380000e-04</td>\n",
       "      <td>...</td>\n",
       "      <td>0.000296</td>\n",
       "      <td>5.960000e-04</td>\n",
       "      <td>0.000259</td>\n",
       "      <td>5.590000e-04</td>\n",
       "      <td>0.000709</td>\n",
       "      <td>4.090000e-04</td>\n",
       "      <td>0.000484</td>\n",
       "      <td>7.840000e-04</td>\n",
       "      <td>6.340000e-04</td>\n",
       "      <td>3.340000e-04</td>\n",
       "    </tr>\n",
       "    <tr>\n",
       "      <th>5</th>\n",
       "      <td>0.00008</td>\n",
       "      <td>1.000000e-04</td>\n",
       "      <td>0.00011</td>\n",
       "      <td>9.000000e-05</td>\n",
       "      <td>8.500000e-05</td>\n",
       "      <td>1.050000e-04</td>\n",
       "      <td>0.000115</td>\n",
       "      <td>9.500000e-05</td>\n",
       "      <td>0.000092</td>\n",
       "      <td>1.120000e-04</td>\n",
       "      <td>...</td>\n",
       "      <td>0.000118</td>\n",
       "      <td>9.800000e-05</td>\n",
       "      <td>0.000090</td>\n",
       "      <td>1.100000e-04</td>\n",
       "      <td>0.000100</td>\n",
       "      <td>8.000000e-05</td>\n",
       "      <td>0.000095</td>\n",
       "      <td>1.150000e-04</td>\n",
       "      <td>1.050000e-04</td>\n",
       "      <td>8.500000e-05</td>\n",
       "    </tr>\n",
       "  </tbody>\n",
       "</table>\n",
       "<p>6 rows × 10000 columns</p>\n",
       "</div>"
      ],
      "text/plain": [
       "           0             1             2             3             4     \\\n",
       "0   10000.00000  5.500000e+04   77500.00000  3.250000e+04  4.375000e+04   \n",
       "1  500000.00000  1.250000e+06  875000.00000  1.625000e+06  1.062500e+06   \n",
       "2    1000.00000  1.050000e+04    5750.00000  1.525000e+04  1.287500e+04   \n",
       "3   30000.00000  6.500000e+04   47500.00000  8.250000e+04  9.125000e+04   \n",
       "4       0.00020  5.000000e-04       0.00065  3.500000e-04  4.250000e-04   \n",
       "5       0.00008  1.000000e-04       0.00011  9.000000e-05  8.500000e-05   \n",
       "\n",
       "           5              6             7              8             9     \\\n",
       "0  8.875000e+04   66250.000000  2.125000e+04   26875.000000  7.187500e+04   \n",
       "1  1.812500e+06  687500.000000  1.437500e+06  968750.000000  1.718750e+06   \n",
       "2  3.375000e+03   17625.000000  8.125000e+03   18812.000000  9.312000e+03   \n",
       "3  5.625000e+04   73750.000000  3.875000e+04   60625.000000  9.562500e+04   \n",
       "4  7.250000e-04       0.000575  2.750000e-04       0.000538  2.380000e-04   \n",
       "5  1.050000e-04       0.000115  9.500000e-05       0.000092  1.120000e-04   \n",
       "\n",
       "   ...           9990          9991           9992          9993  \\\n",
       "0  ...   66662.000000  2.166200e+04   27287.000000  7.228700e+04   \n",
       "1  ...  850922.000000  1.600922e+06  944672.000000  1.694672e+06   \n",
       "2  ...   11359.000000  1.859000e+03   12547.000000  3.047000e+03   \n",
       "3  ...   75634.000000  4.063400e+04   62509.000000  9.750900e+04   \n",
       "4  ...       0.000296  5.960000e-04       0.000259  5.590000e-04   \n",
       "5  ...       0.000118  9.800000e-05       0.000090  1.100000e-04   \n",
       "\n",
       "            9994          9995           9996          9997          9998  \\\n",
       "0   94787.000000  4.978700e+04   38537.000000  8.353700e+04  6.103700e+04   \n",
       "1  569672.000000  1.319672e+06  757172.000000  1.507172e+06  1.132172e+06   \n",
       "2   17297.000000  7.797000e+03    5422.000000  1.492200e+04  1.017200e+04   \n",
       "3   45009.000000  8.000900e+04   71259.000000  3.625900e+04  8.875900e+04   \n",
       "4       0.000709  4.090000e-04       0.000484  7.840000e-04  6.340000e-04   \n",
       "5       0.000100  8.000000e-05       0.000095  1.150000e-04  1.050000e-04   \n",
       "\n",
       "           9999  \n",
       "0  1.603700e+04  \n",
       "1  1.882172e+06  \n",
       "2  1.967200e+04  \n",
       "3  5.375900e+04  \n",
       "4  3.340000e-04  \n",
       "5  8.500000e-05  \n",
       "\n",
       "[6 rows x 10000 columns]"
      ]
     },
     "execution_count": 9,
     "metadata": {},
     "output_type": "execute_result"
    }
   ],
   "source": [
    "data = pandas.read_csv('./data/sampling_pReLU.csv', header=None)\n",
    "data"
   ]
  }
 ],
 "metadata": {
  "kernelspec": {
   "display_name": "Python 3 (ipykernel)",
   "language": "python",
   "name": "python3"
  },
  "language_info": {
   "codemirror_mode": {
    "name": "ipython",
    "version": 3
   },
   "file_extension": ".py",
   "mimetype": "text/x-python",
   "name": "python",
   "nbconvert_exporter": "python",
   "pygments_lexer": "ipython3",
   "version": "3.8.13"
  },
  "toc": {
   "base_numbering": 1,
   "nav_menu": {},
   "number_sections": true,
   "sideBar": true,
   "skip_h1_title": false,
   "title_cell": "Table of Contents",
   "title_sidebar": "Contents",
   "toc_cell": false,
   "toc_position": {},
   "toc_section_display": true,
   "toc_window_display": false
  }
 },
 "nbformat": 4,
 "nbformat_minor": 5
}
