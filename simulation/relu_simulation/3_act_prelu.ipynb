{
 "cells": [
  {
   "cell_type": "code",
   "execution_count": 1,
   "metadata": {
    "tags": []
   },
   "outputs": [],
   "source": [
    "import pandas\n",
    "import numpy as np\n",
    "import matplotlib.pyplot as plt\n",
    "from scipy import optimize as op\n",
    "from scipy.optimize import curve_fit\n",
    "import math\n",
    "import torch"
   ]
  },
  {
   "cell_type": "code",
   "execution_count": 2,
   "metadata": {
    "tags": []
   },
   "outputs": [],
   "source": [
    "def softplus(x, beta):\n",
    "    \"\"\"Softplus function with sharpness parameter.\"\"\"\n",
    "    return (1.0 / beta) * np.log(1 + np.exp(beta * x))\n",
    "\n",
    "def combined_function(x, alpha, beta, gamma, phi, sharpness):\n",
    "    \"\"\"Modified function combining linear and softplus terms.\"\"\"\n",
    "    return alpha * (x - gamma) + beta * softplus(x - gamma, sharpness) + phi\n"
   ]
  },
  {
   "cell_type": "code",
   "execution_count": 3,
   "metadata": {
    "tags": []
   },
   "outputs": [
    {
     "data": {
      "text/plain": [
       "(401, 9999)"
      ]
     },
     "execution_count": 3,
     "metadata": {},
     "output_type": "execute_result"
    }
   ],
   "source": [
    "data = torch.load('./data/pReLU_vout.data').numpy()\n",
    "data.shape"
   ]
  },
  {
   "cell_type": "code",
   "execution_count": 4,
   "metadata": {
    "scrolled": true,
    "tags": []
   },
   "outputs": [],
   "source": [
    "x = np.linspace(-2, 2, 401)\n",
    "result = []\n",
    "\n",
    "for k in range(data.shape[1]):\n",
    "    y = data[:, k]\n",
    "    \n",
    "    popt, _ = curve_fit(combined_function, x, y, maxfev=1000000, p0=[0.2, 1., 0., 0., 10.], bounds=([0, 0, -np.inf, -np.inf, 0], [np.inf, np.inf, np.inf, np.inf, np.inf]))\n",
    "    alpha, beta, gamma, phi, sharpness = popt\n",
    "    result.append([alpha, beta, gamma, phi, sharpness])\n",
    "\n",
    "    plt.figure()\n",
    "    plt.plot(x, y, color='green')\n",
    "    plt.plot(x, combined_function(x, *popt), color='red') \n",
    "    plt.savefig(f'./prelu_figures/{k}.pdf', format='pdf', bbox_inches='tight')\n",
    "    plt.close()"
   ]
  },
  {
   "cell_type": "code",
   "execution_count": 5,
   "metadata": {
    "tags": []
   },
   "outputs": [
    {
     "data": {
      "text/plain": [
       "torch.Size([9999, 5])"
      ]
     },
     "execution_count": 5,
     "metadata": {},
     "output_type": "execute_result"
    }
   ],
   "source": [
    "a = torch.tensor(result)\n",
    "a.shape"
   ]
  },
  {
   "cell_type": "code",
   "execution_count": 6,
   "metadata": {
    "tags": []
   },
   "outputs": [],
   "source": [
    "torch.save(a, './data/prelu_param.data')"
   ]
  },
  {
   "cell_type": "code",
   "execution_count": null,
   "metadata": {},
   "outputs": [],
   "source": []
  }
 ],
 "metadata": {
  "kernelspec": {
   "display_name": "ML",
   "language": "python",
   "name": "python3"
  },
  "language_info": {
   "codemirror_mode": {
    "name": "ipython",
    "version": 3
   },
   "file_extension": ".py",
   "mimetype": "text/x-python",
   "name": "python",
   "nbconvert_exporter": "python",
   "pygments_lexer": "ipython3",
   "version": "3.8.13"
  },
  "toc": {
   "base_numbering": 1,
   "nav_menu": {},
   "number_sections": true,
   "sideBar": true,
   "skip_h1_title": false,
   "title_cell": "Table of Contents",
   "title_sidebar": "Contents",
   "toc_cell": false,
   "toc_position": {},
   "toc_section_display": true,
   "toc_window_display": false
  }
 },
 "nbformat": 4,
 "nbformat_minor": 4
}
