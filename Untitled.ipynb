{
 "cells": [
  {
   "cell_type": "code",
   "execution_count": 1,
   "id": "d3e84d2f",
   "metadata": {},
   "outputs": [],
   "source": [
    "import sys\n",
    "import os\n",
    "sys.path.append(os.getcwd())\n",
    "# sys.path.append(os.path.join(os.getcwd(), 'NEAT_LNC_genome'))\n",
    "sys.path.append(os.path.join(os.getcwd(), 'NEAT_LNC_node'))\n",
    "import torch\n",
    "import NEAT_LNC_node as neat\n",
    "import pprint\n",
    "from utils import *\n",
    "from configuration import *\n",
    "from NEAT_args import *"
   ]
  },
  {
   "cell_type": "code",
   "execution_count": 2,
   "id": "099b871b",
   "metadata": {},
   "outputs": [
    {
     "name": "stdout",
     "output_type": "stream",
     "text": [
      "{'N_class': 2,\n",
      " 'N_feature': 6,\n",
      " 'N_test': 25,\n",
      " 'N_train': 70,\n",
      " 'N_valid': 23,\n",
      " 'dataname': 'acuteinflammation'}\n",
      "Training setup: NEAT_data_acuteinflammation_seed_01_Penalty_area_Factor_0.00000.\n",
      "\n",
      "Population of 50 members in 1 species\n",
      " ==================================================\n",
      " |  ID  | age | size |  fitness  | adj fit | stag |\n",
      " -------+-----+------+-----------+---------+-------\n",
      " |    1 |   0 |   50 |     0.527 |   0.000 |    0 |\n",
      " ==================================================\n",
      "|   0 | Train | Mean Fit: 5.27e-01 | Best Fit: 5.27e-01 | #Node  2 | #Edge  0 | Accuracy: 0.529 | Std: 5.960e-08 |\n",
      "|   0 | Valid | Mean Fit: 6.07e-01 | Best Fit: 6.07e-01 | #Node  2 | #Edge  0 | Accuracy: 0.609 | Std: 5.960e-08 |\n",
      "Patience for early-stopping: 0\n",
      "Epoch time: 0.268\n",
      "\n"
     ]
    }
   ],
   "source": [
    "args = parser.parse_args([])\n",
    "EA_args = EA_parser.parse_args([])\n",
    "\n",
    "reference_areas = {'acuteinflammation': 542, 'balancescale': 518,'breastcancerwisc': 643,'cardiotocography3clases': 892,\n",
    "                   'energyy1': 625, 'energyy2': 619, 'iris': 533, 'mammographic': 548, 'pendigits':885,'seeds': 609,\n",
    "                   'tictactoe': 614, 'vertebralcolumn2clases': 544, 'vertebralcolumn3clases': 577}\n",
    "reference_losses = {'acuteinflammation': 0.05, 'balancescale': 0.05,'breastcancerwisc': 0.05,'cardiotocography3clases': 0.1,\n",
    "                   'energyy1': 0.1, 'energyy2': 0.1, 'iris': 0.05, 'mammographic': 0.25, 'pendigits':0.05,'seeds': 0.1,\n",
    "                   'tictactoe': 0.01, 'vertebralcolumn2clases': 0.25, 'vertebralcolumn3clases': 0.2}\n",
    "\n",
    "seed = 1\n",
    "args.SEED = seed\n",
    "args = FormulateArgs(args)\n",
    "\n",
    "train_loader, datainfo = GetDataLoader(args, 'train')\n",
    "valid_loader, datainfo = GetDataLoader(args, 'valid')\n",
    "test_loader, datainfo = GetDataLoader(args, 'test')\n",
    "pprint.pprint(datainfo)\n",
    "\n",
    "x_train, y_train = train_loader.to_list()\n",
    "x_valid, y_valid = valid_loader.to_list()\n",
    "x_test, y_test = test_loader.to_list()\n",
    "\n",
    "SetSeed(args.SEED)\n",
    "\n",
    "setup = f\"NEAT_data_{datainfo['dataname']}_seed_{args.SEED:02d}_Penalty_{args.areaestimator}_Factor_{args.areabalance:.5f}\"\n",
    "print(f'Training setup: {setup}.')\n",
    "MakeFolder(args)\n",
    "\n",
    "msglogger = GetMessageLogger(args, setup, EA_args)\n",
    "msglogger.info(f'Training network on device: {args.DEVICE}.')\n",
    "msglogger.info(f'Training setup: {setup}.')\n",
    "msglogger.info(datainfo)\n",
    "\n",
    "EA_args.num_inputs = datainfo['N_feature']\n",
    "EA_args.num_outputs = datainfo['N_class']\n",
    "\n",
    "if os.path.isfile(f'{args.savepath}/{setup}.model'):\n",
    "    print(f'{setup} exists, skip this training.')\n",
    "    msglogger.info('Training was already finished.')\n",
    "else:\n",
    "\n",
    "    \n",
    "    args.area_reference = reference_areas[datainfo[\"dataname\"]]\n",
    "    args.loss_reference = reference_areas[datainfo[\"dataname\"]]\n",
    "\n",
    "    SetSeed(args.SEED)\n",
    "\n",
    "    config = neat.Config(neat.PNCGenome, neat.DefaultReproduction, neat.DefaultSpeciesSet, neat.DefaultStagnation, EA_args)\n",
    "    p = neat.Population(config, msglogger, args)\n",
    "    winner = p.run(neat.eval_genomes, args, train_loader, valid_loader)\n",
    "\n",
    "    winner_pruned = winner.get_pruned_copy(config.genome_config)\n",
    "    torch.save(winner_pruned, f'{args.savepath}/{setup}.model')\n",
    "\n",
    "    msglogger.info('Training if finished.')\n",
    "    print('Training if finished.')\n",
    "\n",
    "    "
   ]
  },
  {
   "cell_type": "code",
   "execution_count": null,
   "metadata": {},
   "outputs": [],
   "source": [
    "import numpy as np\n",
    "\n",
    "a = np.random.rand()\n",
    "a"
   ]
  },
  {
   "cell_type": "code",
   "execution_count": null,
   "id": "35c37687",
   "metadata": {},
   "outputs": [],
   "source": [
    "import torch\n",
    "a = torch.rand([70, 6])\n",
    "data = np.array(a).T.tolist()"
   ]
  },
  {
   "cell_type": "code",
   "execution_count": null,
   "id": "bdd74673",
   "metadata": {},
   "outputs": [],
   "source": [
    "len(data[0])"
   ]
  },
  {
   "cell_type": "code",
   "execution_count": null,
   "id": "84679032",
   "metadata": {},
   "outputs": [],
   "source": []
  }
 ],
 "metadata": {
  "kernelspec": {
   "display_name": "ML",
   "language": "python",
   "name": "python3"
  },
  "language_info": {
   "codemirror_mode": {
    "name": "ipython",
    "version": 3
   },
   "file_extension": ".py",
   "mimetype": "text/x-python",
   "name": "python",
   "nbconvert_exporter": "python",
   "pygments_lexer": "ipython3",
   "version": "3.8.13"
  }
 },
 "nbformat": 4,
 "nbformat_minor": 5
}
