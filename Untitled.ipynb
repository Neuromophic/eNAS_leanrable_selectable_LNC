{
 "cells": [
  {
   "cell_type": "code",
   "execution_count": 2,
   "id": "56f8d51c-db6b-4319-b3c9-512cbe2fe8f7",
   "metadata": {},
   "outputs": [],
   "source": [
    "import sys\n",
    "import os\n",
    "sys.path.append(os.getcwd())\n",
    "sys.path.append(os.path.join(os.getcwd(), 'NEAT'))\n",
    "import torch\n",
    "import NEAT as neat\n",
    "import pprint\n",
    "from utils import *\n",
    "from configuration import *\n",
    "from NEAT_args import *"
   ]
  },
  {
   "cell_type": "code",
   "execution_count": 24,
   "id": "7d7269e5-3218-4db0-b883-ae51288843de",
   "metadata": {},
   "outputs": [],
   "source": [
    "class InvRT(torch.nn.Module):\n",
    "    def __init__(self, args):\n",
    "        super().__init__()\n",
    "        self.args = args\n",
    "        # R1, R2, R3, W1, L1, W2, L2, W3, L3\n",
    "        self.rt_ = torch.nn.Parameter(torch.randn(9), requires_grad=True)\n",
    "        # model\n",
    "        package = torch.load('./utils/neg_param.package')\n",
    "        self.eta_estimator = package['eta_estimator'].to(self.args.DEVICE)\n",
    "        self.eta_estimator.train(False)\n",
    "        for name, param in self.eta_estimator.named_parameters():\n",
    "            param.requires_grad = False\n",
    "        self.X_max = package['X_max'].to(self.args.DEVICE)\n",
    "        self.X_min = package['X_min'].to(self.args.DEVICE)\n",
    "        self.Y_max = package['Y_max'].to(self.args.DEVICE)\n",
    "        self.Y_min = package['Y_min'].to(self.args.DEVICE)\n",
    "        # load power model\n",
    "        package = torch.load('./utils/neg_power.package')\n",
    "        self.power_estimator = package['power_estimator'].to(self.args.DEVICE)\n",
    "        for name, param in self.power_estimator.named_parameters():\n",
    "            param.requires_grad = False\n",
    "        self.power_estimator.train(False)\n",
    "        self.pow_X_max = package['X_max'].to(self.args.DEVICE)\n",
    "        self.pow_X_min = package['X_min'].to(self.args.DEVICE)\n",
    "        self.pow_Y_max = package['Y_max'].to(self.args.DEVICE)\n",
    "        self.pow_Y_min = package['Y_min'].to(self.args.DEVICE)\n",
    "\n",
    "    @property\n",
    "    def RTn_extend(self):\n",
    "        # keep values in (0,1)\n",
    "        rt_temp = torch.sigmoid(self.rt_)\n",
    "        RTn = torch.zeros([12]).to(self.args.DEVICE)\n",
    "        RTn[:9] = rt_temp\n",
    "        # denormalization\n",
    "        RT = RTn * (self.X_max - self.X_min) + self.X_min\n",
    "        # calculate ratios\n",
    "        RT_extend = torch.stack([RTn[0], RTn[1], RTn[2], RTn[3], RTn[4], RTn[5], RTn[6], RTn[7], RTn[8], RT[3]/RT[4], RT[5]/RT[6], RT[7]/RT[7]])\n",
    "        return (RT_extend - self.X_min) / (self.X_max - self.X_min)\n",
    "\n",
    "    @property\n",
    "    def eta(self):\n",
    "        # calculate eta\n",
    "        eta_n = self.eta_estimator(self.RTn_extend)\n",
    "        eta = eta_n * (self.Y_max - self.Y_min) + self.Y_min\n",
    "        return eta\n",
    "\n",
    "    @property\n",
    "    def power(self):\n",
    "        # calculate power\n",
    "        power_n = self.power_estimator(self.RTn_extend)\n",
    "        power = power_n * (self.pow_Y_max - self.pow_Y_min) + self.pow_Y_min\n",
    "        return power\n",
    "\n",
    "    def forward(self, z):\n",
    "        return - (self.eta[0] + self.eta[1] * torch.tanh((z - self.eta[2]) * self.eta[3]))\n",
    "    "
   ]
  },
  {
   "cell_type": "code",
   "execution_count": 25,
   "id": "c88f0770-5f2d-451a-b937-853395763d16",
   "metadata": {},
   "outputs": [],
   "source": [
    "args = parser.parse_args([])\n",
    "args = FormulateArgs(args)"
   ]
  },
  {
   "cell_type": "code",
   "execution_count": 44,
   "id": "f2b6e42d-1a79-456e-8d2c-009e72058e69",
   "metadata": {},
   "outputs": [],
   "source": [
    "ptanh = InvRT(args)"
   ]
  },
  {
   "cell_type": "code",
   "execution_count": 45,
   "id": "b86515f8-eb0e-464f-bef4-2601e17fe755",
   "metadata": {},
   "outputs": [
    {
     "data": {
      "text/plain": [
       "tensor([2.6008e+02, 2.3459e+02, 1.3272e+02, 6.8538e+05],\n",
       "       grad_fn=<AddBackward0>)"
      ]
     },
     "execution_count": 45,
     "metadata": {},
     "output_type": "execute_result"
    }
   ],
   "source": [
    "ptanh.eta"
   ]
  },
  {
   "cell_type": "code",
   "execution_count": 46,
   "id": "6b1f456f-bfca-4374-ab7f-eda5811c9612",
   "metadata": {},
   "outputs": [],
   "source": [
    "optimizer = torch.optim.Adam(ptanh.parameters(), lr=0.1)"
   ]
  },
  {
   "cell_type": "code",
   "execution_count": 48,
   "id": "f1358993-6af5-4993-b9b4-178251633652",
   "metadata": {},
   "outputs": [
    {
     "name": "stdout",
     "output_type": "stream",
     "text": [
      "0 5862.4482421875 \n",
      " tensor([23.7706, 35.7870,  0.2554, 21.5585], grad_fn=<AddBackward0>) \n",
      "\n",
      "1000 5474.64013671875 \n",
      " tensor([23.9625, 35.7548,  0.2928, 11.1449], grad_fn=<AddBackward0>) \n",
      "\n",
      "2000 5795.02978515625 \n",
      " tensor([24.0844, 36.0500,  0.2556, 15.4832], grad_fn=<AddBackward0>) \n",
      "\n",
      "3000 5439.71533203125 \n",
      " tensor([24.1816, 35.8125,  0.3087,  6.3699], grad_fn=<AddBackward0>) \n",
      "\n",
      "4000 103394.0 \n",
      " tensor([176.1415,   4.2686,  75.8423,  68.2969], grad_fn=<AddBackward0>) \n",
      "\n",
      "5000 101376.6875 \n",
      " tensor([175.6037,   4.2381,  75.9797,  56.3002], grad_fn=<AddBackward0>) \n",
      "\n",
      "6000 98900.5234375 \n",
      " tensor([174.3434,   4.1102,  75.9529,  44.7333], grad_fn=<AddBackward0>) \n",
      "\n",
      "7000 94883.53125 \n",
      " tensor([170.6863,   3.6251,  75.1810,  43.4744], grad_fn=<AddBackward0>) \n",
      "\n",
      "8000 87552.1015625 \n",
      " tensor([163.7971,   2.7107,  73.7273,  41.1173], grad_fn=<AddBackward0>) \n",
      "\n",
      "9000 76619.8828125 \n",
      " tensor([152.5215,   1.3277,  70.9445,  43.2662], grad_fn=<AddBackward0>) \n",
      "\n",
      "10000 59671.93359375 \n",
      " tensor([134.2298,   6.4108,  72.4024,  17.3151], grad_fn=<AddBackward0>) \n",
      "\n"
     ]
    }
   ],
   "source": [
    "for epoch in range(10001):\n",
    "    optimizer.zero_grad()\n",
    "    # a = 3.\n",
    "    # b = 3.\n",
    "    # c = 1.\n",
    "    # d = 1.\n",
    "    loss = a * ptanh.eta[0]**2. + b * (ptanh.eta[1]-1.)**2. + c * ptanh.eta[2]**2. + d * (ptanh.eta[3]-1.)**2.\n",
    "    loss.backward()\n",
    "    optimizer.step()\n",
    "    if not epoch % 1000:\n",
    "        print(epoch, loss.item(), '\\n', ptanh.eta, '\\n')"
   ]
  },
  {
   "cell_type": "code",
   "execution_count": null,
   "id": "6a5d269b-2bb3-4c73-b574-aafcbcfc1a97",
   "metadata": {},
   "outputs": [],
   "source": []
  }
 ],
 "metadata": {
  "kernelspec": {
   "display_name": "pNN",
   "language": "python",
   "name": "pnn"
  },
  "language_info": {
   "codemirror_mode": {
    "name": "ipython",
    "version": 3
   },
   "file_extension": ".py",
   "mimetype": "text/x-python",
   "name": "python",
   "nbconvert_exporter": "python",
   "pygments_lexer": "ipython3",
   "version": "3.9.16"
  }
 },
 "nbformat": 4,
 "nbformat_minor": 5
}
