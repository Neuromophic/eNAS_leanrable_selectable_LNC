{
 "cells": [
  {
   "cell_type": "code",
   "execution_count": null,
   "id": "36bd44d5",
   "metadata": {},
   "outputs": [],
   "source": [
    "import sys\n",
    "import os\n",
    "sys.path.append(os.getcwd())\n",
    "sys.path.append(os.path.join(os.getcwd(), 'NEAT_LNC_genome'))\n",
    "import torch\n",
    "import NEAT_LNC_node as neat\n",
    "import pprint\n",
    "from utils import *\n",
    "from configuration import *\n",
    "from NEAT_args import *"
   ]
  },
  {
   "cell_type": "code",
   "execution_count": null,
   "id": "d3e84d2f",
   "metadata": {},
   "outputs": [],
   "source": [
    "args = parser.parse_args([])\n",
    "EA_args = EA_parser.parse_args([])\n",
    "\n",
    "EA_args.pop_size = 50\n",
    "args.e_train = 0.\n",
    "args.SEED = 6\n",
    "args.report_freq = 1\n",
    "\n",
    "args = FormulateArgs(args)\n",
    "\n",
    "train_loader, datainfo = GetDataLoader(args, 'train')\n",
    "valid_loader, datainfo = GetDataLoader(args, 'valid')\n",
    "test_loader, datainfo = GetDataLoader(args, 'test')\n",
    "pprint.pprint(datainfo)\n",
    "\n",
    "x_train, y_train = train_loader.to_list()\n",
    "x_valid, y_valid = valid_loader.to_list()\n",
    "x_test, y_test = test_loader.to_list()\n",
    "\n",
    "SetSeed(args.SEED)\n",
    "\n",
    "setup = f\"NEAT_data_{datainfo['dataname']}_seed_{args.SEED:02d}_epsilon_{args.e_train}\"\n",
    "print(f'Training setup: {setup}.')\n",
    "MakeFolder(args)\n",
    "\n",
    "msglogger = GetMessageLogger(args, setup, EA_args)\n",
    "msglogger.info(f'Training network on device: {args.DEVICE}.')\n",
    "msglogger.info(f'Training setup: {setup}.')\n",
    "msglogger.info(datainfo)\n",
    "\n",
    "EA_args.num_inputs = datainfo['N_feature']\n",
    "EA_args.num_outputs = datainfo['N_class']\n",
    "\n",
    "if os.path.isfile(f'{args.savepath}/{setup}.model'):\n",
    "    print(f'{setup} exists, skip this training.')\n",
    "    msglogger.info('Training was already finished.')\n",
    "else:\n",
    "\n",
    "    SetSeed(args.SEED)\n",
    "\n",
    "    config = neat.Config(neat.PNCGenome, neat.DefaultReproduction, neat.DefaultSpeciesSet, neat.DefaultStagnation, EA_args)\n",
    "    p = neat.Population(config, msglogger, args)\n",
    "    winner = p.run(neat.eval_genomes, args, train_loader, valid_loader, setup)\n",
    "\n",
    "    winner_pruned = winner.get_pruned_copy(config.genome_config)\n",
    "    torch.save(winner_pruned, f'{args.savepath}/{setup}.model')\n",
    "\n",
    "    msglogger.info('Training if finished.')\n",
    "    print('Training if finished.')"
   ]
  },
  {
   "cell_type": "code",
   "execution_count": null,
   "id": "f2600602",
   "metadata": {},
   "outputs": [],
   "source": []
  }
 ],
 "metadata": {
  "kernelspec": {
   "display_name": "Python 3 (ipykernel)",
   "language": "python",
   "name": "python3"
  },
  "language_info": {
   "codemirror_mode": {
    "name": "ipython",
    "version": 3
   },
   "file_extension": ".py",
   "mimetype": "text/x-python",
   "name": "python",
   "nbconvert_exporter": "python",
   "pygments_lexer": "ipython3",
   "version": "3.8.13"
  }
 },
 "nbformat": 4,
 "nbformat_minor": 5
}
