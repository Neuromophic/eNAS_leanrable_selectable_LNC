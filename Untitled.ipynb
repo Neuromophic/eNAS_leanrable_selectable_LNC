{
 "cells": [
  {
   "cell_type": "code",
   "execution_count": 1,
   "id": "36bd44d5",
   "metadata": {},
   "outputs": [],
   "source": [
    "import sys\n",
    "import os\n",
    "sys.path.append(os.getcwd())\n",
    "import torch\n",
    "import pNN\n",
    "import pprint\n",
    "from utils import *\n",
    "from configuration import *\n",
    "from NEAT_args import *"
   ]
  },
  {
   "cell_type": "code",
   "execution_count": 2,
   "id": "d3e84d2f",
   "metadata": {},
   "outputs": [
    {
     "name": "stdout",
     "output_type": "stream",
     "text": [
      "Training network on device: None.\n",
      "{'N_class': 2,\n",
      " 'N_feature': 6,\n",
      " 'N_test': 25,\n",
      " 'N_train': 70,\n",
      " 'N_valid': 23,\n",
      " 'dataname': 'acuteinflammation'}\n",
      "Training setup: data:acuteinflammation_seed:07_epsilon:0.1.model.\n",
      "Restart previous training from 111 epoch with lr: 0.1.\n",
      "| Epoch:    120 | Train loss: 1.4129e-01 | Valid loss: 1.4175e-01 | Train acc: 1.0000 ± 0.0000 | Valid acc: 1.0000 ± 0.0000 | patience:   4 | lr: 0.1 | Epoch time: 1.5 |\n",
      "| Epoch:    140 | Train loss: 1.4108e-01 | Valid loss: 1.4156e-01 | Train acc: 1.0000 ± 0.0000 | Valid acc: 1.0000 ± 0.0000 | patience:   1 | lr: 0.1 | Epoch time: 1.5 |\n",
      "| Epoch:    160 | Train loss: 1.4117e-01 | Valid loss: 1.4138e-01 | Train acc: 1.0000 ± 0.0000 | Valid acc: 1.0000 ± 0.0000 | patience:   5 | lr: 0.1 | Epoch time: 1.4 |\n",
      "| Epoch:    180 | Train loss: 1.4081e-01 | Valid loss: 1.4008e-01 | Train acc: 1.0000 ± 0.0000 | Valid acc: 1.0000 ± 0.0000 | patience:   8 | lr: 0.1 | Epoch time: 1.4 |\n"
     ]
    }
   ],
   "source": [
    "args = parser.parse_args([])\n",
    "EA_args = EA_parser.parse_args([])\n",
    "\n",
    "EA_args.pop_size = 50\n",
    "args.N_train = 10\n",
    "args.e_train = 0.1\n",
    "args.SEED = 7\n",
    "args.report_freq = 20\n",
    "args.EPOCH = 200\n",
    "\n",
    "args = FormulateArgs(args)\n",
    "\n",
    "args = FormulateArgs(args)\n",
    "\n",
    "print(f'Training network on device: {args.DEVICE}.')\n",
    "MakeFolder(args)\n",
    "\n",
    "train_loader, datainfo = GetDataLoader(args, 'train')\n",
    "valid_loader, datainfo = GetDataLoader(args, 'valid')\n",
    "test_loader, datainfo = GetDataLoader(args, 'test')\n",
    "pprint.pprint(datainfo)\n",
    "\n",
    "SetSeed(args.SEED)\n",
    "\n",
    "setup = f\"data:{datainfo['dataname']}_seed:{args.SEED:02d}_epsilon:{args.e_train}.model\"\n",
    "print(f'Training setup: {setup}.')\n",
    "\n",
    "msglogger = GetMessageLogger(args, setup)\n",
    "msglogger.info(f'Training network on device: {args.DEVICE}.')\n",
    "msglogger.info(f'Training setup: {setup}.')\n",
    "msglogger.info(datainfo)\n",
    "\n",
    "if os.path.isfile(f'{args.savepath}/{setup}'):\n",
    "    print(f'{setup} exists, skip this training.')\n",
    "    msglogger.info('Training was already finished.')\n",
    "else:\n",
    "    topology = [datainfo['N_feature']] + args.hidden + [datainfo['N_class']]\n",
    "    msglogger.info(f'Topology of the network: {topology}.')\n",
    "\n",
    "    pnn = pNN.pNN(topology, args).to(args.DEVICE)\n",
    "\n",
    "    lossfunction = pNN.pNNLoss(args).to(args.DEVICE)\n",
    "    optimizer = torch.optim.Adam(pnn.GetParam(), lr=args.LR)\n",
    "\n",
    "    if args.PROGRESSIVE:\n",
    "        pnn, best = train_pnn_progressive(pnn, train_loader, valid_loader, lossfunction, optimizer, args, msglogger, UUID=setup)\n",
    "    else:\n",
    "        pnn, best = train_pnn(pnn, train_loader, valid_loader, lossfunction, optimizer, args, msglogger, UUID=setup)\n",
    "\n",
    "    if best:\n",
    "        if not os.path.exists(f'{args.savepath}/'):\n",
    "            os.makedirs(f'{args.savepath}/')\n",
    "        torch.save(pnn, f'{args.savepath}/{setup}')\n",
    "        msglogger.info('Training if finished.')\n",
    "    else:\n",
    "        msglogger.warning('Time out, further training is necessary.')"
   ]
  },
  {
   "cell_type": "code",
   "execution_count": 5,
   "id": "99ab8046",
   "metadata": {},
   "outputs": [],
   "source": [
    "for x, y in train_loader:\n",
    "    x = x.to(args.DEVICE)\n",
    "    y = y.to(args.DEVICE)"
   ]
  },
  {
   "cell_type": "code",
   "execution_count": 4,
   "id": "f2600602",
   "metadata": {},
   "outputs": [
    {
     "data": {
      "text/plain": [
       "0.1"
      ]
     },
     "execution_count": 4,
     "metadata": {},
     "output_type": "execute_result"
    }
   ],
   "source": [
    "pnn.epsilon"
   ]
  },
  {
   "cell_type": "code",
   "execution_count": 7,
   "id": "8f8525dc",
   "metadata": {},
   "outputs": [
    {
     "data": {
      "text/plain": [
       "torch.Size([10, 70, 2])"
      ]
     },
     "execution_count": 7,
     "metadata": {},
     "output_type": "execute_result"
    }
   ],
   "source": [
    "tt = pnn(x)\n",
    "tt.shape"
   ]
  },
  {
   "cell_type": "code",
   "execution_count": 8,
   "id": "93e07453",
   "metadata": {},
   "outputs": [],
   "source": [
    "pnn.UpdateVariation(20, 0.2)"
   ]
  },
  {
   "cell_type": "code",
   "execution_count": 9,
   "id": "34de813d",
   "metadata": {},
   "outputs": [
    {
     "data": {
      "text/plain": [
       "torch.Size([20, 70, 2])"
      ]
     },
     "execution_count": 9,
     "metadata": {},
     "output_type": "execute_result"
    }
   ],
   "source": [
    "tt = pnn(x)\n",
    "tt.shape"
   ]
  },
  {
   "cell_type": "code",
   "execution_count": 16,
   "id": "4c8f9ccd",
   "metadata": {},
   "outputs": [
    {
     "data": {
      "text/plain": [
       "0.2"
      ]
     },
     "execution_count": 16,
     "metadata": {},
     "output_type": "execute_result"
    }
   ],
   "source": [
    "pnn.model[0].epsilon"
   ]
  },
  {
   "cell_type": "code",
   "execution_count": null,
   "id": "5e65589c",
   "metadata": {},
   "outputs": [],
   "source": []
  }
 ],
 "metadata": {
  "kernelspec": {
   "display_name": "Python 3 (ipykernel)",
   "language": "python",
   "name": "python3"
  },
  "language_info": {
   "codemirror_mode": {
    "name": "ipython",
    "version": 3
   },
   "file_extension": ".py",
   "mimetype": "text/x-python",
   "name": "python",
   "nbconvert_exporter": "python",
   "pygments_lexer": "ipython3",
   "version": "3.8.13"
  }
 },
 "nbformat": 4,
 "nbformat_minor": 5
}
