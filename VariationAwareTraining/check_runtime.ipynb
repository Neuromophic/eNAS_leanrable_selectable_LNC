{
 "cells": [
  {
   "cell_type": "code",
   "execution_count": 5,
   "id": "f09dd090-75bc-49bc-ac25-9cfd4c3a3abf",
   "metadata": {},
   "outputs": [],
   "source": [
    "import sys\n",
    "import os\n",
    "from pathlib import Path\n",
    "sys.path.append(os.getcwd())\n",
    "sys.path.append(str(Path(os.getcwd()).parent))\n",
    "import torch\n",
    "import pprint\n",
    "from utils import *\n",
    "from configuration import *\n",
    "from NEAT_args import *\n",
    "\n",
    "args = parser.parse_args([])\n",
    "EA_args = EA_parser.parse_args([])"
   ]
  },
  {
   "cell_type": "code",
   "execution_count": 18,
   "id": "af8e8670-bc25-4194-9ef4-b7886df7f815",
   "metadata": {},
   "outputs": [
    {
     "name": "stdout",
     "output_type": "stream",
     "text": [
      "{'N_class': 2,\n",
      " 'N_feature': 6,\n",
      " 'N_test': 25,\n",
      " 'N_train': 70,\n",
      " 'N_valid': 23,\n",
      " 'dataname': 'acuteinflammation'}\n",
      "{'N_class': 3,\n",
      " 'N_feature': 4,\n",
      " 'N_test': 79,\n",
      " 'N_train': 373,\n",
      " 'N_valid': 124,\n",
      " 'dataname': 'balancescale'}\n",
      "{'N_class': 2,\n",
      " 'N_feature': 9,\n",
      " 'N_test': 79,\n",
      " 'N_train': 397,\n",
      " 'N_valid': 127,\n",
      " 'dataname': 'breastcancerwisc'}\n",
      "{'N_class': 3,\n",
      " 'N_feature': 21,\n",
      " 'N_test': 79,\n",
      " 'N_train': 397,\n",
      " 'N_valid': 127,\n",
      " 'dataname': 'cardiotocography3clases'}\n",
      "{'N_class': 3,\n",
      " 'N_feature': 8,\n",
      " 'N_test': 79,\n",
      " 'N_train': 397,\n",
      " 'N_valid': 127,\n",
      " 'dataname': 'energyy1'}\n",
      "{'N_class': 3,\n",
      " 'N_feature': 8,\n",
      " 'N_test': 79,\n",
      " 'N_train': 397,\n",
      " 'N_valid': 127,\n",
      " 'dataname': 'energyy2'}\n",
      "{'N_class': 3,\n",
      " 'N_feature': 4,\n",
      " 'N_test': 31,\n",
      " 'N_train': 88,\n",
      " 'N_valid': 29,\n",
      " 'dataname': 'iris'}\n",
      "{'N_class': 2,\n",
      " 'N_feature': 5,\n",
      " 'N_test': 79,\n",
      " 'N_train': 397,\n",
      " 'N_valid': 127,\n",
      " 'dataname': 'mammographic'}\n",
      "{'N_class': 10,\n",
      " 'N_feature': 16,\n",
      " 'N_test': 79,\n",
      " 'N_train': 397,\n",
      " 'N_valid': 127,\n",
      " 'dataname': 'pendigits'}\n",
      "{'N_class': 3,\n",
      " 'N_feature': 7,\n",
      " 'N_test': 43,\n",
      " 'N_train': 124,\n",
      " 'N_valid': 41,\n",
      " 'dataname': 'seeds'}\n",
      "{'N_class': 2,\n",
      " 'N_feature': 9,\n",
      " 'N_test': 79,\n",
      " 'N_train': 397,\n",
      " 'N_valid': 127,\n",
      " 'dataname': 'tictactoe'}\n",
      "{'N_class': 2,\n",
      " 'N_feature': 6,\n",
      " 'N_test': 63,\n",
      " 'N_train': 184,\n",
      " 'N_valid': 61,\n",
      " 'dataname': 'vertebralcolumn2clases'}\n",
      "{'N_class': 3,\n",
      " 'N_feature': 6,\n",
      " 'N_test': 63,\n",
      " 'N_train': 184,\n",
      " 'N_valid': 61,\n",
      " 'dataname': 'vertebralcolumn3clases'}\n"
     ]
    }
   ],
   "source": [
    "import re\n",
    "\n",
    "results = torch.zeros([13,10,3])\n",
    "\n",
    "args.DEVICE = 'cpu'\n",
    "\n",
    "for ds in range(13):\n",
    "    args.DATASET = ds\n",
    "    args = FormulateArgs(args)\n",
    "    valid_loader, datainfo = GetDataLoader(args, 'valid', path='../dataset/')\n",
    "    test_loader , datainfo = GetDataLoader(args, 'test',  path='../dataset/')\n",
    "    pprint.pprint(datainfo)\n",
    "    \n",
    "    for seed in range(10):\n",
    "        args.SEED = seed\n",
    "        for e, eps_train in enumerate([0.0, 0.05, 0.1]):\n",
    "            args.e_train = eps_train\n",
    "\n",
    "            logname = f\"data:{datainfo['dataname']}_seed:{args.SEED:02d}_epsilon:{eps_train}.model.log\"\n",
    "            logpath = f'./log/{logname}'\n",
    "            \n",
    "            if os.path.exists(logpath):\n",
    "\n",
    "                with open(logpath, 'r', encoding='utf-8') as file:\n",
    "                    data = file.read()\n",
    "\n",
    "                epoch_pattern = r\"\\| Epoch:\\s+(\\d+)\\s+\\|\\s+Train\"\n",
    "                epoch_matches = re.findall(epoch_pattern, data)\n",
    "                \n",
    "                time_pattern = r\"Epoch time:\\s+(\\d+\\.\\d+)\"\n",
    "                time_matches = re.findall(time_pattern, data)\n",
    "\n",
    "                epoch_numbers = torch.tensor([int(match) for match in epoch_matches], dtype=torch.int32)\n",
    "                time_values = torch.tensor([float(time) for time in time_matches], dtype=torch.float32)\n",
    "\n",
    "                epochs_col = epoch_numbers.unsqueeze(1)\n",
    "                times_col = time_values.unsqueeze(1)\n",
    "                result_tensor = torch.cat((epochs_col, times_col), dim=1)\n",
    "\n",
    "                if result_tensor.numel():\n",
    "                    mean_epoch_time = result_tensor[:,1].mean()\n",
    "                    max_epoch = result_tensor[:,0].max()\n",
    "    \n",
    "                    train_time = max_epoch * mean_epoch_time / 60\n",
    "\n",
    "                    if 'Training if finished.' in data:\n",
    "                        \n",
    "                        results[ds,seed,e] = train_time\n",
    "                        \n"
   ]
  },
  {
   "cell_type": "code",
   "execution_count": 26,
   "id": "3b91e9a6-3a46-4313-849e-fbccd01a877c",
   "metadata": {},
   "outputs": [
    {
     "data": {
      "text/plain": [
       "tensor([[144.9187, 140.1584, 139.6750, 141.1455, 143.6579, 143.4301, 145.7790,\n",
       "         138.7656, 136.0628, 144.7349],\n",
       "        [113.9039, 117.3555, 113.3418, 135.6349, 107.3076, 108.8630, 106.7210,\n",
       "         126.5416, 127.2229, 131.9617],\n",
       "        [133.4599, 127.8386, 120.0633, 120.4542, 120.2475, 129.6051, 121.8956,\n",
       "         136.7751, 113.8114, 125.9533],\n",
       "        [125.8457, 124.5898, 119.8918, 105.3541, 114.8730, 105.4992, 109.6585,\n",
       "         129.7741, 123.2236, 114.9837],\n",
       "        [117.8853, 121.0274, 140.3900, 133.5696, 146.9312, 127.4208, 144.5143,\n",
       "         140.1302, 124.0166, 134.0397],\n",
       "        [146.7011, 132.6959, 140.9290, 159.8171, 156.1958, 147.3422, 142.6969,\n",
       "         143.5955, 143.8298, 153.2693],\n",
       "        [118.5967, 114.0440, 115.8196, 112.1638, 109.5162, 116.5254, 107.3408,\n",
       "         111.4914, 116.1386, 117.3909],\n",
       "        [136.6495, 122.7156, 130.8287, 126.8111, 137.0737, 111.9372, 135.8995,\n",
       "         132.5701, 121.6764, 114.8609],\n",
       "        [ 93.0896,  81.0813,  88.0878,  90.6571, 101.8513, 102.5382,  91.4001,\n",
       "          93.0742,  74.4000,  95.6514],\n",
       "        [ 62.7401,  91.7546,  78.7631,  90.9384,  92.0513,  66.3594,  71.7159,\n",
       "          81.1648,  70.4012,  79.9773],\n",
       "        [ 76.2777,  91.8160,  83.5260,  85.7017,  72.3223,  74.1409,  84.9622,\n",
       "          82.9399,  98.0600,  90.6455],\n",
       "        [ 86.0487,  89.4985,  80.1103,  71.1914,  86.3435,  89.8452,  77.5297,\n",
       "          63.5406,  80.8729,  84.0351],\n",
       "        [ 82.0218,  99.0995,  93.4755,  87.4352,  96.4981,  97.2709,  91.1678,\n",
       "          88.4502,  86.2700,  86.8691]])"
      ]
     },
     "execution_count": 26,
     "metadata": {},
     "output_type": "execute_result"
    }
   ],
   "source": [
    "results.mean(2)"
   ]
  },
  {
   "cell_type": "code",
   "execution_count": 20,
   "id": "ec7dd5c6-c4a5-4f05-8dac-c940a273a8e6",
   "metadata": {},
   "outputs": [
    {
     "data": {
      "text/plain": [
       "torch.Size([13])"
      ]
     },
     "execution_count": 20,
     "metadata": {},
     "output_type": "execute_result"
    }
   ],
   "source": [
    "re = results.mean([1,2])\n",
    "re.shape"
   ]
  },
  {
   "cell_type": "code",
   "execution_count": 21,
   "id": "ee80bf34-2823-4e7f-8d2a-63114306c490",
   "metadata": {},
   "outputs": [
    {
     "data": {
      "text/plain": [
       "tensor([141.8328, 118.8854, 125.0104, 117.3694, 132.9925, 146.7073, 113.9027,\n",
       "        127.1023,  91.1831,  78.5866,  84.0392,  80.9016,  90.8558])"
      ]
     },
     "execution_count": 21,
     "metadata": {},
     "output_type": "execute_result"
    }
   ],
   "source": [
    "re"
   ]
  },
  {
   "cell_type": "code",
   "execution_count": null,
   "id": "b6ec72d0-1423-4b94-a247-722a2b05f4e9",
   "metadata": {},
   "outputs": [],
   "source": []
  }
 ],
 "metadata": {
  "kernelspec": {
   "display_name": "pNN",
   "language": "python",
   "name": "pnn"
  },
  "language_info": {
   "codemirror_mode": {
    "name": "ipython",
    "version": 3
   },
   "file_extension": ".py",
   "mimetype": "text/x-python",
   "name": "python",
   "nbconvert_exporter": "python",
   "pygments_lexer": "ipython3",
   "version": "3.9.16"
  }
 },
 "nbformat": 4,
 "nbformat_minor": 5
}
