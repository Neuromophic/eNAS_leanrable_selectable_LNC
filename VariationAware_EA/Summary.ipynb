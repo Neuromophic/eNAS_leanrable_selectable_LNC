{
 "cells": [
  {
   "cell_type": "code",
   "execution_count": 1,
   "id": "1b0ecbf8-05ab-40f4-b3e7-a1a04cc6f2bb",
   "metadata": {
    "tags": []
   },
   "outputs": [],
   "source": [
    "import torch\n",
    "import numpy as np"
   ]
  },
  {
   "cell_type": "code",
   "execution_count": 11,
   "id": "9c5f6e26-057e-4bc0-8869-caf4805bb185",
   "metadata": {},
   "outputs": [
    {
     "data": {
      "text/plain": [
       "torch.Size([13, 10, 3, 3, 4])"
      ]
     },
     "execution_count": 11,
     "metadata": {},
     "output_type": "execute_result"
    }
   ],
   "source": [
    "result = torch.load('./result.matrix')\n",
    "result.shape"
   ]
  },
  {
   "cell_type": "code",
   "execution_count": 25,
   "id": "4519e84e-3b51-4c19-813b-833feb1017c6",
   "metadata": {},
   "outputs": [],
   "source": [
    "def get_best_seed_indices(accuracy_tensor):\n",
    "    _, best_seed_indices = torch.max(accuracy_tensor, dim=1)\n",
    "    return best_seed_indices\n",
    "\n",
    "def extract_best_seed_values(tensor, seed_indices):\n",
    "    batch_indices = torch.arange(tensor.size(0)).unsqueeze(-1) \n",
    "    selected = torch.gather(tensor, 1, seed_indices.unsqueeze(-1).unsqueeze(-1).expand(-1, -1, 2))\n",
    "    selected = selected.squeeze(1)\n",
    "    return selected"
   ]
  },
  {
   "cell_type": "code",
   "execution_count": 30,
   "id": "379eb8ca-567e-4587-962a-886dd515de3d",
   "metadata": {},
   "outputs": [],
   "source": [
    "# 5% variation\n",
    "re5 = result[:,:,1,1,2:]\n",
    "bs = get_best_seed_indices(re5[:,:,0])\n",
    "result5 = extract_best_seed_values(re5, bs)\n",
    "\n",
    "np.savetxt('./re5.txt', result5, delimiter='\\t')"
   ]
  },
  {
   "cell_type": "code",
   "execution_count": 31,
   "id": "7b6194c0-6040-409b-8373-490e5d4dec0a",
   "metadata": {},
   "outputs": [],
   "source": [
    "# 10% variation\n",
    "re10 = result[:,:,2,2,2:]\n",
    "bs = get_best_seed_indices(re10[:,:,0])\n",
    "result10 = extract_best_seed_values(re10, bs)\n",
    "\n",
    "np.savetxt('./re10.txt', result10, delimiter='\\t')"
   ]
  },
  {
   "cell_type": "code",
   "execution_count": null,
   "id": "d2803999-254a-4ac1-9e09-80e5df502332",
   "metadata": {},
   "outputs": [],
   "source": []
  }
 ],
 "metadata": {
  "kernelspec": {
   "display_name": "pNN",
   "language": "python",
   "name": "pnn"
  },
  "language_info": {
   "codemirror_mode": {
    "name": "ipython",
    "version": 3
   },
   "file_extension": ".py",
   "mimetype": "text/x-python",
   "name": "python",
   "nbconvert_exporter": "python",
   "pygments_lexer": "ipython3",
   "version": "3.9.16"
  }
 },
 "nbformat": 4,
 "nbformat_minor": 5
}
