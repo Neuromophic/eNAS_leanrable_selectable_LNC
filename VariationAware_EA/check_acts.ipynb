{
 "cells": [
  {
   "cell_type": "code",
   "execution_count": 1,
   "id": "f09dd090-75bc-49bc-ac25-9cfd4c3a3abf",
   "metadata": {},
   "outputs": [],
   "source": [
    "import sys\n",
    "import os\n",
    "from pathlib import Path\n",
    "sys.path.append(os.getcwd())\n",
    "sys.path.append(str(Path(os.getcwd()).parent))\n",
    "sys.path.append(os.path.join(str(Path(os.getcwd()).parent), 'NEAT_LNC_node'))\n",
    "import torch\n",
    "import NEAT_LNC_node as neat\n",
    "import pprint\n",
    "from utils import *\n",
    "from configuration import *\n",
    "from NEAT_args import *\n",
    "\n",
    "if not os.path.exists('./evaluation/'):\n",
    "    os.makedirs('./evaluation/')\n",
    "    \n",
    "args = parser.parse_args([])\n",
    "EA_args = EA_parser.parse_args([])"
   ]
  },
  {
   "cell_type": "code",
   "execution_count": 3,
   "id": "af8e8670-bc25-4194-9ef4-b7886df7f815",
   "metadata": {},
   "outputs": [
    {
     "name": "stdout",
     "output_type": "stream",
     "text": [
      "{'N_class': 2,\n",
      " 'N_feature': 6,\n",
      " 'N_test': 25,\n",
      " 'N_train': 70,\n",
      " 'N_valid': 23,\n",
      " 'dataname': 'acuteinflammation'}\n",
      "{'N_class': 3,\n",
      " 'N_feature': 4,\n",
      " 'N_test': 79,\n",
      " 'N_train': 373,\n",
      " 'N_valid': 124,\n",
      " 'dataname': 'balancescale'}\n",
      "{'N_class': 2,\n",
      " 'N_feature': 9,\n",
      " 'N_test': 79,\n",
      " 'N_train': 397,\n",
      " 'N_valid': 127,\n",
      " 'dataname': 'breastcancerwisc'}\n",
      "{'N_class': 3,\n",
      " 'N_feature': 21,\n",
      " 'N_test': 79,\n",
      " 'N_train': 397,\n",
      " 'N_valid': 127,\n",
      " 'dataname': 'cardiotocography3clases'}\n",
      "{'N_class': 3,\n",
      " 'N_feature': 8,\n",
      " 'N_test': 79,\n",
      " 'N_train': 397,\n",
      " 'N_valid': 127,\n",
      " 'dataname': 'energyy1'}\n",
      "{'N_class': 3,\n",
      " 'N_feature': 8,\n",
      " 'N_test': 79,\n",
      " 'N_train': 397,\n",
      " 'N_valid': 127,\n",
      " 'dataname': 'energyy2'}\n",
      "{'N_class': 3,\n",
      " 'N_feature': 4,\n",
      " 'N_test': 31,\n",
      " 'N_train': 88,\n",
      " 'N_valid': 29,\n",
      " 'dataname': 'iris'}\n",
      "{'N_class': 2,\n",
      " 'N_feature': 5,\n",
      " 'N_test': 79,\n",
      " 'N_train': 397,\n",
      " 'N_valid': 127,\n",
      " 'dataname': 'mammographic'}\n",
      "{'N_class': 10,\n",
      " 'N_feature': 16,\n",
      " 'N_test': 79,\n",
      " 'N_train': 397,\n",
      " 'N_valid': 127,\n",
      " 'dataname': 'pendigits'}\n",
      "{'N_class': 3,\n",
      " 'N_feature': 7,\n",
      " 'N_test': 43,\n",
      " 'N_train': 124,\n",
      " 'N_valid': 41,\n",
      " 'dataname': 'seeds'}\n",
      "{'N_class': 2,\n",
      " 'N_feature': 9,\n",
      " 'N_test': 79,\n",
      " 'N_train': 397,\n",
      " 'N_valid': 127,\n",
      " 'dataname': 'tictactoe'}\n",
      "{'N_class': 2,\n",
      " 'N_feature': 6,\n",
      " 'N_test': 63,\n",
      " 'N_train': 184,\n",
      " 'N_valid': 61,\n",
      " 'dataname': 'vertebralcolumn2clases'}\n",
      "{'N_class': 3,\n",
      " 'N_feature': 6,\n",
      " 'N_test': 63,\n",
      " 'N_train': 184,\n",
      " 'N_valid': 61,\n",
      " 'dataname': 'vertebralcolumn3clases'}\n"
     ]
    }
   ],
   "source": [
    "results = torch.zeros([13,10,3,4])\n",
    "\n",
    "args.DEVICE = 'cpu'\n",
    "\n",
    "dic = {'ptanh': 0,\n",
    "       'sigmoid': 1,\n",
    "       'hardsigmoid': 2,\n",
    "       'prelu': 3}\n",
    "\n",
    "for ds in range(13):\n",
    "    args.DATASET = ds\n",
    "    args = FormulateArgs(args)\n",
    "    valid_loader, datainfo = GetDataLoader(args, 'valid', path='../dataset/')\n",
    "    test_loader , datainfo = GetDataLoader(args, 'test',  path='../dataset/')\n",
    "    pprint.pprint(datainfo)\n",
    "    \n",
    "    for seed in range(10):\n",
    "        args.SEED = seed\n",
    "        for e, eps_train in enumerate([0.0, 0.05, 0.1]):\n",
    "            args.e_train = eps_train\n",
    "\n",
    "            modelname = f\"NEAT_data_{datainfo['dataname']}_seed_{args.SEED:02d}_epsilon_{eps_train}.model\"\n",
    "            modelpath = f'./models/{modelname}'\n",
    "            if os.path.exists(modelpath):\n",
    "                model = torch.load(modelpath)\n",
    "\n",
    "            for n in model.nodes:\n",
    "                act_temp = model.nodes[n].Activation\n",
    "\n",
    "                results[ds, seed, e, dic[act_temp]] += 1"
   ]
  },
  {
   "cell_type": "code",
   "execution_count": 4,
   "id": "ec7dd5c6-c4a5-4f05-8dac-c940a273a8e6",
   "metadata": {},
   "outputs": [
    {
     "data": {
      "text/plain": [
       "torch.Size([13, 3, 4])"
      ]
     },
     "execution_count": 4,
     "metadata": {},
     "output_type": "execute_result"
    }
   ],
   "source": [
    "re = results.sum(1)\n",
    "re.shape"
   ]
  },
  {
   "cell_type": "code",
   "execution_count": 5,
   "id": "80f898b0-ea89-483e-a624-3ae5095642ba",
   "metadata": {},
   "outputs": [
    {
     "name": "stdout",
     "output_type": "stream",
     "text": [
      "torch.Size([13, 3])\n"
     ]
    },
    {
     "data": {
      "text/plain": [
       "tensor([[ 42.,  45.,  93.],\n",
       "        [ 53.,  34.,  60.],\n",
       "        [ 56.,  26.,  35.],\n",
       "        [ 82.,  44.,  49.],\n",
       "        [ 58.,  37.,  70.],\n",
       "        [ 79.,  94., 140.],\n",
       "        [ 91., 113., 143.],\n",
       "        [ 74.,  82.,  45.],\n",
       "        [177., 233., 255.],\n",
       "        [ 74.,  84., 115.],\n",
       "        [ 39.,  50., 100.],\n",
       "        [ 57.,  78.,  85.],\n",
       "        [ 65.,  59.,  81.]])"
      ]
     },
     "execution_count": 5,
     "metadata": {},
     "output_type": "execute_result"
    }
   ],
   "source": [
    "N_neurons =  re.sum(2)\n",
    "print(N_neurons.shape)\n",
    "N_neurons"
   ]
  },
  {
   "cell_type": "code",
   "execution_count": 6,
   "id": "eadb1346-7897-4f1c-b45a-290f8c5e44ab",
   "metadata": {},
   "outputs": [
    {
     "data": {
      "text/plain": [
       "torch.Size([13, 3, 4])"
      ]
     },
     "execution_count": 6,
     "metadata": {},
     "output_type": "execute_result"
    }
   ],
   "source": [
    "re_norm = re / N_neurons[:,:,None]\n",
    "re_norm.shape"
   ]
  },
  {
   "cell_type": "code",
   "execution_count": 7,
   "id": "2b61c4db-cf31-4fd4-97ce-aa85126d51b4",
   "metadata": {},
   "outputs": [
    {
     "data": {
      "text/plain": [
       "tensor([[0.6429, 0.1667, 0.1429, 0.0476],\n",
       "        [0.4444, 0.1778, 0.2444, 0.1333],\n",
       "        [0.3548, 0.1828, 0.2258, 0.2366]])"
      ]
     },
     "execution_count": 7,
     "metadata": {},
     "output_type": "execute_result"
    }
   ],
   "source": [
    "re_norm[0]"
   ]
  },
  {
   "cell_type": "code",
   "execution_count": 8,
   "id": "6af8d22d-49aa-4a0f-8590-65623cb497bb",
   "metadata": {},
   "outputs": [],
   "source": [
    "for ds in range(13):\n",
    "    args.DATASET = ds\n",
    "    args = FormulateArgs(args)\n",
    "    valid_loader, datainfo = GetDataLoader(args, 'valid', path='../dataset/')\n",
    "\n",
    "    dataname = datainfo['dataname']\n",
    "    np.savetxt(f'./evaluation/histogram_{ds:02d}_{dataname}.txt', re_norm[ds]*100, fmt='%.5f')"
   ]
  },
  {
   "cell_type": "code",
   "execution_count": 9,
   "id": "b0c7a1fb-2188-469a-bdf9-28a73fab6abf",
   "metadata": {},
   "outputs": [
    {
     "data": {
      "text/plain": [
       "tensor([[520., 164., 131., 132.],\n",
       "        [452., 171., 185., 171.],\n",
       "        [477., 264., 266., 264.]])"
      ]
     },
     "execution_count": 9,
     "metadata": {},
     "output_type": "execute_result"
    }
   ],
   "source": [
    "re_sum = re.sum(0)\n",
    "re_sum"
   ]
  },
  {
   "cell_type": "code",
   "execution_count": 10,
   "id": "392d84d3-fe4e-4139-b40a-a25e7f661740",
   "metadata": {},
   "outputs": [
    {
     "data": {
      "text/plain": [
       "tensor([[0.5491, 0.1732, 0.1383, 0.1394],\n",
       "        [0.4617, 0.1747, 0.1890, 0.1747],\n",
       "        [0.3753, 0.2077, 0.2093, 0.2077]])"
      ]
     },
     "execution_count": 10,
     "metadata": {},
     "output_type": "execute_result"
    }
   ],
   "source": [
    "N_neurons2 = re_sum.sum(1)\n",
    "re_sum/ N_neurons2[:,None]"
   ]
  },
  {
   "cell_type": "code",
   "execution_count": null,
   "id": "afdfee65-ef6c-4550-8092-798ded909958",
   "metadata": {},
   "outputs": [],
   "source": []
  }
 ],
 "metadata": {
  "kernelspec": {
   "display_name": "pNN",
   "language": "python",
   "name": "pnn"
  },
  "language_info": {
   "codemirror_mode": {
    "name": "ipython",
    "version": 3
   },
   "file_extension": ".py",
   "mimetype": "text/x-python",
   "name": "python",
   "nbconvert_exporter": "python",
   "pygments_lexer": "ipython3",
   "version": "3.9.16"
  }
 },
 "nbformat": 4,
 "nbformat_minor": 5
}
