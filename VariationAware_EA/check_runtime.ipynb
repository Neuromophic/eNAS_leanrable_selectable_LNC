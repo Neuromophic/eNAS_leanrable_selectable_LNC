{
 "cells": [
  {
   "cell_type": "code",
   "execution_count": 29,
   "id": "f09dd090-75bc-49bc-ac25-9cfd4c3a3abf",
   "metadata": {},
   "outputs": [],
   "source": [
    "import sys\n",
    "import os\n",
    "from pathlib import Path\n",
    "import torch\n",
    "import NEAT_LNC_node as neat\n",
    "import pprint\n",
    "from utils import *\n",
    "from configuration import *\n",
    "from NEAT_args import *\n",
    "\n",
    "args = parser.parse_args([])\n",
    "EA_args = EA_parser.parse_args([])"
   ]
  },
  {
   "cell_type": "code",
   "execution_count": 32,
   "id": "af8e8670-bc25-4194-9ef4-b7886df7f815",
   "metadata": {},
   "outputs": [
    {
     "name": "stdout",
     "output_type": "stream",
     "text": [
      "{'N_class': 2,\n",
      " 'N_feature': 6,\n",
      " 'N_test': 25,\n",
      " 'N_train': 70,\n",
      " 'N_valid': 23,\n",
      " 'dataname': 'acuteinflammation'}\n",
      "{'N_class': 3,\n",
      " 'N_feature': 4,\n",
      " 'N_test': 79,\n",
      " 'N_train': 373,\n",
      " 'N_valid': 124,\n",
      " 'dataname': 'balancescale'}\n",
      "{'N_class': 2,\n",
      " 'N_feature': 9,\n",
      " 'N_test': 79,\n",
      " 'N_train': 397,\n",
      " 'N_valid': 127,\n",
      " 'dataname': 'breastcancerwisc'}\n",
      "{'N_class': 3,\n",
      " 'N_feature': 21,\n",
      " 'N_test': 79,\n",
      " 'N_train': 397,\n",
      " 'N_valid': 127,\n",
      " 'dataname': 'cardiotocography3clases'}\n",
      "{'N_class': 3,\n",
      " 'N_feature': 8,\n",
      " 'N_test': 79,\n",
      " 'N_train': 397,\n",
      " 'N_valid': 127,\n",
      " 'dataname': 'energyy1'}\n",
      "{'N_class': 3,\n",
      " 'N_feature': 8,\n",
      " 'N_test': 79,\n",
      " 'N_train': 397,\n",
      " 'N_valid': 127,\n",
      " 'dataname': 'energyy2'}\n",
      "{'N_class': 3,\n",
      " 'N_feature': 4,\n",
      " 'N_test': 31,\n",
      " 'N_train': 88,\n",
      " 'N_valid': 29,\n",
      " 'dataname': 'iris'}\n",
      "{'N_class': 2,\n",
      " 'N_feature': 5,\n",
      " 'N_test': 79,\n",
      " 'N_train': 397,\n",
      " 'N_valid': 127,\n",
      " 'dataname': 'mammographic'}\n",
      "{'N_class': 10,\n",
      " 'N_feature': 16,\n",
      " 'N_test': 79,\n",
      " 'N_train': 397,\n",
      " 'N_valid': 127,\n",
      " 'dataname': 'pendigits'}\n",
      "{'N_class': 3,\n",
      " 'N_feature': 7,\n",
      " 'N_test': 43,\n",
      " 'N_train': 124,\n",
      " 'N_valid': 41,\n",
      " 'dataname': 'seeds'}\n",
      "{'N_class': 2,\n",
      " 'N_feature': 9,\n",
      " 'N_test': 79,\n",
      " 'N_train': 397,\n",
      " 'N_valid': 127,\n",
      " 'dataname': 'tictactoe'}\n",
      "{'N_class': 2,\n",
      " 'N_feature': 6,\n",
      " 'N_test': 63,\n",
      " 'N_train': 184,\n",
      " 'N_valid': 61,\n",
      " 'dataname': 'vertebralcolumn2clases'}\n",
      "{'N_class': 3,\n",
      " 'N_feature': 6,\n",
      " 'N_test': 63,\n",
      " 'N_train': 184,\n",
      " 'N_valid': 61,\n",
      " 'dataname': 'vertebralcolumn3clases'}\n"
     ]
    }
   ],
   "source": [
    "import re\n",
    "\n",
    "results = torch.zeros([13,10,3])\n",
    "\n",
    "args.DEVICE = 'cpu'\n",
    "\n",
    "for ds in range(13):\n",
    "    args.DATASET = ds\n",
    "    args = FormulateArgs(args)\n",
    "    valid_loader, datainfo = GetDataLoader(args, 'valid', path='../dataset/')\n",
    "    test_loader , datainfo = GetDataLoader(args, 'test',  path='../dataset/')\n",
    "    pprint.pprint(datainfo)\n",
    "    \n",
    "    for seed in range(10):\n",
    "        args.SEED = seed\n",
    "        for e, eps_train in enumerate([0.0, 0.05, 0.1]):\n",
    "            args.e_train = eps_train\n",
    "\n",
    "            logname = f\"NEAT_data_{datainfo['dataname']}_seed_{args.SEED:02d}_epsilon_{eps_train}.log\"\n",
    "            logpath = f'./log/{logname}'\n",
    "            \n",
    "            if os.path.exists(logpath):\n",
    "\n",
    "                with open(logpath, 'r', encoding='utf-8') as file:\n",
    "                    data = file.read()\n",
    "\n",
    "                epoch_pattern = r\"\\|\\s+(\\d+)\\s+\\|\\s+Train\\s+\\|\"\n",
    "                epoch_matches = re.findall(epoch_pattern, data)\n",
    "                \n",
    "                time_pattern = r\"Epoch time:\\s+(\\d+\\.\\d+)\"\n",
    "                time_matches = re.findall(time_pattern, data)\n",
    "\n",
    "                epoch_numbers = torch.tensor([int(match) for match in epoch_matches], dtype=torch.int32)\n",
    "                time_values = torch.tensor([float(time) for time in time_matches], dtype=torch.float32)\n",
    "\n",
    "                epochs_col = epoch_numbers.unsqueeze(1)\n",
    "                times_col = time_values.unsqueeze(1)\n",
    "                result_tensor = torch.cat((epochs_col, times_col), dim=1)\n",
    "\n",
    "                if result_tensor.numel():\n",
    "                    mean_epoch_time = result_tensor[:,1].mean()\n",
    "                    max_epoch = result_tensor[:,0].max()\n",
    "    \n",
    "                    train_time = max_epoch * mean_epoch_time / 60 / 500\n",
    "\n",
    "                    if 'Training if finished.' in data:\n",
    "                        \n",
    "                        results[ds,seed,e] = train_time\n",
    "                        \n"
   ]
  },
  {
   "cell_type": "code",
   "execution_count": 33,
   "id": "3b91e9a6-3a46-4313-849e-fbccd01a877c",
   "metadata": {},
   "outputs": [
    {
     "data": {
      "text/plain": [
       "torch.Size([13, 10, 3])"
      ]
     },
     "execution_count": 33,
     "metadata": {},
     "output_type": "execute_result"
    }
   ],
   "source": [
    "results.shape"
   ]
  },
  {
   "cell_type": "code",
   "execution_count": 34,
   "id": "ec7dd5c6-c4a5-4f05-8dac-c940a273a8e6",
   "metadata": {},
   "outputs": [
    {
     "data": {
      "text/plain": [
       "torch.Size([13])"
      ]
     },
     "execution_count": 34,
     "metadata": {},
     "output_type": "execute_result"
    }
   ],
   "source": [
    "re = results.mean([1,2])\n",
    "re.shape"
   ]
  },
  {
   "cell_type": "code",
   "execution_count": 35,
   "id": "ee80bf34-2823-4e7f-8d2a-63114306c490",
   "metadata": {},
   "outputs": [
    {
     "data": {
      "text/plain": [
       "tensor([ 9.5397, 21.6374, 11.6093, 19.0386, 15.0579, 10.3290,  7.3446,  5.0140,\n",
       "        14.1820,  6.4070,  6.4419,  4.5694,  9.6275])"
      ]
     },
     "execution_count": 35,
     "metadata": {},
     "output_type": "execute_result"
    }
   ],
   "source": [
    "re"
   ]
  },
  {
   "cell_type": "code",
   "execution_count": null,
   "id": "8d886c3f-73df-4566-82e0-4797f2db9112",
   "metadata": {},
   "outputs": [],
   "source": []
  }
 ],
 "metadata": {
  "kernelspec": {
   "display_name": "pNN",
   "language": "python",
   "name": "pnn"
  },
  "language_info": {
   "codemirror_mode": {
    "name": "ipython",
    "version": 3
   },
   "file_extension": ".py",
   "mimetype": "text/x-python",
   "name": "python",
   "nbconvert_exporter": "python",
   "pygments_lexer": "ipython3",
   "version": "3.9.16"
  }
 },
 "nbformat": 4,
 "nbformat_minor": 5
}
